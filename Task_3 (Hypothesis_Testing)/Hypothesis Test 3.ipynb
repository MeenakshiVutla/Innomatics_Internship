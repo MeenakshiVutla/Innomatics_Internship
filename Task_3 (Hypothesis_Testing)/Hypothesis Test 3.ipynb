{
 "cells": [
  {
   "cell_type": "markdown",
   "metadata": {},
   "source": [
    "|| <b> INNOMATICS RESEARCH LABS </b> ||"
   ]
  },
  {
   "cell_type": "markdown",
   "metadata": {},
   "source": [
    "||<b> HYPOTHESIS TESTING </b>||"
   ]
  },
  {
   "cell_type": "code",
   "execution_count": 1,
   "metadata": {},
   "outputs": [],
   "source": [
    "import matplotlib.pyplot as plt\n",
    "import numpy as np\n",
    "from scipy.stats import t\n"
   ]
  },
  {
   "cell_type": "markdown",
   "metadata": {},
   "source": [
    "<b>Q-3: TATA has developed a better fuel management system for the SUV segment. They claim that with this system, on average the SUV's mileage is at least 15 km/litre? ~(Given that the population std is 1)~</b>"
   ]
  },
  {
   "cell_type": "code",
   "execution_count": 6,
   "metadata": {},
   "outputs": [],
   "source": [
    "# t-score for sampling distributions\n",
    "\n",
    "def t_score(sample_size, sample_mean, pop_mean, sample_std):\n",
    "    numerator = sample_mean - pop_mean\n",
    "    denomenator = sample_std / sample_size**0.5\n",
    "    return numerator / denomenator"
   ]
  },
  {
   "cell_type": "markdown",
   "metadata": {},
   "source": [
    "<b>Step 1:</b>\n",
    "Alternate Hypothesis(Bold Claim) : $H_1$: $\\mu > 15 $\n",
    "\n",
    "Null Hypothesis(Status Quo) :$H_0$: $ \\mu \\leq 15 $\n",
    "\n",
    "<b>Step 2:</b>\n",
    "\n",
    "<b>*</b>Collect a sample of size n = 20\n",
    "\n",
    "<b>$[14.08,14.13,15.65,13.78,16.26,14.97,15.36,15.81,14.53,16.79,15.7,16.98,13.23,15.43,15.46,13.88,14.31,14.41,15.76,15.38]$</b>\n",
    "\n",
    "<b>*</b>Compute sample mean,<b>$ \\bar x = 15.1 $ </b>\n",
    "\n",
    " \n",
    "<b>Step 3:</b>\n",
    "Compute Test Statistic:\n",
    "$$t =\\frac{\\bar{x}-\\mu}{s/\\sqrt[2]{n}}$$\n",
    "\n",
    "<b>Step - 4:</b>\n",
    "Decide α\n",
    "\n",
    "<b>Step - 5.1:</b>\n",
    " Right tailed t-test:$$ reject      H_0    if |t| > t_n-_1, _\\alpha  $$\n",
    "\n",
    "<b>Step - 5.2:</b>\n",
    "Compute p-value:"
   ]
  },
  {
   "cell_type": "code",
   "execution_count": 18,
   "metadata": {},
   "outputs": [
    {
     "data": {
      "text/plain": [
       "15.094999999999999"
      ]
     },
     "execution_count": 18,
     "metadata": {},
     "output_type": "execute_result"
    }
   ],
   "source": [
    "lst2=[14.08,14.13,15.65,13.78,16.26,14.97,15.36,15.81,14.53,16.79,15.7,16.98,13.23,15.43,15.46,13.88,14.31,14.41,15.76,15.38]\n",
    "sum(lst2)/len(lst2)"
   ]
  },
  {
   "cell_type": "code",
   "execution_count": 19,
   "metadata": {},
   "outputs": [
    {
     "name": "stdout",
     "output_type": "stream",
     "text": [
      "1.729132811521367\n"
     ]
    }
   ],
   "source": [
    "#One Tail\n",
    "\n",
    "alpha = 1-0.95\n",
    "\n",
    "t_critical = t.ppf(1 - alpha,df=19)\n",
    "\n",
    "\n",
    "print(t_critical)"
   ]
  },
  {
   "cell_type": "code",
   "execution_count": 20,
   "metadata": {},
   "outputs": [],
   "source": [
    "sample_size = 20\n",
    "sample_mean = 15.098\n",
    "pop_mean = 15\n",
    "sample_std = 1.025"
   ]
  },
  {
   "cell_type": "code",
   "execution_count": 21,
   "metadata": {},
   "outputs": [
    {
     "data": {
      "text/plain": [
       "1.0227280340241716"
      ]
     },
     "execution_count": 21,
     "metadata": {},
     "output_type": "execute_result"
    }
   ],
   "source": [
    "#Calculating the sample standard deviation\n",
    "\n",
    "total_sum=0\n",
    "for i in lst2:\n",
    "    value=(i-sample_mean)**2\n",
    "    total_sum+=value\n",
    "n=20\n",
    "sample_std=(total_sum/(n-1))**0.5\n",
    "sample_std"
   ]
  },
  {
   "cell_type": "code",
   "execution_count": 22,
   "metadata": {},
   "outputs": [
    {
     "name": "stdout",
     "output_type": "stream",
     "text": [
      "0.42852968629938226\n"
     ]
    }
   ],
   "source": [
    "t1 = t_score(sample_size, sample_mean, pop_mean, sample_std)\n",
    "\n",
    "print(t1)"
   ]
  },
  {
   "cell_type": "code",
   "execution_count": 23,
   "metadata": {},
   "outputs": [
    {
     "data": {
      "text/plain": [
       "Text(15.098, 0.1, 'x_bar')"
      ]
     },
     "execution_count": 23,
     "metadata": {},
     "output_type": "execute_result"
    },
    {
     "data": {
      "image/png": "[encoded data removed]",
      "text/plain": [
       "<Figure size 432x288 with 1 Axes>"
      ]
     },
     "metadata": {
      "needs_background": "light"
     },
     "output_type": "display_data"
    }
   ],
   "source": [
    "# Ploting the sampling distribution with rejection regions\n",
    "\n",
    "# Defining the x minimum and x maximum\n",
    "x_min = 13\n",
    "x_max = 17\n",
    "\n",
    "#defining the sample mean and Sample standard distribution\n",
    "mean = pop_mean\n",
    "std = sample_std / (sample_size**0.5)\n",
    "\n",
    "\n",
    "#Plotting the graph and setting X limits\n",
    "x = np.linspace(x_min, x_max, 100)\n",
    "y = t.pdf(x, df=sample_size-1,loc=mean, scale=std)\n",
    "plt.xlim(x_min, x_max)\n",
    "plt.plot(x, y)\n",
    "\n",
    "\n",
    "#Computing the right critical value(Right Tailed Test)\n",
    "t_critical_right = pop_mean + (t_critical * std)\n",
    "\n",
    "# Shading the right rejection region\n",
    "x1 = np.linspace(t_critical_right, x_max, 100)\n",
    "y1 = t.pdf(x1,df=sample_size-1,loc=mean, scale=std)\n",
    "plt.fill_between(x1, y1, color='orange')\n",
    "\n",
    "# Ploting the sample mean and concluding the results \n",
    "plt.scatter(sample_mean, 0)\n",
    "plt.annotate(\"x_bar\", (sample_mean, 0.1))\n",
    "\n",
    "# In this case sample mean falls in the acceptance region\n",
    "# i.e. Fail to Reject the Null Hypothesis"
   ]
  },
  {
   "cell_type": "code",
   "execution_count": 24,
   "metadata": {},
   "outputs": [
    {
     "name": "stdout",
     "output_type": "stream",
     "text": [
      "Fail to reject Null Hypothesis\n"
     ]
    }
   ],
   "source": [
    "if(t1 > t_critical):   \n",
    "    print(\"Reject Null Hypothesis\")\n",
    "else:\n",
    "    print(\"Fail to reject Null Hypothesis\")\n"
   ]
  },
  {
   "cell_type": "code",
   "execution_count": 25,
   "metadata": {},
   "outputs": [
    {
     "name": "stdout",
     "output_type": "stream",
     "text": [
      "p_value = 0.3298886417717065\n",
      "Fail to reject Null Hypothesis\n"
     ]
    }
   ],
   "source": [
    "import scipy.stats\n",
    "\n",
    "p_value = scipy.stats.t.sf(abs(0.4472135954999564),df=19)\n",
    "\n",
    "print('p_value =', p_value)\n",
    "\n",
    "if(p_value < 0.05):\n",
    "    print(\"Reject Null Hypothesis\")\n",
    "else:\n",
    "    print(\"Fail to reject Null Hypothesis\")\n"
   ]
  },
  {
   "cell_type": "code",
   "execution_count": null,
   "metadata": {},
   "outputs": [],
   "source": []
  },
  {
   "cell_type": "code",
   "execution_count": null,
   "metadata": {},
   "outputs": [],
   "source": []
  },
  {
   "cell_type": "code",
   "execution_count": null,
   "metadata": {},
   "outputs": [],
   "source": []
  }
 ],
 "metadata": {
  "kernelspec": {
   "display_name": "Python 3",
   "language": "python",
   "name": "python3"
  },
  "language_info": {
   "codemirror_mode": {
    "name": "ipython",
    "version": 3
   },
   "file_extension": ".py",
   "mimetype": "text/x-python",
   "name": "python",
   "nbconvert_exporter": "python",
   "pygments_lexer": "ipython3",
   "version": "3.7.4"
  }
 },
 "nbformat": 4,
 "nbformat_minor": 2
}
