{
 "cells": [
  {
   "cell_type": "markdown",
   "metadata": {},
   "source": [
    "<b> DATASET\n",
    "    \n",
    "   This data set contains about the bank information like credit cards,debit cards,savings account,current accounts etc,fixed deposits and many other things to the customers.All personally identifying information has from the data. We will perform exploratory data analysis with python to get insight from the data.</b>"
   ]
  },
  {
   "cell_type": "markdown",
   "metadata": {},
   "source": [
    "<b> IMPORTING THE REQUIRED LIBRARIES </b>"
   ]
  },
  {
   "cell_type": "code",
   "execution_count": 298,
   "metadata": {},
   "outputs": [],
   "source": [
    "import pandas as pd\n",
    "import seaborn as sns\n",
    "import numpy as np\n",
    "from matplotlib import pyplot as plt\n",
    "%matplotlib inline\n",
    "import plotly.express as px\n"
   ]
  },
  {
   "cell_type": "markdown",
   "metadata": {},
   "source": [
    "<b> DATA UPLOADING </b>"
   ]
  },
  {
   "cell_type": "code",
   "execution_count": 299,
   "metadata": {
    "scrolled": true
   },
   "outputs": [],
   "source": [
    "bank= pd.read_csv(r'C:\\Users\\LENOVO\\Downloads\\BankData.csv')"
   ]
  },
  {
   "cell_type": "code",
   "execution_count": 300,
   "metadata": {
    "scrolled": true
   },
   "outputs": [
    {
     "data": {
      "text/html": [
       "<div>\n",
       "<style scoped>\n",
       "    .dataframe tbody tr th:only-of-type {\n",
       "        vertical-align: middle;\n",
       "    }\n",
       "\n",
       "    .dataframe tbody tr th {\n",
       "        vertical-align: top;\n",
       "    }\n",
       "\n",
       "    .dataframe thead th {\n",
       "        text-align: right;\n",
       "    }\n",
       "</style>\n",
       "<table border=\"1\" class=\"dataframe\">\n",
       "  <thead>\n",
       "    <tr style=\"text-align: right;\">\n",
       "      <th></th>\n",
       "      <th>customerid</th>\n",
       "      <th>age</th>\n",
       "      <th>salary</th>\n",
       "      <th>balance</th>\n",
       "      <th>marital</th>\n",
       "      <th>jobedu</th>\n",
       "      <th>targeted</th>\n",
       "      <th>default</th>\n",
       "      <th>housing</th>\n",
       "      <th>loan</th>\n",
       "      <th>contact</th>\n",
       "      <th>day</th>\n",
       "      <th>month</th>\n",
       "      <th>duration</th>\n",
       "      <th>campaign</th>\n",
       "      <th>pdays</th>\n",
       "      <th>previous</th>\n",
       "      <th>poutcome</th>\n",
       "      <th>response</th>\n",
       "    </tr>\n",
       "  </thead>\n",
       "  <tbody>\n",
       "    <tr>\n",
       "      <td>0</td>\n",
       "      <td>1</td>\n",
       "      <td>58.0</td>\n",
       "      <td>100000</td>\n",
       "      <td>2143</td>\n",
       "      <td>married</td>\n",
       "      <td>management,tertiary</td>\n",
       "      <td>yes</td>\n",
       "      <td>no</td>\n",
       "      <td>yes</td>\n",
       "      <td>no</td>\n",
       "      <td>unknown</td>\n",
       "      <td>5</td>\n",
       "      <td>may, 2017</td>\n",
       "      <td>261 sec</td>\n",
       "      <td>1</td>\n",
       "      <td>-1</td>\n",
       "      <td>0</td>\n",
       "      <td>unknown</td>\n",
       "      <td>no</td>\n",
       "    </tr>\n",
       "    <tr>\n",
       "      <td>1</td>\n",
       "      <td>2</td>\n",
       "      <td>44.0</td>\n",
       "      <td>60000</td>\n",
       "      <td>29</td>\n",
       "      <td>single</td>\n",
       "      <td>technician,secondary</td>\n",
       "      <td>yes</td>\n",
       "      <td>no</td>\n",
       "      <td>yes</td>\n",
       "      <td>no</td>\n",
       "      <td>unknown</td>\n",
       "      <td>5</td>\n",
       "      <td>may, 2017</td>\n",
       "      <td>151 sec</td>\n",
       "      <td>1</td>\n",
       "      <td>-1</td>\n",
       "      <td>0</td>\n",
       "      <td>unknown</td>\n",
       "      <td>no</td>\n",
       "    </tr>\n",
       "    <tr>\n",
       "      <td>2</td>\n",
       "      <td>3</td>\n",
       "      <td>33.0</td>\n",
       "      <td>120000</td>\n",
       "      <td>2</td>\n",
       "      <td>married</td>\n",
       "      <td>entrepreneur,secondary</td>\n",
       "      <td>yes</td>\n",
       "      <td>no</td>\n",
       "      <td>yes</td>\n",
       "      <td>yes</td>\n",
       "      <td>unknown</td>\n",
       "      <td>5</td>\n",
       "      <td>may, 2017</td>\n",
       "      <td>76 sec</td>\n",
       "      <td>1</td>\n",
       "      <td>-1</td>\n",
       "      <td>0</td>\n",
       "      <td>unknown</td>\n",
       "      <td>no</td>\n",
       "    </tr>\n",
       "    <tr>\n",
       "      <td>3</td>\n",
       "      <td>4</td>\n",
       "      <td>47.0</td>\n",
       "      <td>20000</td>\n",
       "      <td>1506</td>\n",
       "      <td>married</td>\n",
       "      <td>blue-collar,unknown</td>\n",
       "      <td>no</td>\n",
       "      <td>no</td>\n",
       "      <td>yes</td>\n",
       "      <td>no</td>\n",
       "      <td>unknown</td>\n",
       "      <td>5</td>\n",
       "      <td>may, 2017</td>\n",
       "      <td>92 sec</td>\n",
       "      <td>1</td>\n",
       "      <td>-1</td>\n",
       "      <td>0</td>\n",
       "      <td>unknown</td>\n",
       "      <td>no</td>\n",
       "    </tr>\n",
       "    <tr>\n",
       "      <td>4</td>\n",
       "      <td>5</td>\n",
       "      <td>33.0</td>\n",
       "      <td>0</td>\n",
       "      <td>1</td>\n",
       "      <td>single</td>\n",
       "      <td>unknown,unknown</td>\n",
       "      <td>no</td>\n",
       "      <td>no</td>\n",
       "      <td>no</td>\n",
       "      <td>no</td>\n",
       "      <td>unknown</td>\n",
       "      <td>5</td>\n",
       "      <td>may, 2017</td>\n",
       "      <td>198 sec</td>\n",
       "      <td>1</td>\n",
       "      <td>-1</td>\n",
       "      <td>0</td>\n",
       "      <td>unknown</td>\n",
       "      <td>no</td>\n",
       "    </tr>\n",
       "    <tr>\n",
       "      <td>...</td>\n",
       "      <td>...</td>\n",
       "      <td>...</td>\n",
       "      <td>...</td>\n",
       "      <td>...</td>\n",
       "      <td>...</td>\n",
       "      <td>...</td>\n",
       "      <td>...</td>\n",
       "      <td>...</td>\n",
       "      <td>...</td>\n",
       "      <td>...</td>\n",
       "      <td>...</td>\n",
       "      <td>...</td>\n",
       "      <td>...</td>\n",
       "      <td>...</td>\n",
       "      <td>...</td>\n",
       "      <td>...</td>\n",
       "      <td>...</td>\n",
       "      <td>...</td>\n",
       "      <td>...</td>\n",
       "    </tr>\n",
       "    <tr>\n",
       "      <td>45206</td>\n",
       "      <td>45207</td>\n",
       "      <td>51.0</td>\n",
       "      <td>60000</td>\n",
       "      <td>825</td>\n",
       "      <td>married</td>\n",
       "      <td>technician,tertiary</td>\n",
       "      <td>yes</td>\n",
       "      <td>no</td>\n",
       "      <td>no</td>\n",
       "      <td>no</td>\n",
       "      <td>cellular</td>\n",
       "      <td>17</td>\n",
       "      <td>nov, 2017</td>\n",
       "      <td>16.2833333333333 min</td>\n",
       "      <td>3</td>\n",
       "      <td>-1</td>\n",
       "      <td>0</td>\n",
       "      <td>unknown</td>\n",
       "      <td>yes</td>\n",
       "    </tr>\n",
       "    <tr>\n",
       "      <td>45207</td>\n",
       "      <td>45208</td>\n",
       "      <td>71.0</td>\n",
       "      <td>55000</td>\n",
       "      <td>1729</td>\n",
       "      <td>divorced</td>\n",
       "      <td>retired,primary</td>\n",
       "      <td>yes</td>\n",
       "      <td>no</td>\n",
       "      <td>no</td>\n",
       "      <td>no</td>\n",
       "      <td>cellular</td>\n",
       "      <td>17</td>\n",
       "      <td>nov, 2017</td>\n",
       "      <td>7.6 min</td>\n",
       "      <td>2</td>\n",
       "      <td>-1</td>\n",
       "      <td>0</td>\n",
       "      <td>unknown</td>\n",
       "      <td>yes</td>\n",
       "    </tr>\n",
       "    <tr>\n",
       "      <td>45208</td>\n",
       "      <td>45209</td>\n",
       "      <td>72.0</td>\n",
       "      <td>55000</td>\n",
       "      <td>5715</td>\n",
       "      <td>married</td>\n",
       "      <td>retired,secondary</td>\n",
       "      <td>yes</td>\n",
       "      <td>no</td>\n",
       "      <td>no</td>\n",
       "      <td>no</td>\n",
       "      <td>cellular</td>\n",
       "      <td>17</td>\n",
       "      <td>nov, 2017</td>\n",
       "      <td>18.7833333333333 min</td>\n",
       "      <td>5</td>\n",
       "      <td>184</td>\n",
       "      <td>3</td>\n",
       "      <td>success</td>\n",
       "      <td>yes</td>\n",
       "    </tr>\n",
       "    <tr>\n",
       "      <td>45209</td>\n",
       "      <td>45210</td>\n",
       "      <td>57.0</td>\n",
       "      <td>20000</td>\n",
       "      <td>668</td>\n",
       "      <td>married</td>\n",
       "      <td>blue-collar,secondary</td>\n",
       "      <td>yes</td>\n",
       "      <td>no</td>\n",
       "      <td>no</td>\n",
       "      <td>no</td>\n",
       "      <td>telephone</td>\n",
       "      <td>17</td>\n",
       "      <td>nov, 2017</td>\n",
       "      <td>8.46666666666667 min</td>\n",
       "      <td>4</td>\n",
       "      <td>-1</td>\n",
       "      <td>0</td>\n",
       "      <td>unknown</td>\n",
       "      <td>no</td>\n",
       "    </tr>\n",
       "    <tr>\n",
       "      <td>45210</td>\n",
       "      <td>45211</td>\n",
       "      <td>37.0</td>\n",
       "      <td>120000</td>\n",
       "      <td>2971</td>\n",
       "      <td>married</td>\n",
       "      <td>entrepreneur,secondary</td>\n",
       "      <td>yes</td>\n",
       "      <td>no</td>\n",
       "      <td>no</td>\n",
       "      <td>no</td>\n",
       "      <td>cellular</td>\n",
       "      <td>17</td>\n",
       "      <td>nov, 2017</td>\n",
       "      <td>6.01666666666667 min</td>\n",
       "      <td>2</td>\n",
       "      <td>188</td>\n",
       "      <td>11</td>\n",
       "      <td>other</td>\n",
       "      <td>no</td>\n",
       "    </tr>\n",
       "  </tbody>\n",
       "</table>\n",
       "<p>45211 rows × 19 columns</p>\n",
       "</div>"
      ],
      "text/plain": [
       "       customerid   age  salary  balance   marital                  jobedu  \\\n",
       "0               1  58.0  100000     2143   married     management,tertiary   \n",
       "1               2  44.0   60000       29    single    technician,secondary   \n",
       "2               3  33.0  120000        2   married  entrepreneur,secondary   \n",
       "3               4  47.0   20000     1506   married     blue-collar,unknown   \n",
       "4               5  33.0       0        1    single         unknown,unknown   \n",
       "...           ...   ...     ...      ...       ...                     ...   \n",
       "45206       45207  51.0   60000      825   married     technician,tertiary   \n",
       "45207       45208  71.0   55000     1729  divorced         retired,primary   \n",
       "45208       45209  72.0   55000     5715   married       retired,secondary   \n",
       "45209       45210  57.0   20000      668   married   blue-collar,secondary   \n",
       "45210       45211  37.0  120000     2971   married  entrepreneur,secondary   \n",
       "\n",
       "      targeted default housing loan    contact  day      month  \\\n",
       "0          yes      no     yes   no    unknown    5  may, 2017   \n",
       "1          yes      no     yes   no    unknown    5  may, 2017   \n",
       "2          yes      no     yes  yes    unknown    5  may, 2017   \n",
       "3           no      no     yes   no    unknown    5  may, 2017   \n",
       "4           no      no      no   no    unknown    5  may, 2017   \n",
       "...        ...     ...     ...  ...        ...  ...        ...   \n",
       "45206      yes      no      no   no   cellular   17  nov, 2017   \n",
       "45207      yes      no      no   no   cellular   17  nov, 2017   \n",
       "45208      yes      no      no   no   cellular   17  nov, 2017   \n",
       "45209      yes      no      no   no  telephone   17  nov, 2017   \n",
       "45210      yes      no      no   no   cellular   17  nov, 2017   \n",
       "\n",
       "                   duration  campaign  pdays  previous poutcome response  \n",
       "0                   261 sec         1     -1         0  unknown       no  \n",
       "1                   151 sec         1     -1         0  unknown       no  \n",
       "2                    76 sec         1     -1         0  unknown       no  \n",
       "3                    92 sec         1     -1         0  unknown       no  \n",
       "4                   198 sec         1     -1         0  unknown       no  \n",
       "...                     ...       ...    ...       ...      ...      ...  \n",
       "45206  16.2833333333333 min         3     -1         0  unknown      yes  \n",
       "45207               7.6 min         2     -1         0  unknown      yes  \n",
       "45208  18.7833333333333 min         5    184         3  success      yes  \n",
       "45209  8.46666666666667 min         4     -1         0  unknown       no  \n",
       "45210  6.01666666666667 min         2    188        11    other       no  \n",
       "\n",
       "[45211 rows x 19 columns]"
      ]
     },
     "execution_count": 300,
     "metadata": {},
     "output_type": "execute_result"
    }
   ],
   "source": [
    "bank"
   ]
  },
  {
   "cell_type": "code",
   "execution_count": 301,
   "metadata": {},
   "outputs": [
    {
     "data": {
      "text/html": [
       "<div>\n",
       "<style scoped>\n",
       "    .dataframe tbody tr th:only-of-type {\n",
       "        vertical-align: middle;\n",
       "    }\n",
       "\n",
       "    .dataframe tbody tr th {\n",
       "        vertical-align: top;\n",
       "    }\n",
       "\n",
       "    .dataframe thead th {\n",
       "        text-align: right;\n",
       "    }\n",
       "</style>\n",
       "<table border=\"1\" class=\"dataframe\">\n",
       "  <thead>\n",
       "    <tr style=\"text-align: right;\">\n",
       "      <th></th>\n",
       "      <th>customerid</th>\n",
       "      <th>age</th>\n",
       "      <th>salary</th>\n",
       "      <th>balance</th>\n",
       "      <th>marital</th>\n",
       "      <th>jobedu</th>\n",
       "      <th>targeted</th>\n",
       "      <th>default</th>\n",
       "      <th>housing</th>\n",
       "      <th>loan</th>\n",
       "      <th>contact</th>\n",
       "      <th>day</th>\n",
       "      <th>month</th>\n",
       "      <th>duration</th>\n",
       "      <th>campaign</th>\n",
       "      <th>pdays</th>\n",
       "      <th>previous</th>\n",
       "      <th>poutcome</th>\n",
       "      <th>response</th>\n",
       "    </tr>\n",
       "  </thead>\n",
       "  <tbody>\n",
       "    <tr>\n",
       "      <td>0</td>\n",
       "      <td>1</td>\n",
       "      <td>58.0</td>\n",
       "      <td>100000</td>\n",
       "      <td>2143</td>\n",
       "      <td>married</td>\n",
       "      <td>management,tertiary</td>\n",
       "      <td>yes</td>\n",
       "      <td>no</td>\n",
       "      <td>yes</td>\n",
       "      <td>no</td>\n",
       "      <td>unknown</td>\n",
       "      <td>5</td>\n",
       "      <td>may, 2017</td>\n",
       "      <td>261 sec</td>\n",
       "      <td>1</td>\n",
       "      <td>-1</td>\n",
       "      <td>0</td>\n",
       "      <td>unknown</td>\n",
       "      <td>no</td>\n",
       "    </tr>\n",
       "    <tr>\n",
       "      <td>1</td>\n",
       "      <td>2</td>\n",
       "      <td>44.0</td>\n",
       "      <td>60000</td>\n",
       "      <td>29</td>\n",
       "      <td>single</td>\n",
       "      <td>technician,secondary</td>\n",
       "      <td>yes</td>\n",
       "      <td>no</td>\n",
       "      <td>yes</td>\n",
       "      <td>no</td>\n",
       "      <td>unknown</td>\n",
       "      <td>5</td>\n",
       "      <td>may, 2017</td>\n",
       "      <td>151 sec</td>\n",
       "      <td>1</td>\n",
       "      <td>-1</td>\n",
       "      <td>0</td>\n",
       "      <td>unknown</td>\n",
       "      <td>no</td>\n",
       "    </tr>\n",
       "    <tr>\n",
       "      <td>2</td>\n",
       "      <td>3</td>\n",
       "      <td>33.0</td>\n",
       "      <td>120000</td>\n",
       "      <td>2</td>\n",
       "      <td>married</td>\n",
       "      <td>entrepreneur,secondary</td>\n",
       "      <td>yes</td>\n",
       "      <td>no</td>\n",
       "      <td>yes</td>\n",
       "      <td>yes</td>\n",
       "      <td>unknown</td>\n",
       "      <td>5</td>\n",
       "      <td>may, 2017</td>\n",
       "      <td>76 sec</td>\n",
       "      <td>1</td>\n",
       "      <td>-1</td>\n",
       "      <td>0</td>\n",
       "      <td>unknown</td>\n",
       "      <td>no</td>\n",
       "    </tr>\n",
       "    <tr>\n",
       "      <td>3</td>\n",
       "      <td>4</td>\n",
       "      <td>47.0</td>\n",
       "      <td>20000</td>\n",
       "      <td>1506</td>\n",
       "      <td>married</td>\n",
       "      <td>blue-collar,unknown</td>\n",
       "      <td>no</td>\n",
       "      <td>no</td>\n",
       "      <td>yes</td>\n",
       "      <td>no</td>\n",
       "      <td>unknown</td>\n",
       "      <td>5</td>\n",
       "      <td>may, 2017</td>\n",
       "      <td>92 sec</td>\n",
       "      <td>1</td>\n",
       "      <td>-1</td>\n",
       "      <td>0</td>\n",
       "      <td>unknown</td>\n",
       "      <td>no</td>\n",
       "    </tr>\n",
       "    <tr>\n",
       "      <td>4</td>\n",
       "      <td>5</td>\n",
       "      <td>33.0</td>\n",
       "      <td>0</td>\n",
       "      <td>1</td>\n",
       "      <td>single</td>\n",
       "      <td>unknown,unknown</td>\n",
       "      <td>no</td>\n",
       "      <td>no</td>\n",
       "      <td>no</td>\n",
       "      <td>no</td>\n",
       "      <td>unknown</td>\n",
       "      <td>5</td>\n",
       "      <td>may, 2017</td>\n",
       "      <td>198 sec</td>\n",
       "      <td>1</td>\n",
       "      <td>-1</td>\n",
       "      <td>0</td>\n",
       "      <td>unknown</td>\n",
       "      <td>no</td>\n",
       "    </tr>\n",
       "  </tbody>\n",
       "</table>\n",
       "</div>"
      ],
      "text/plain": [
       "   customerid   age  salary  balance  marital                  jobedu  \\\n",
       "0           1  58.0  100000     2143  married     management,tertiary   \n",
       "1           2  44.0   60000       29   single    technician,secondary   \n",
       "2           3  33.0  120000        2  married  entrepreneur,secondary   \n",
       "3           4  47.0   20000     1506  married     blue-collar,unknown   \n",
       "4           5  33.0       0        1   single         unknown,unknown   \n",
       "\n",
       "  targeted default housing loan  contact  day      month duration  campaign  \\\n",
       "0      yes      no     yes   no  unknown    5  may, 2017  261 sec         1   \n",
       "1      yes      no     yes   no  unknown    5  may, 2017  151 sec         1   \n",
       "2      yes      no     yes  yes  unknown    5  may, 2017   76 sec         1   \n",
       "3       no      no     yes   no  unknown    5  may, 2017   92 sec         1   \n",
       "4       no      no      no   no  unknown    5  may, 2017  198 sec         1   \n",
       "\n",
       "   pdays  previous poutcome response  \n",
       "0     -1         0  unknown       no  \n",
       "1     -1         0  unknown       no  \n",
       "2     -1         0  unknown       no  \n",
       "3     -1         0  unknown       no  \n",
       "4     -1         0  unknown       no  "
      ]
     },
     "execution_count": 301,
     "metadata": {},
     "output_type": "execute_result"
    }
   ],
   "source": [
    "bank.head()"
   ]
  },
  {
   "cell_type": "code",
   "execution_count": 302,
   "metadata": {},
   "outputs": [
    {
     "data": {
      "text/html": [
       "<div>\n",
       "<style scoped>\n",
       "    .dataframe tbody tr th:only-of-type {\n",
       "        vertical-align: middle;\n",
       "    }\n",
       "\n",
       "    .dataframe tbody tr th {\n",
       "        vertical-align: top;\n",
       "    }\n",
       "\n",
       "    .dataframe thead th {\n",
       "        text-align: right;\n",
       "    }\n",
       "</style>\n",
       "<table border=\"1\" class=\"dataframe\">\n",
       "  <thead>\n",
       "    <tr style=\"text-align: right;\">\n",
       "      <th></th>\n",
       "      <th>customerid</th>\n",
       "      <th>age</th>\n",
       "      <th>salary</th>\n",
       "      <th>balance</th>\n",
       "      <th>marital</th>\n",
       "      <th>jobedu</th>\n",
       "      <th>targeted</th>\n",
       "      <th>default</th>\n",
       "      <th>housing</th>\n",
       "      <th>loan</th>\n",
       "      <th>contact</th>\n",
       "      <th>day</th>\n",
       "      <th>month</th>\n",
       "      <th>duration</th>\n",
       "      <th>campaign</th>\n",
       "      <th>pdays</th>\n",
       "      <th>previous</th>\n",
       "      <th>poutcome</th>\n",
       "      <th>response</th>\n",
       "    </tr>\n",
       "  </thead>\n",
       "  <tbody>\n",
       "    <tr>\n",
       "      <td>45206</td>\n",
       "      <td>45207</td>\n",
       "      <td>51.0</td>\n",
       "      <td>60000</td>\n",
       "      <td>825</td>\n",
       "      <td>married</td>\n",
       "      <td>technician,tertiary</td>\n",
       "      <td>yes</td>\n",
       "      <td>no</td>\n",
       "      <td>no</td>\n",
       "      <td>no</td>\n",
       "      <td>cellular</td>\n",
       "      <td>17</td>\n",
       "      <td>nov, 2017</td>\n",
       "      <td>16.2833333333333 min</td>\n",
       "      <td>3</td>\n",
       "      <td>-1</td>\n",
       "      <td>0</td>\n",
       "      <td>unknown</td>\n",
       "      <td>yes</td>\n",
       "    </tr>\n",
       "    <tr>\n",
       "      <td>45207</td>\n",
       "      <td>45208</td>\n",
       "      <td>71.0</td>\n",
       "      <td>55000</td>\n",
       "      <td>1729</td>\n",
       "      <td>divorced</td>\n",
       "      <td>retired,primary</td>\n",
       "      <td>yes</td>\n",
       "      <td>no</td>\n",
       "      <td>no</td>\n",
       "      <td>no</td>\n",
       "      <td>cellular</td>\n",
       "      <td>17</td>\n",
       "      <td>nov, 2017</td>\n",
       "      <td>7.6 min</td>\n",
       "      <td>2</td>\n",
       "      <td>-1</td>\n",
       "      <td>0</td>\n",
       "      <td>unknown</td>\n",
       "      <td>yes</td>\n",
       "    </tr>\n",
       "    <tr>\n",
       "      <td>45208</td>\n",
       "      <td>45209</td>\n",
       "      <td>72.0</td>\n",
       "      <td>55000</td>\n",
       "      <td>5715</td>\n",
       "      <td>married</td>\n",
       "      <td>retired,secondary</td>\n",
       "      <td>yes</td>\n",
       "      <td>no</td>\n",
       "      <td>no</td>\n",
       "      <td>no</td>\n",
       "      <td>cellular</td>\n",
       "      <td>17</td>\n",
       "      <td>nov, 2017</td>\n",
       "      <td>18.7833333333333 min</td>\n",
       "      <td>5</td>\n",
       "      <td>184</td>\n",
       "      <td>3</td>\n",
       "      <td>success</td>\n",
       "      <td>yes</td>\n",
       "    </tr>\n",
       "    <tr>\n",
       "      <td>45209</td>\n",
       "      <td>45210</td>\n",
       "      <td>57.0</td>\n",
       "      <td>20000</td>\n",
       "      <td>668</td>\n",
       "      <td>married</td>\n",
       "      <td>blue-collar,secondary</td>\n",
       "      <td>yes</td>\n",
       "      <td>no</td>\n",
       "      <td>no</td>\n",
       "      <td>no</td>\n",
       "      <td>telephone</td>\n",
       "      <td>17</td>\n",
       "      <td>nov, 2017</td>\n",
       "      <td>8.46666666666667 min</td>\n",
       "      <td>4</td>\n",
       "      <td>-1</td>\n",
       "      <td>0</td>\n",
       "      <td>unknown</td>\n",
       "      <td>no</td>\n",
       "    </tr>\n",
       "    <tr>\n",
       "      <td>45210</td>\n",
       "      <td>45211</td>\n",
       "      <td>37.0</td>\n",
       "      <td>120000</td>\n",
       "      <td>2971</td>\n",
       "      <td>married</td>\n",
       "      <td>entrepreneur,secondary</td>\n",
       "      <td>yes</td>\n",
       "      <td>no</td>\n",
       "      <td>no</td>\n",
       "      <td>no</td>\n",
       "      <td>cellular</td>\n",
       "      <td>17</td>\n",
       "      <td>nov, 2017</td>\n",
       "      <td>6.01666666666667 min</td>\n",
       "      <td>2</td>\n",
       "      <td>188</td>\n",
       "      <td>11</td>\n",
       "      <td>other</td>\n",
       "      <td>no</td>\n",
       "    </tr>\n",
       "  </tbody>\n",
       "</table>\n",
       "</div>"
      ],
      "text/plain": [
       "       customerid   age  salary  balance   marital                  jobedu  \\\n",
       "45206       45207  51.0   60000      825   married     technician,tertiary   \n",
       "45207       45208  71.0   55000     1729  divorced         retired,primary   \n",
       "45208       45209  72.0   55000     5715   married       retired,secondary   \n",
       "45209       45210  57.0   20000      668   married   blue-collar,secondary   \n",
       "45210       45211  37.0  120000     2971   married  entrepreneur,secondary   \n",
       "\n",
       "      targeted default housing loan    contact  day      month  \\\n",
       "45206      yes      no      no   no   cellular   17  nov, 2017   \n",
       "45207      yes      no      no   no   cellular   17  nov, 2017   \n",
       "45208      yes      no      no   no   cellular   17  nov, 2017   \n",
       "45209      yes      no      no   no  telephone   17  nov, 2017   \n",
       "45210      yes      no      no   no   cellular   17  nov, 2017   \n",
       "\n",
       "                   duration  campaign  pdays  previous poutcome response  \n",
       "45206  16.2833333333333 min         3     -1         0  unknown      yes  \n",
       "45207               7.6 min         2     -1         0  unknown      yes  \n",
       "45208  18.7833333333333 min         5    184         3  success      yes  \n",
       "45209  8.46666666666667 min         4     -1         0  unknown       no  \n",
       "45210  6.01666666666667 min         2    188        11    other       no  "
      ]
     },
     "execution_count": 302,
     "metadata": {},
     "output_type": "execute_result"
    }
   ],
   "source": [
    "bank.tail()"
   ]
  },
  {
   "cell_type": "markdown",
   "metadata": {},
   "source": [
    "<b> HANDLING MISSING VALUES"
   ]
  },
  {
   "cell_type": "code",
   "execution_count": 303,
   "metadata": {},
   "outputs": [
    {
     "data": {
      "text/html": [
       "<div>\n",
       "<style scoped>\n",
       "    .dataframe tbody tr th:only-of-type {\n",
       "        vertical-align: middle;\n",
       "    }\n",
       "\n",
       "    .dataframe tbody tr th {\n",
       "        vertical-align: top;\n",
       "    }\n",
       "\n",
       "    .dataframe thead th {\n",
       "        text-align: right;\n",
       "    }\n",
       "</style>\n",
       "<table border=\"1\" class=\"dataframe\">\n",
       "  <thead>\n",
       "    <tr style=\"text-align: right;\">\n",
       "      <th></th>\n",
       "      <th>customerid</th>\n",
       "      <th>age</th>\n",
       "      <th>salary</th>\n",
       "      <th>balance</th>\n",
       "      <th>marital</th>\n",
       "      <th>jobedu</th>\n",
       "      <th>targeted</th>\n",
       "      <th>default</th>\n",
       "      <th>housing</th>\n",
       "      <th>loan</th>\n",
       "      <th>contact</th>\n",
       "      <th>day</th>\n",
       "      <th>month</th>\n",
       "      <th>duration</th>\n",
       "      <th>campaign</th>\n",
       "      <th>pdays</th>\n",
       "      <th>previous</th>\n",
       "      <th>poutcome</th>\n",
       "      <th>response</th>\n",
       "    </tr>\n",
       "  </thead>\n",
       "  <tbody>\n",
       "    <tr>\n",
       "      <td>0</td>\n",
       "      <td>1</td>\n",
       "      <td>58.0</td>\n",
       "      <td>100000.0</td>\n",
       "      <td>2143</td>\n",
       "      <td>married</td>\n",
       "      <td>management,tertiary</td>\n",
       "      <td>yes</td>\n",
       "      <td>no</td>\n",
       "      <td>yes</td>\n",
       "      <td>no</td>\n",
       "      <td>unknown</td>\n",
       "      <td>5</td>\n",
       "      <td>may, 2017</td>\n",
       "      <td>261 sec</td>\n",
       "      <td>1</td>\n",
       "      <td>-1</td>\n",
       "      <td>0</td>\n",
       "      <td>unknown</td>\n",
       "      <td>no</td>\n",
       "    </tr>\n",
       "    <tr>\n",
       "      <td>1</td>\n",
       "      <td>2</td>\n",
       "      <td>44.0</td>\n",
       "      <td>60000.0</td>\n",
       "      <td>29</td>\n",
       "      <td>single</td>\n",
       "      <td>technician,secondary</td>\n",
       "      <td>yes</td>\n",
       "      <td>no</td>\n",
       "      <td>yes</td>\n",
       "      <td>no</td>\n",
       "      <td>unknown</td>\n",
       "      <td>5</td>\n",
       "      <td>may, 2017</td>\n",
       "      <td>151 sec</td>\n",
       "      <td>1</td>\n",
       "      <td>-1</td>\n",
       "      <td>0</td>\n",
       "      <td>unknown</td>\n",
       "      <td>no</td>\n",
       "    </tr>\n",
       "    <tr>\n",
       "      <td>2</td>\n",
       "      <td>3</td>\n",
       "      <td>33.0</td>\n",
       "      <td>120000.0</td>\n",
       "      <td>2</td>\n",
       "      <td>married</td>\n",
       "      <td>entrepreneur,secondary</td>\n",
       "      <td>yes</td>\n",
       "      <td>no</td>\n",
       "      <td>yes</td>\n",
       "      <td>yes</td>\n",
       "      <td>unknown</td>\n",
       "      <td>5</td>\n",
       "      <td>may, 2017</td>\n",
       "      <td>76 sec</td>\n",
       "      <td>1</td>\n",
       "      <td>-1</td>\n",
       "      <td>0</td>\n",
       "      <td>unknown</td>\n",
       "      <td>no</td>\n",
       "    </tr>\n",
       "    <tr>\n",
       "      <td>3</td>\n",
       "      <td>4</td>\n",
       "      <td>47.0</td>\n",
       "      <td>20000.0</td>\n",
       "      <td>1506</td>\n",
       "      <td>married</td>\n",
       "      <td>blue-collar,unknown</td>\n",
       "      <td>no</td>\n",
       "      <td>no</td>\n",
       "      <td>yes</td>\n",
       "      <td>no</td>\n",
       "      <td>unknown</td>\n",
       "      <td>5</td>\n",
       "      <td>may, 2017</td>\n",
       "      <td>92 sec</td>\n",
       "      <td>1</td>\n",
       "      <td>-1</td>\n",
       "      <td>0</td>\n",
       "      <td>unknown</td>\n",
       "      <td>no</td>\n",
       "    </tr>\n",
       "    <tr>\n",
       "      <td>4</td>\n",
       "      <td>5</td>\n",
       "      <td>33.0</td>\n",
       "      <td>0.0</td>\n",
       "      <td>1</td>\n",
       "      <td>single</td>\n",
       "      <td>unknown,unknown</td>\n",
       "      <td>no</td>\n",
       "      <td>no</td>\n",
       "      <td>no</td>\n",
       "      <td>no</td>\n",
       "      <td>unknown</td>\n",
       "      <td>5</td>\n",
       "      <td>may, 2017</td>\n",
       "      <td>198 sec</td>\n",
       "      <td>1</td>\n",
       "      <td>-1</td>\n",
       "      <td>0</td>\n",
       "      <td>unknown</td>\n",
       "      <td>no</td>\n",
       "    </tr>\n",
       "    <tr>\n",
       "      <td>...</td>\n",
       "      <td>...</td>\n",
       "      <td>...</td>\n",
       "      <td>...</td>\n",
       "      <td>...</td>\n",
       "      <td>...</td>\n",
       "      <td>...</td>\n",
       "      <td>...</td>\n",
       "      <td>...</td>\n",
       "      <td>...</td>\n",
       "      <td>...</td>\n",
       "      <td>...</td>\n",
       "      <td>...</td>\n",
       "      <td>...</td>\n",
       "      <td>...</td>\n",
       "      <td>...</td>\n",
       "      <td>...</td>\n",
       "      <td>...</td>\n",
       "      <td>...</td>\n",
       "      <td>...</td>\n",
       "    </tr>\n",
       "    <tr>\n",
       "      <td>45206</td>\n",
       "      <td>45207</td>\n",
       "      <td>51.0</td>\n",
       "      <td>60000.0</td>\n",
       "      <td>825</td>\n",
       "      <td>married</td>\n",
       "      <td>technician,tertiary</td>\n",
       "      <td>yes</td>\n",
       "      <td>no</td>\n",
       "      <td>no</td>\n",
       "      <td>no</td>\n",
       "      <td>cellular</td>\n",
       "      <td>17</td>\n",
       "      <td>nov, 2017</td>\n",
       "      <td>16.2833333333333 min</td>\n",
       "      <td>3</td>\n",
       "      <td>-1</td>\n",
       "      <td>0</td>\n",
       "      <td>unknown</td>\n",
       "      <td>yes</td>\n",
       "    </tr>\n",
       "    <tr>\n",
       "      <td>45207</td>\n",
       "      <td>45208</td>\n",
       "      <td>71.0</td>\n",
       "      <td>55000.0</td>\n",
       "      <td>1729</td>\n",
       "      <td>divorced</td>\n",
       "      <td>retired,primary</td>\n",
       "      <td>yes</td>\n",
       "      <td>no</td>\n",
       "      <td>no</td>\n",
       "      <td>no</td>\n",
       "      <td>cellular</td>\n",
       "      <td>17</td>\n",
       "      <td>nov, 2017</td>\n",
       "      <td>7.6 min</td>\n",
       "      <td>2</td>\n",
       "      <td>-1</td>\n",
       "      <td>0</td>\n",
       "      <td>unknown</td>\n",
       "      <td>yes</td>\n",
       "    </tr>\n",
       "    <tr>\n",
       "      <td>45208</td>\n",
       "      <td>45209</td>\n",
       "      <td>72.0</td>\n",
       "      <td>55000.0</td>\n",
       "      <td>5715</td>\n",
       "      <td>married</td>\n",
       "      <td>retired,secondary</td>\n",
       "      <td>yes</td>\n",
       "      <td>no</td>\n",
       "      <td>no</td>\n",
       "      <td>no</td>\n",
       "      <td>cellular</td>\n",
       "      <td>17</td>\n",
       "      <td>nov, 2017</td>\n",
       "      <td>18.7833333333333 min</td>\n",
       "      <td>5</td>\n",
       "      <td>184</td>\n",
       "      <td>3</td>\n",
       "      <td>success</td>\n",
       "      <td>yes</td>\n",
       "    </tr>\n",
       "    <tr>\n",
       "      <td>45209</td>\n",
       "      <td>45210</td>\n",
       "      <td>57.0</td>\n",
       "      <td>20000.0</td>\n",
       "      <td>668</td>\n",
       "      <td>married</td>\n",
       "      <td>blue-collar,secondary</td>\n",
       "      <td>yes</td>\n",
       "      <td>no</td>\n",
       "      <td>no</td>\n",
       "      <td>no</td>\n",
       "      <td>telephone</td>\n",
       "      <td>17</td>\n",
       "      <td>nov, 2017</td>\n",
       "      <td>8.46666666666667 min</td>\n",
       "      <td>4</td>\n",
       "      <td>-1</td>\n",
       "      <td>0</td>\n",
       "      <td>unknown</td>\n",
       "      <td>no</td>\n",
       "    </tr>\n",
       "    <tr>\n",
       "      <td>45210</td>\n",
       "      <td>45211</td>\n",
       "      <td>37.0</td>\n",
       "      <td>120000.0</td>\n",
       "      <td>2971</td>\n",
       "      <td>married</td>\n",
       "      <td>entrepreneur,secondary</td>\n",
       "      <td>yes</td>\n",
       "      <td>no</td>\n",
       "      <td>no</td>\n",
       "      <td>no</td>\n",
       "      <td>cellular</td>\n",
       "      <td>17</td>\n",
       "      <td>nov, 2017</td>\n",
       "      <td>6.01666666666667 min</td>\n",
       "      <td>2</td>\n",
       "      <td>188</td>\n",
       "      <td>11</td>\n",
       "      <td>other</td>\n",
       "      <td>no</td>\n",
       "    </tr>\n",
       "  </tbody>\n",
       "</table>\n",
       "<p>45211 rows × 19 columns</p>\n",
       "</div>"
      ],
      "text/plain": [
       "       customerid   age    salary  balance   marital                  jobedu  \\\n",
       "0               1  58.0  100000.0     2143   married     management,tertiary   \n",
       "1               2  44.0   60000.0       29    single    technician,secondary   \n",
       "2               3  33.0  120000.0        2   married  entrepreneur,secondary   \n",
       "3               4  47.0   20000.0     1506   married     blue-collar,unknown   \n",
       "4               5  33.0       0.0        1    single         unknown,unknown   \n",
       "...           ...   ...       ...      ...       ...                     ...   \n",
       "45206       45207  51.0   60000.0      825   married     technician,tertiary   \n",
       "45207       45208  71.0   55000.0     1729  divorced         retired,primary   \n",
       "45208       45209  72.0   55000.0     5715   married       retired,secondary   \n",
       "45209       45210  57.0   20000.0      668   married   blue-collar,secondary   \n",
       "45210       45211  37.0  120000.0     2971   married  entrepreneur,secondary   \n",
       "\n",
       "      targeted default housing loan    contact  day      month  \\\n",
       "0          yes      no     yes   no    unknown    5  may, 2017   \n",
       "1          yes      no     yes   no    unknown    5  may, 2017   \n",
       "2          yes      no     yes  yes    unknown    5  may, 2017   \n",
       "3           no      no     yes   no    unknown    5  may, 2017   \n",
       "4           no      no      no   no    unknown    5  may, 2017   \n",
       "...        ...     ...     ...  ...        ...  ...        ...   \n",
       "45206      yes      no      no   no   cellular   17  nov, 2017   \n",
       "45207      yes      no      no   no   cellular   17  nov, 2017   \n",
       "45208      yes      no      no   no   cellular   17  nov, 2017   \n",
       "45209      yes      no      no   no  telephone   17  nov, 2017   \n",
       "45210      yes      no      no   no   cellular   17  nov, 2017   \n",
       "\n",
       "                   duration  campaign  pdays  previous poutcome response  \n",
       "0                   261 sec         1     -1         0  unknown       no  \n",
       "1                   151 sec         1     -1         0  unknown       no  \n",
       "2                    76 sec         1     -1         0  unknown       no  \n",
       "3                    92 sec         1     -1         0  unknown       no  \n",
       "4                   198 sec         1     -1         0  unknown       no  \n",
       "...                     ...       ...    ...       ...      ...      ...  \n",
       "45206  16.2833333333333 min         3     -1         0  unknown      yes  \n",
       "45207               7.6 min         2     -1         0  unknown      yes  \n",
       "45208  18.7833333333333 min         5    184         3  success      yes  \n",
       "45209  8.46666666666667 min         4     -1         0  unknown       no  \n",
       "45210  6.01666666666667 min         2    188        11    other       no  \n",
       "\n",
       "[45211 rows x 19 columns]"
      ]
     },
     "execution_count": 303,
     "metadata": {},
     "output_type": "execute_result"
    }
   ],
   "source": [
    "missing_values = [\"n/a\", \"naN\",\"?\",\"-\"]\n",
    "bank = pd.read_csv(r'C:\\Users\\LENOVO\\Downloads\\BankData.csv', na_values = missing_values)\n",
    "bank"
   ]
  },
  {
   "cell_type": "markdown",
   "metadata": {},
   "source": [
    "<b> Understanding The Data </b>"
   ]
  },
  {
   "cell_type": "code",
   "execution_count": 304,
   "metadata": {},
   "outputs": [
    {
     "data": {
      "text/plain": [
       "(45211, 19)"
      ]
     },
     "execution_count": 304,
     "metadata": {},
     "output_type": "execute_result"
    }
   ],
   "source": [
    "bank.shape"
   ]
  },
  {
   "cell_type": "code",
   "execution_count": 305,
   "metadata": {},
   "outputs": [
    {
     "name": "stdout",
     "output_type": "stream",
     "text": [
      "<class 'pandas.core.frame.DataFrame'>\n",
      "RangeIndex: 45211 entries, 0 to 45210\n",
      "Data columns (total 19 columns):\n",
      "customerid    45211 non-null int64\n",
      "age           45191 non-null float64\n",
      "salary        45149 non-null float64\n",
      "balance       45211 non-null int64\n",
      "marital       45211 non-null object\n",
      "jobedu        45211 non-null object\n",
      "targeted      45211 non-null object\n",
      "default       45211 non-null object\n",
      "housing       45211 non-null object\n",
      "loan          45211 non-null object\n",
      "contact       45211 non-null object\n",
      "day           45211 non-null int64\n",
      "month         45161 non-null object\n",
      "duration      45211 non-null object\n",
      "campaign      45211 non-null int64\n",
      "pdays         45211 non-null int64\n",
      "previous      45211 non-null int64\n",
      "poutcome      45211 non-null object\n",
      "response      45181 non-null object\n",
      "dtypes: float64(2), int64(6), object(11)\n",
      "memory usage: 6.6+ MB\n"
     ]
    }
   ],
   "source": [
    "bank.info()"
   ]
  },
  {
   "cell_type": "code",
   "execution_count": 306,
   "metadata": {},
   "outputs": [
    {
     "data": {
      "text/plain": [
       "customerid     0\n",
       "age           20\n",
       "salary        62\n",
       "balance        0\n",
       "marital        0\n",
       "jobedu         0\n",
       "targeted       0\n",
       "default        0\n",
       "housing        0\n",
       "loan           0\n",
       "contact        0\n",
       "day            0\n",
       "month         50\n",
       "duration       0\n",
       "campaign       0\n",
       "pdays          0\n",
       "previous       0\n",
       "poutcome       0\n",
       "response      30\n",
       "dtype: int64"
      ]
     },
     "execution_count": 306,
     "metadata": {},
     "output_type": "execute_result"
    }
   ],
   "source": [
    "bank.isnull().sum()"
   ]
  },
  {
   "cell_type": "code",
   "execution_count": 307,
   "metadata": {},
   "outputs": [
    {
     "data": {
      "text/plain": [
       "20"
      ]
     },
     "execution_count": 307,
     "metadata": {},
     "output_type": "execute_result"
    }
   ],
   "source": [
    "bank['age'].isnull().sum()"
   ]
  },
  {
   "cell_type": "code",
   "execution_count": 308,
   "metadata": {},
   "outputs": [],
   "source": [
    "bank.dropna(axis=0,how='any',inplace=True)"
   ]
  },
  {
   "cell_type": "code",
   "execution_count": 309,
   "metadata": {},
   "outputs": [
    {
     "data": {
      "text/plain": [
       "0"
      ]
     },
     "execution_count": 309,
     "metadata": {},
     "output_type": "execute_result"
    }
   ],
   "source": [
    "bank['age'].isnull().sum()"
   ]
  },
  {
   "cell_type": "code",
   "execution_count": 310,
   "metadata": {},
   "outputs": [
    {
     "data": {
      "text/html": [
       "<div>\n",
       "<style scoped>\n",
       "    .dataframe tbody tr th:only-of-type {\n",
       "        vertical-align: middle;\n",
       "    }\n",
       "\n",
       "    .dataframe tbody tr th {\n",
       "        vertical-align: top;\n",
       "    }\n",
       "\n",
       "    .dataframe thead th {\n",
       "        text-align: right;\n",
       "    }\n",
       "</style>\n",
       "<table border=\"1\" class=\"dataframe\">\n",
       "  <thead>\n",
       "    <tr style=\"text-align: right;\">\n",
       "      <th></th>\n",
       "      <th>customerid</th>\n",
       "      <th>age</th>\n",
       "      <th>salary</th>\n",
       "      <th>balance</th>\n",
       "      <th>marital</th>\n",
       "      <th>jobedu</th>\n",
       "      <th>targeted</th>\n",
       "      <th>default</th>\n",
       "      <th>housing</th>\n",
       "      <th>loan</th>\n",
       "      <th>contact</th>\n",
       "      <th>day</th>\n",
       "      <th>month</th>\n",
       "      <th>duration</th>\n",
       "      <th>campaign</th>\n",
       "      <th>pdays</th>\n",
       "      <th>previous</th>\n",
       "      <th>poutcome</th>\n",
       "      <th>response</th>\n",
       "    </tr>\n",
       "  </thead>\n",
       "  <tbody>\n",
       "    <tr>\n",
       "      <td>0</td>\n",
       "      <td>1</td>\n",
       "      <td>58.0</td>\n",
       "      <td>100000.0</td>\n",
       "      <td>2143</td>\n",
       "      <td>married</td>\n",
       "      <td>management,tertiary</td>\n",
       "      <td>yes</td>\n",
       "      <td>no</td>\n",
       "      <td>yes</td>\n",
       "      <td>no</td>\n",
       "      <td>unknown</td>\n",
       "      <td>5</td>\n",
       "      <td>may, 2017</td>\n",
       "      <td>261 sec</td>\n",
       "      <td>1</td>\n",
       "      <td>-1</td>\n",
       "      <td>0</td>\n",
       "      <td>unknown</td>\n",
       "      <td>no</td>\n",
       "    </tr>\n",
       "    <tr>\n",
       "      <td>1</td>\n",
       "      <td>2</td>\n",
       "      <td>44.0</td>\n",
       "      <td>60000.0</td>\n",
       "      <td>29</td>\n",
       "      <td>single</td>\n",
       "      <td>technician,secondary</td>\n",
       "      <td>yes</td>\n",
       "      <td>no</td>\n",
       "      <td>yes</td>\n",
       "      <td>no</td>\n",
       "      <td>unknown</td>\n",
       "      <td>5</td>\n",
       "      <td>may, 2017</td>\n",
       "      <td>151 sec</td>\n",
       "      <td>1</td>\n",
       "      <td>-1</td>\n",
       "      <td>0</td>\n",
       "      <td>unknown</td>\n",
       "      <td>no</td>\n",
       "    </tr>\n",
       "    <tr>\n",
       "      <td>2</td>\n",
       "      <td>3</td>\n",
       "      <td>33.0</td>\n",
       "      <td>120000.0</td>\n",
       "      <td>2</td>\n",
       "      <td>married</td>\n",
       "      <td>entrepreneur,secondary</td>\n",
       "      <td>yes</td>\n",
       "      <td>no</td>\n",
       "      <td>yes</td>\n",
       "      <td>yes</td>\n",
       "      <td>unknown</td>\n",
       "      <td>5</td>\n",
       "      <td>may, 2017</td>\n",
       "      <td>76 sec</td>\n",
       "      <td>1</td>\n",
       "      <td>-1</td>\n",
       "      <td>0</td>\n",
       "      <td>unknown</td>\n",
       "      <td>no</td>\n",
       "    </tr>\n",
       "    <tr>\n",
       "      <td>3</td>\n",
       "      <td>4</td>\n",
       "      <td>47.0</td>\n",
       "      <td>20000.0</td>\n",
       "      <td>1506</td>\n",
       "      <td>married</td>\n",
       "      <td>blue-collar,unknown</td>\n",
       "      <td>no</td>\n",
       "      <td>no</td>\n",
       "      <td>yes</td>\n",
       "      <td>no</td>\n",
       "      <td>unknown</td>\n",
       "      <td>5</td>\n",
       "      <td>may, 2017</td>\n",
       "      <td>92 sec</td>\n",
       "      <td>1</td>\n",
       "      <td>-1</td>\n",
       "      <td>0</td>\n",
       "      <td>unknown</td>\n",
       "      <td>no</td>\n",
       "    </tr>\n",
       "    <tr>\n",
       "      <td>4</td>\n",
       "      <td>5</td>\n",
       "      <td>33.0</td>\n",
       "      <td>0.0</td>\n",
       "      <td>1</td>\n",
       "      <td>single</td>\n",
       "      <td>unknown,unknown</td>\n",
       "      <td>no</td>\n",
       "      <td>no</td>\n",
       "      <td>no</td>\n",
       "      <td>no</td>\n",
       "      <td>unknown</td>\n",
       "      <td>5</td>\n",
       "      <td>may, 2017</td>\n",
       "      <td>198 sec</td>\n",
       "      <td>1</td>\n",
       "      <td>-1</td>\n",
       "      <td>0</td>\n",
       "      <td>unknown</td>\n",
       "      <td>no</td>\n",
       "    </tr>\n",
       "    <tr>\n",
       "      <td>...</td>\n",
       "      <td>...</td>\n",
       "      <td>...</td>\n",
       "      <td>...</td>\n",
       "      <td>...</td>\n",
       "      <td>...</td>\n",
       "      <td>...</td>\n",
       "      <td>...</td>\n",
       "      <td>...</td>\n",
       "      <td>...</td>\n",
       "      <td>...</td>\n",
       "      <td>...</td>\n",
       "      <td>...</td>\n",
       "      <td>...</td>\n",
       "      <td>...</td>\n",
       "      <td>...</td>\n",
       "      <td>...</td>\n",
       "      <td>...</td>\n",
       "      <td>...</td>\n",
       "      <td>...</td>\n",
       "    </tr>\n",
       "    <tr>\n",
       "      <td>45206</td>\n",
       "      <td>45207</td>\n",
       "      <td>51.0</td>\n",
       "      <td>60000.0</td>\n",
       "      <td>825</td>\n",
       "      <td>married</td>\n",
       "      <td>technician,tertiary</td>\n",
       "      <td>yes</td>\n",
       "      <td>no</td>\n",
       "      <td>no</td>\n",
       "      <td>no</td>\n",
       "      <td>cellular</td>\n",
       "      <td>17</td>\n",
       "      <td>nov, 2017</td>\n",
       "      <td>16.2833333333333 min</td>\n",
       "      <td>3</td>\n",
       "      <td>-1</td>\n",
       "      <td>0</td>\n",
       "      <td>unknown</td>\n",
       "      <td>yes</td>\n",
       "    </tr>\n",
       "    <tr>\n",
       "      <td>45207</td>\n",
       "      <td>45208</td>\n",
       "      <td>71.0</td>\n",
       "      <td>55000.0</td>\n",
       "      <td>1729</td>\n",
       "      <td>divorced</td>\n",
       "      <td>retired,primary</td>\n",
       "      <td>yes</td>\n",
       "      <td>no</td>\n",
       "      <td>no</td>\n",
       "      <td>no</td>\n",
       "      <td>cellular</td>\n",
       "      <td>17</td>\n",
       "      <td>nov, 2017</td>\n",
       "      <td>7.6 min</td>\n",
       "      <td>2</td>\n",
       "      <td>-1</td>\n",
       "      <td>0</td>\n",
       "      <td>unknown</td>\n",
       "      <td>yes</td>\n",
       "    </tr>\n",
       "    <tr>\n",
       "      <td>45208</td>\n",
       "      <td>45209</td>\n",
       "      <td>72.0</td>\n",
       "      <td>55000.0</td>\n",
       "      <td>5715</td>\n",
       "      <td>married</td>\n",
       "      <td>retired,secondary</td>\n",
       "      <td>yes</td>\n",
       "      <td>no</td>\n",
       "      <td>no</td>\n",
       "      <td>no</td>\n",
       "      <td>cellular</td>\n",
       "      <td>17</td>\n",
       "      <td>nov, 2017</td>\n",
       "      <td>18.7833333333333 min</td>\n",
       "      <td>5</td>\n",
       "      <td>184</td>\n",
       "      <td>3</td>\n",
       "      <td>success</td>\n",
       "      <td>yes</td>\n",
       "    </tr>\n",
       "    <tr>\n",
       "      <td>45209</td>\n",
       "      <td>45210</td>\n",
       "      <td>57.0</td>\n",
       "      <td>20000.0</td>\n",
       "      <td>668</td>\n",
       "      <td>married</td>\n",
       "      <td>blue-collar,secondary</td>\n",
       "      <td>yes</td>\n",
       "      <td>no</td>\n",
       "      <td>no</td>\n",
       "      <td>no</td>\n",
       "      <td>telephone</td>\n",
       "      <td>17</td>\n",
       "      <td>nov, 2017</td>\n",
       "      <td>8.46666666666667 min</td>\n",
       "      <td>4</td>\n",
       "      <td>-1</td>\n",
       "      <td>0</td>\n",
       "      <td>unknown</td>\n",
       "      <td>no</td>\n",
       "    </tr>\n",
       "    <tr>\n",
       "      <td>45210</td>\n",
       "      <td>45211</td>\n",
       "      <td>37.0</td>\n",
       "      <td>120000.0</td>\n",
       "      <td>2971</td>\n",
       "      <td>married</td>\n",
       "      <td>entrepreneur,secondary</td>\n",
       "      <td>yes</td>\n",
       "      <td>no</td>\n",
       "      <td>no</td>\n",
       "      <td>no</td>\n",
       "      <td>cellular</td>\n",
       "      <td>17</td>\n",
       "      <td>nov, 2017</td>\n",
       "      <td>6.01666666666667 min</td>\n",
       "      <td>2</td>\n",
       "      <td>188</td>\n",
       "      <td>11</td>\n",
       "      <td>other</td>\n",
       "      <td>no</td>\n",
       "    </tr>\n",
       "  </tbody>\n",
       "</table>\n",
       "<p>45049 rows × 19 columns</p>\n",
       "</div>"
      ],
      "text/plain": [
       "       customerid   age    salary  balance   marital                  jobedu  \\\n",
       "0               1  58.0  100000.0     2143   married     management,tertiary   \n",
       "1               2  44.0   60000.0       29    single    technician,secondary   \n",
       "2               3  33.0  120000.0        2   married  entrepreneur,secondary   \n",
       "3               4  47.0   20000.0     1506   married     blue-collar,unknown   \n",
       "4               5  33.0       0.0        1    single         unknown,unknown   \n",
       "...           ...   ...       ...      ...       ...                     ...   \n",
       "45206       45207  51.0   60000.0      825   married     technician,tertiary   \n",
       "45207       45208  71.0   55000.0     1729  divorced         retired,primary   \n",
       "45208       45209  72.0   55000.0     5715   married       retired,secondary   \n",
       "45209       45210  57.0   20000.0      668   married   blue-collar,secondary   \n",
       "45210       45211  37.0  120000.0     2971   married  entrepreneur,secondary   \n",
       "\n",
       "      targeted default housing loan    contact  day      month  \\\n",
       "0          yes      no     yes   no    unknown    5  may, 2017   \n",
       "1          yes      no     yes   no    unknown    5  may, 2017   \n",
       "2          yes      no     yes  yes    unknown    5  may, 2017   \n",
       "3           no      no     yes   no    unknown    5  may, 2017   \n",
       "4           no      no      no   no    unknown    5  may, 2017   \n",
       "...        ...     ...     ...  ...        ...  ...        ...   \n",
       "45206      yes      no      no   no   cellular   17  nov, 2017   \n",
       "45207      yes      no      no   no   cellular   17  nov, 2017   \n",
       "45208      yes      no      no   no   cellular   17  nov, 2017   \n",
       "45209      yes      no      no   no  telephone   17  nov, 2017   \n",
       "45210      yes      no      no   no   cellular   17  nov, 2017   \n",
       "\n",
       "                   duration  campaign  pdays  previous poutcome response  \n",
       "0                   261 sec         1     -1         0  unknown       no  \n",
       "1                   151 sec         1     -1         0  unknown       no  \n",
       "2                    76 sec         1     -1         0  unknown       no  \n",
       "3                    92 sec         1     -1         0  unknown       no  \n",
       "4                   198 sec         1     -1         0  unknown       no  \n",
       "...                     ...       ...    ...       ...      ...      ...  \n",
       "45206  16.2833333333333 min         3     -1         0  unknown      yes  \n",
       "45207               7.6 min         2     -1         0  unknown      yes  \n",
       "45208  18.7833333333333 min         5    184         3  success      yes  \n",
       "45209  8.46666666666667 min         4     -1         0  unknown       no  \n",
       "45210  6.01666666666667 min         2    188        11    other       no  \n",
       "\n",
       "[45049 rows x 19 columns]"
      ]
     },
     "execution_count": 310,
     "metadata": {},
     "output_type": "execute_result"
    }
   ],
   "source": [
    "bank"
   ]
  },
  {
   "cell_type": "code",
   "execution_count": 311,
   "metadata": {},
   "outputs": [
    {
     "data": {
      "text/plain": [
       "customerid    0\n",
       "age           0\n",
       "salary        0\n",
       "balance       0\n",
       "marital       0\n",
       "jobedu        0\n",
       "targeted      0\n",
       "default       0\n",
       "housing       0\n",
       "loan          0\n",
       "contact       0\n",
       "day           0\n",
       "month         0\n",
       "duration      0\n",
       "campaign      0\n",
       "pdays         0\n",
       "previous      0\n",
       "poutcome      0\n",
       "response      0\n",
       "dtype: int64"
      ]
     },
     "execution_count": 311,
     "metadata": {},
     "output_type": "execute_result"
    }
   ],
   "source": [
    "bank.isnull().sum()"
   ]
  },
  {
   "cell_type": "markdown",
   "metadata": {},
   "source": [
    "<b> CHANGING THE DURATION COLUMN OF MINS INTO SECS"
   ]
  },
  {
   "cell_type": "code",
   "execution_count": 312,
   "metadata": {},
   "outputs": [],
   "source": [
    "\n",
    "duration1=[]\n",
    "for i in bank['duration']:\n",
    "    a=[i.split(' ')[0]]\n",
    "    duration1.append(a)\n"
   ]
  },
  {
   "cell_type": "code",
   "execution_count": 313,
   "metadata": {},
   "outputs": [],
   "source": [
    "bank['Duration']=np.array(duration1)"
   ]
  },
  {
   "cell_type": "code",
   "execution_count": 314,
   "metadata": {},
   "outputs": [],
   "source": [
    "bank['Duration']=bank['Duration'].astype(float)"
   ]
  },
  {
   "cell_type": "code",
   "execution_count": 315,
   "metadata": {},
   "outputs": [],
   "source": [
    "DURATION_1=[]\n",
    "for x in bank['Duration']:\n",
    "    if(x<10):\n",
    "        x=x*60\n",
    "    else:\n",
    "        x=x\n",
    "    DURATION_1.append(x)"
   ]
  },
  {
   "cell_type": "code",
   "execution_count": 316,
   "metadata": {},
   "outputs": [],
   "source": [
    "bank['DURATION']=np.array(DURATION_1)"
   ]
  },
  {
   "cell_type": "code",
   "execution_count": 317,
   "metadata": {},
   "outputs": [
    {
     "data": {
      "text/html": [
       "<div>\n",
       "<style scoped>\n",
       "    .dataframe tbody tr th:only-of-type {\n",
       "        vertical-align: middle;\n",
       "    }\n",
       "\n",
       "    .dataframe tbody tr th {\n",
       "        vertical-align: top;\n",
       "    }\n",
       "\n",
       "    .dataframe thead th {\n",
       "        text-align: right;\n",
       "    }\n",
       "</style>\n",
       "<table border=\"1\" class=\"dataframe\">\n",
       "  <thead>\n",
       "    <tr style=\"text-align: right;\">\n",
       "      <th></th>\n",
       "      <th>customerid</th>\n",
       "      <th>age</th>\n",
       "      <th>salary</th>\n",
       "      <th>balance</th>\n",
       "      <th>marital</th>\n",
       "      <th>jobedu</th>\n",
       "      <th>targeted</th>\n",
       "      <th>default</th>\n",
       "      <th>housing</th>\n",
       "      <th>loan</th>\n",
       "      <th>...</th>\n",
       "      <th>day</th>\n",
       "      <th>month</th>\n",
       "      <th>duration</th>\n",
       "      <th>campaign</th>\n",
       "      <th>pdays</th>\n",
       "      <th>previous</th>\n",
       "      <th>poutcome</th>\n",
       "      <th>response</th>\n",
       "      <th>Duration</th>\n",
       "      <th>DURATION</th>\n",
       "    </tr>\n",
       "  </thead>\n",
       "  <tbody>\n",
       "    <tr>\n",
       "      <td>0</td>\n",
       "      <td>1</td>\n",
       "      <td>58.0</td>\n",
       "      <td>100000.0</td>\n",
       "      <td>2143</td>\n",
       "      <td>married</td>\n",
       "      <td>management,tertiary</td>\n",
       "      <td>yes</td>\n",
       "      <td>no</td>\n",
       "      <td>yes</td>\n",
       "      <td>no</td>\n",
       "      <td>...</td>\n",
       "      <td>5</td>\n",
       "      <td>may, 2017</td>\n",
       "      <td>261 sec</td>\n",
       "      <td>1</td>\n",
       "      <td>-1</td>\n",
       "      <td>0</td>\n",
       "      <td>unknown</td>\n",
       "      <td>no</td>\n",
       "      <td>261.000000</td>\n",
       "      <td>261.000000</td>\n",
       "    </tr>\n",
       "    <tr>\n",
       "      <td>1</td>\n",
       "      <td>2</td>\n",
       "      <td>44.0</td>\n",
       "      <td>60000.0</td>\n",
       "      <td>29</td>\n",
       "      <td>single</td>\n",
       "      <td>technician,secondary</td>\n",
       "      <td>yes</td>\n",
       "      <td>no</td>\n",
       "      <td>yes</td>\n",
       "      <td>no</td>\n",
       "      <td>...</td>\n",
       "      <td>5</td>\n",
       "      <td>may, 2017</td>\n",
       "      <td>151 sec</td>\n",
       "      <td>1</td>\n",
       "      <td>-1</td>\n",
       "      <td>0</td>\n",
       "      <td>unknown</td>\n",
       "      <td>no</td>\n",
       "      <td>151.000000</td>\n",
       "      <td>151.000000</td>\n",
       "    </tr>\n",
       "    <tr>\n",
       "      <td>2</td>\n",
       "      <td>3</td>\n",
       "      <td>33.0</td>\n",
       "      <td>120000.0</td>\n",
       "      <td>2</td>\n",
       "      <td>married</td>\n",
       "      <td>entrepreneur,secondary</td>\n",
       "      <td>yes</td>\n",
       "      <td>no</td>\n",
       "      <td>yes</td>\n",
       "      <td>yes</td>\n",
       "      <td>...</td>\n",
       "      <td>5</td>\n",
       "      <td>may, 2017</td>\n",
       "      <td>76 sec</td>\n",
       "      <td>1</td>\n",
       "      <td>-1</td>\n",
       "      <td>0</td>\n",
       "      <td>unknown</td>\n",
       "      <td>no</td>\n",
       "      <td>76.000000</td>\n",
       "      <td>76.000000</td>\n",
       "    </tr>\n",
       "    <tr>\n",
       "      <td>3</td>\n",
       "      <td>4</td>\n",
       "      <td>47.0</td>\n",
       "      <td>20000.0</td>\n",
       "      <td>1506</td>\n",
       "      <td>married</td>\n",
       "      <td>blue-collar,unknown</td>\n",
       "      <td>no</td>\n",
       "      <td>no</td>\n",
       "      <td>yes</td>\n",
       "      <td>no</td>\n",
       "      <td>...</td>\n",
       "      <td>5</td>\n",
       "      <td>may, 2017</td>\n",
       "      <td>92 sec</td>\n",
       "      <td>1</td>\n",
       "      <td>-1</td>\n",
       "      <td>0</td>\n",
       "      <td>unknown</td>\n",
       "      <td>no</td>\n",
       "      <td>92.000000</td>\n",
       "      <td>92.000000</td>\n",
       "    </tr>\n",
       "    <tr>\n",
       "      <td>4</td>\n",
       "      <td>5</td>\n",
       "      <td>33.0</td>\n",
       "      <td>0.0</td>\n",
       "      <td>1</td>\n",
       "      <td>single</td>\n",
       "      <td>unknown,unknown</td>\n",
       "      <td>no</td>\n",
       "      <td>no</td>\n",
       "      <td>no</td>\n",
       "      <td>no</td>\n",
       "      <td>...</td>\n",
       "      <td>5</td>\n",
       "      <td>may, 2017</td>\n",
       "      <td>198 sec</td>\n",
       "      <td>1</td>\n",
       "      <td>-1</td>\n",
       "      <td>0</td>\n",
       "      <td>unknown</td>\n",
       "      <td>no</td>\n",
       "      <td>198.000000</td>\n",
       "      <td>198.000000</td>\n",
       "    </tr>\n",
       "    <tr>\n",
       "      <td>...</td>\n",
       "      <td>...</td>\n",
       "      <td>...</td>\n",
       "      <td>...</td>\n",
       "      <td>...</td>\n",
       "      <td>...</td>\n",
       "      <td>...</td>\n",
       "      <td>...</td>\n",
       "      <td>...</td>\n",
       "      <td>...</td>\n",
       "      <td>...</td>\n",
       "      <td>...</td>\n",
       "      <td>...</td>\n",
       "      <td>...</td>\n",
       "      <td>...</td>\n",
       "      <td>...</td>\n",
       "      <td>...</td>\n",
       "      <td>...</td>\n",
       "      <td>...</td>\n",
       "      <td>...</td>\n",
       "      <td>...</td>\n",
       "      <td>...</td>\n",
       "    </tr>\n",
       "    <tr>\n",
       "      <td>45206</td>\n",
       "      <td>45207</td>\n",
       "      <td>51.0</td>\n",
       "      <td>60000.0</td>\n",
       "      <td>825</td>\n",
       "      <td>married</td>\n",
       "      <td>technician,tertiary</td>\n",
       "      <td>yes</td>\n",
       "      <td>no</td>\n",
       "      <td>no</td>\n",
       "      <td>no</td>\n",
       "      <td>...</td>\n",
       "      <td>17</td>\n",
       "      <td>nov, 2017</td>\n",
       "      <td>16.2833333333333 min</td>\n",
       "      <td>3</td>\n",
       "      <td>-1</td>\n",
       "      <td>0</td>\n",
       "      <td>unknown</td>\n",
       "      <td>yes</td>\n",
       "      <td>16.283333</td>\n",
       "      <td>16.283333</td>\n",
       "    </tr>\n",
       "    <tr>\n",
       "      <td>45207</td>\n",
       "      <td>45208</td>\n",
       "      <td>71.0</td>\n",
       "      <td>55000.0</td>\n",
       "      <td>1729</td>\n",
       "      <td>divorced</td>\n",
       "      <td>retired,primary</td>\n",
       "      <td>yes</td>\n",
       "      <td>no</td>\n",
       "      <td>no</td>\n",
       "      <td>no</td>\n",
       "      <td>...</td>\n",
       "      <td>17</td>\n",
       "      <td>nov, 2017</td>\n",
       "      <td>7.6 min</td>\n",
       "      <td>2</td>\n",
       "      <td>-1</td>\n",
       "      <td>0</td>\n",
       "      <td>unknown</td>\n",
       "      <td>yes</td>\n",
       "      <td>7.600000</td>\n",
       "      <td>456.000000</td>\n",
       "    </tr>\n",
       "    <tr>\n",
       "      <td>45208</td>\n",
       "      <td>45209</td>\n",
       "      <td>72.0</td>\n",
       "      <td>55000.0</td>\n",
       "      <td>5715</td>\n",
       "      <td>married</td>\n",
       "      <td>retired,secondary</td>\n",
       "      <td>yes</td>\n",
       "      <td>no</td>\n",
       "      <td>no</td>\n",
       "      <td>no</td>\n",
       "      <td>...</td>\n",
       "      <td>17</td>\n",
       "      <td>nov, 2017</td>\n",
       "      <td>18.7833333333333 min</td>\n",
       "      <td>5</td>\n",
       "      <td>184</td>\n",
       "      <td>3</td>\n",
       "      <td>success</td>\n",
       "      <td>yes</td>\n",
       "      <td>18.783333</td>\n",
       "      <td>18.783333</td>\n",
       "    </tr>\n",
       "    <tr>\n",
       "      <td>45209</td>\n",
       "      <td>45210</td>\n",
       "      <td>57.0</td>\n",
       "      <td>20000.0</td>\n",
       "      <td>668</td>\n",
       "      <td>married</td>\n",
       "      <td>blue-collar,secondary</td>\n",
       "      <td>yes</td>\n",
       "      <td>no</td>\n",
       "      <td>no</td>\n",
       "      <td>no</td>\n",
       "      <td>...</td>\n",
       "      <td>17</td>\n",
       "      <td>nov, 2017</td>\n",
       "      <td>8.46666666666667 min</td>\n",
       "      <td>4</td>\n",
       "      <td>-1</td>\n",
       "      <td>0</td>\n",
       "      <td>unknown</td>\n",
       "      <td>no</td>\n",
       "      <td>8.466667</td>\n",
       "      <td>508.000000</td>\n",
       "    </tr>\n",
       "    <tr>\n",
       "      <td>45210</td>\n",
       "      <td>45211</td>\n",
       "      <td>37.0</td>\n",
       "      <td>120000.0</td>\n",
       "      <td>2971</td>\n",
       "      <td>married</td>\n",
       "      <td>entrepreneur,secondary</td>\n",
       "      <td>yes</td>\n",
       "      <td>no</td>\n",
       "      <td>no</td>\n",
       "      <td>no</td>\n",
       "      <td>...</td>\n",
       "      <td>17</td>\n",
       "      <td>nov, 2017</td>\n",
       "      <td>6.01666666666667 min</td>\n",
       "      <td>2</td>\n",
       "      <td>188</td>\n",
       "      <td>11</td>\n",
       "      <td>other</td>\n",
       "      <td>no</td>\n",
       "      <td>6.016667</td>\n",
       "      <td>361.000000</td>\n",
       "    </tr>\n",
       "  </tbody>\n",
       "</table>\n",
       "<p>45049 rows × 21 columns</p>\n",
       "</div>"
      ],
      "text/plain": [
       "       customerid   age    salary  balance   marital                  jobedu  \\\n",
       "0               1  58.0  100000.0     2143   married     management,tertiary   \n",
       "1               2  44.0   60000.0       29    single    technician,secondary   \n",
       "2               3  33.0  120000.0        2   married  entrepreneur,secondary   \n",
       "3               4  47.0   20000.0     1506   married     blue-collar,unknown   \n",
       "4               5  33.0       0.0        1    single         unknown,unknown   \n",
       "...           ...   ...       ...      ...       ...                     ...   \n",
       "45206       45207  51.0   60000.0      825   married     technician,tertiary   \n",
       "45207       45208  71.0   55000.0     1729  divorced         retired,primary   \n",
       "45208       45209  72.0   55000.0     5715   married       retired,secondary   \n",
       "45209       45210  57.0   20000.0      668   married   blue-collar,secondary   \n",
       "45210       45211  37.0  120000.0     2971   married  entrepreneur,secondary   \n",
       "\n",
       "      targeted default housing loan  ... day      month              duration  \\\n",
       "0          yes      no     yes   no  ...   5  may, 2017               261 sec   \n",
       "1          yes      no     yes   no  ...   5  may, 2017               151 sec   \n",
       "2          yes      no     yes  yes  ...   5  may, 2017                76 sec   \n",
       "3           no      no     yes   no  ...   5  may, 2017                92 sec   \n",
       "4           no      no      no   no  ...   5  may, 2017               198 sec   \n",
       "...        ...     ...     ...  ...  ...  ..        ...                   ...   \n",
       "45206      yes      no      no   no  ...  17  nov, 2017  16.2833333333333 min   \n",
       "45207      yes      no      no   no  ...  17  nov, 2017               7.6 min   \n",
       "45208      yes      no      no   no  ...  17  nov, 2017  18.7833333333333 min   \n",
       "45209      yes      no      no   no  ...  17  nov, 2017  8.46666666666667 min   \n",
       "45210      yes      no      no   no  ...  17  nov, 2017  6.01666666666667 min   \n",
       "\n",
       "      campaign  pdays  previous  poutcome response    Duration    DURATION  \n",
       "0            1     -1         0   unknown       no  261.000000  261.000000  \n",
       "1            1     -1         0   unknown       no  151.000000  151.000000  \n",
       "2            1     -1         0   unknown       no   76.000000   76.000000  \n",
       "3            1     -1         0   unknown       no   92.000000   92.000000  \n",
       "4            1     -1         0   unknown       no  198.000000  198.000000  \n",
       "...        ...    ...       ...       ...      ...         ...         ...  \n",
       "45206        3     -1         0   unknown      yes   16.283333   16.283333  \n",
       "45207        2     -1         0   unknown      yes    7.600000  456.000000  \n",
       "45208        5    184         3   success      yes   18.783333   18.783333  \n",
       "45209        4     -1         0   unknown       no    8.466667  508.000000  \n",
       "45210        2    188        11     other       no    6.016667  361.000000  \n",
       "\n",
       "[45049 rows x 21 columns]"
      ]
     },
     "execution_count": 317,
     "metadata": {},
     "output_type": "execute_result"
    }
   ],
   "source": [
    "bank"
   ]
  },
  {
   "cell_type": "code",
   "execution_count": 318,
   "metadata": {},
   "outputs": [],
   "source": [
    "bank.drop(['duration','Duration'],axis=1,inplace=True)"
   ]
  },
  {
   "cell_type": "code",
   "execution_count": 319,
   "metadata": {},
   "outputs": [
    {
     "data": {
      "text/html": [
       "<div>\n",
       "<style scoped>\n",
       "    .dataframe tbody tr th:only-of-type {\n",
       "        vertical-align: middle;\n",
       "    }\n",
       "\n",
       "    .dataframe tbody tr th {\n",
       "        vertical-align: top;\n",
       "    }\n",
       "\n",
       "    .dataframe thead th {\n",
       "        text-align: right;\n",
       "    }\n",
       "</style>\n",
       "<table border=\"1\" class=\"dataframe\">\n",
       "  <thead>\n",
       "    <tr style=\"text-align: right;\">\n",
       "      <th></th>\n",
       "      <th>customerid</th>\n",
       "      <th>age</th>\n",
       "      <th>salary</th>\n",
       "      <th>balance</th>\n",
       "      <th>marital</th>\n",
       "      <th>jobedu</th>\n",
       "      <th>targeted</th>\n",
       "      <th>default</th>\n",
       "      <th>housing</th>\n",
       "      <th>loan</th>\n",
       "      <th>contact</th>\n",
       "      <th>day</th>\n",
       "      <th>month</th>\n",
       "      <th>campaign</th>\n",
       "      <th>pdays</th>\n",
       "      <th>previous</th>\n",
       "      <th>poutcome</th>\n",
       "      <th>response</th>\n",
       "      <th>DURATION</th>\n",
       "    </tr>\n",
       "  </thead>\n",
       "  <tbody>\n",
       "    <tr>\n",
       "      <td>0</td>\n",
       "      <td>1</td>\n",
       "      <td>58.0</td>\n",
       "      <td>100000.0</td>\n",
       "      <td>2143</td>\n",
       "      <td>married</td>\n",
       "      <td>management,tertiary</td>\n",
       "      <td>yes</td>\n",
       "      <td>no</td>\n",
       "      <td>yes</td>\n",
       "      <td>no</td>\n",
       "      <td>unknown</td>\n",
       "      <td>5</td>\n",
       "      <td>may, 2017</td>\n",
       "      <td>1</td>\n",
       "      <td>-1</td>\n",
       "      <td>0</td>\n",
       "      <td>unknown</td>\n",
       "      <td>no</td>\n",
       "      <td>261.000000</td>\n",
       "    </tr>\n",
       "    <tr>\n",
       "      <td>1</td>\n",
       "      <td>2</td>\n",
       "      <td>44.0</td>\n",
       "      <td>60000.0</td>\n",
       "      <td>29</td>\n",
       "      <td>single</td>\n",
       "      <td>technician,secondary</td>\n",
       "      <td>yes</td>\n",
       "      <td>no</td>\n",
       "      <td>yes</td>\n",
       "      <td>no</td>\n",
       "      <td>unknown</td>\n",
       "      <td>5</td>\n",
       "      <td>may, 2017</td>\n",
       "      <td>1</td>\n",
       "      <td>-1</td>\n",
       "      <td>0</td>\n",
       "      <td>unknown</td>\n",
       "      <td>no</td>\n",
       "      <td>151.000000</td>\n",
       "    </tr>\n",
       "    <tr>\n",
       "      <td>2</td>\n",
       "      <td>3</td>\n",
       "      <td>33.0</td>\n",
       "      <td>120000.0</td>\n",
       "      <td>2</td>\n",
       "      <td>married</td>\n",
       "      <td>entrepreneur,secondary</td>\n",
       "      <td>yes</td>\n",
       "      <td>no</td>\n",
       "      <td>yes</td>\n",
       "      <td>yes</td>\n",
       "      <td>unknown</td>\n",
       "      <td>5</td>\n",
       "      <td>may, 2017</td>\n",
       "      <td>1</td>\n",
       "      <td>-1</td>\n",
       "      <td>0</td>\n",
       "      <td>unknown</td>\n",
       "      <td>no</td>\n",
       "      <td>76.000000</td>\n",
       "    </tr>\n",
       "    <tr>\n",
       "      <td>3</td>\n",
       "      <td>4</td>\n",
       "      <td>47.0</td>\n",
       "      <td>20000.0</td>\n",
       "      <td>1506</td>\n",
       "      <td>married</td>\n",
       "      <td>blue-collar,unknown</td>\n",
       "      <td>no</td>\n",
       "      <td>no</td>\n",
       "      <td>yes</td>\n",
       "      <td>no</td>\n",
       "      <td>unknown</td>\n",
       "      <td>5</td>\n",
       "      <td>may, 2017</td>\n",
       "      <td>1</td>\n",
       "      <td>-1</td>\n",
       "      <td>0</td>\n",
       "      <td>unknown</td>\n",
       "      <td>no</td>\n",
       "      <td>92.000000</td>\n",
       "    </tr>\n",
       "    <tr>\n",
       "      <td>4</td>\n",
       "      <td>5</td>\n",
       "      <td>33.0</td>\n",
       "      <td>0.0</td>\n",
       "      <td>1</td>\n",
       "      <td>single</td>\n",
       "      <td>unknown,unknown</td>\n",
       "      <td>no</td>\n",
       "      <td>no</td>\n",
       "      <td>no</td>\n",
       "      <td>no</td>\n",
       "      <td>unknown</td>\n",
       "      <td>5</td>\n",
       "      <td>may, 2017</td>\n",
       "      <td>1</td>\n",
       "      <td>-1</td>\n",
       "      <td>0</td>\n",
       "      <td>unknown</td>\n",
       "      <td>no</td>\n",
       "      <td>198.000000</td>\n",
       "    </tr>\n",
       "    <tr>\n",
       "      <td>...</td>\n",
       "      <td>...</td>\n",
       "      <td>...</td>\n",
       "      <td>...</td>\n",
       "      <td>...</td>\n",
       "      <td>...</td>\n",
       "      <td>...</td>\n",
       "      <td>...</td>\n",
       "      <td>...</td>\n",
       "      <td>...</td>\n",
       "      <td>...</td>\n",
       "      <td>...</td>\n",
       "      <td>...</td>\n",
       "      <td>...</td>\n",
       "      <td>...</td>\n",
       "      <td>...</td>\n",
       "      <td>...</td>\n",
       "      <td>...</td>\n",
       "      <td>...</td>\n",
       "      <td>...</td>\n",
       "    </tr>\n",
       "    <tr>\n",
       "      <td>45206</td>\n",
       "      <td>45207</td>\n",
       "      <td>51.0</td>\n",
       "      <td>60000.0</td>\n",
       "      <td>825</td>\n",
       "      <td>married</td>\n",
       "      <td>technician,tertiary</td>\n",
       "      <td>yes</td>\n",
       "      <td>no</td>\n",
       "      <td>no</td>\n",
       "      <td>no</td>\n",
       "      <td>cellular</td>\n",
       "      <td>17</td>\n",
       "      <td>nov, 2017</td>\n",
       "      <td>3</td>\n",
       "      <td>-1</td>\n",
       "      <td>0</td>\n",
       "      <td>unknown</td>\n",
       "      <td>yes</td>\n",
       "      <td>16.283333</td>\n",
       "    </tr>\n",
       "    <tr>\n",
       "      <td>45207</td>\n",
       "      <td>45208</td>\n",
       "      <td>71.0</td>\n",
       "      <td>55000.0</td>\n",
       "      <td>1729</td>\n",
       "      <td>divorced</td>\n",
       "      <td>retired,primary</td>\n",
       "      <td>yes</td>\n",
       "      <td>no</td>\n",
       "      <td>no</td>\n",
       "      <td>no</td>\n",
       "      <td>cellular</td>\n",
       "      <td>17</td>\n",
       "      <td>nov, 2017</td>\n",
       "      <td>2</td>\n",
       "      <td>-1</td>\n",
       "      <td>0</td>\n",
       "      <td>unknown</td>\n",
       "      <td>yes</td>\n",
       "      <td>456.000000</td>\n",
       "    </tr>\n",
       "    <tr>\n",
       "      <td>45208</td>\n",
       "      <td>45209</td>\n",
       "      <td>72.0</td>\n",
       "      <td>55000.0</td>\n",
       "      <td>5715</td>\n",
       "      <td>married</td>\n",
       "      <td>retired,secondary</td>\n",
       "      <td>yes</td>\n",
       "      <td>no</td>\n",
       "      <td>no</td>\n",
       "      <td>no</td>\n",
       "      <td>cellular</td>\n",
       "      <td>17</td>\n",
       "      <td>nov, 2017</td>\n",
       "      <td>5</td>\n",
       "      <td>184</td>\n",
       "      <td>3</td>\n",
       "      <td>success</td>\n",
       "      <td>yes</td>\n",
       "      <td>18.783333</td>\n",
       "    </tr>\n",
       "    <tr>\n",
       "      <td>45209</td>\n",
       "      <td>45210</td>\n",
       "      <td>57.0</td>\n",
       "      <td>20000.0</td>\n",
       "      <td>668</td>\n",
       "      <td>married</td>\n",
       "      <td>blue-collar,secondary</td>\n",
       "      <td>yes</td>\n",
       "      <td>no</td>\n",
       "      <td>no</td>\n",
       "      <td>no</td>\n",
       "      <td>telephone</td>\n",
       "      <td>17</td>\n",
       "      <td>nov, 2017</td>\n",
       "      <td>4</td>\n",
       "      <td>-1</td>\n",
       "      <td>0</td>\n",
       "      <td>unknown</td>\n",
       "      <td>no</td>\n",
       "      <td>508.000000</td>\n",
       "    </tr>\n",
       "    <tr>\n",
       "      <td>45210</td>\n",
       "      <td>45211</td>\n",
       "      <td>37.0</td>\n",
       "      <td>120000.0</td>\n",
       "      <td>2971</td>\n",
       "      <td>married</td>\n",
       "      <td>entrepreneur,secondary</td>\n",
       "      <td>yes</td>\n",
       "      <td>no</td>\n",
       "      <td>no</td>\n",
       "      <td>no</td>\n",
       "      <td>cellular</td>\n",
       "      <td>17</td>\n",
       "      <td>nov, 2017</td>\n",
       "      <td>2</td>\n",
       "      <td>188</td>\n",
       "      <td>11</td>\n",
       "      <td>other</td>\n",
       "      <td>no</td>\n",
       "      <td>361.000000</td>\n",
       "    </tr>\n",
       "  </tbody>\n",
       "</table>\n",
       "<p>45049 rows × 19 columns</p>\n",
       "</div>"
      ],
      "text/plain": [
       "       customerid   age    salary  balance   marital                  jobedu  \\\n",
       "0               1  58.0  100000.0     2143   married     management,tertiary   \n",
       "1               2  44.0   60000.0       29    single    technician,secondary   \n",
       "2               3  33.0  120000.0        2   married  entrepreneur,secondary   \n",
       "3               4  47.0   20000.0     1506   married     blue-collar,unknown   \n",
       "4               5  33.0       0.0        1    single         unknown,unknown   \n",
       "...           ...   ...       ...      ...       ...                     ...   \n",
       "45206       45207  51.0   60000.0      825   married     technician,tertiary   \n",
       "45207       45208  71.0   55000.0     1729  divorced         retired,primary   \n",
       "45208       45209  72.0   55000.0     5715   married       retired,secondary   \n",
       "45209       45210  57.0   20000.0      668   married   blue-collar,secondary   \n",
       "45210       45211  37.0  120000.0     2971   married  entrepreneur,secondary   \n",
       "\n",
       "      targeted default housing loan    contact  day      month  campaign  \\\n",
       "0          yes      no     yes   no    unknown    5  may, 2017         1   \n",
       "1          yes      no     yes   no    unknown    5  may, 2017         1   \n",
       "2          yes      no     yes  yes    unknown    5  may, 2017         1   \n",
       "3           no      no     yes   no    unknown    5  may, 2017         1   \n",
       "4           no      no      no   no    unknown    5  may, 2017         1   \n",
       "...        ...     ...     ...  ...        ...  ...        ...       ...   \n",
       "45206      yes      no      no   no   cellular   17  nov, 2017         3   \n",
       "45207      yes      no      no   no   cellular   17  nov, 2017         2   \n",
       "45208      yes      no      no   no   cellular   17  nov, 2017         5   \n",
       "45209      yes      no      no   no  telephone   17  nov, 2017         4   \n",
       "45210      yes      no      no   no   cellular   17  nov, 2017         2   \n",
       "\n",
       "       pdays  previous poutcome response    DURATION  \n",
       "0         -1         0  unknown       no  261.000000  \n",
       "1         -1         0  unknown       no  151.000000  \n",
       "2         -1         0  unknown       no   76.000000  \n",
       "3         -1         0  unknown       no   92.000000  \n",
       "4         -1         0  unknown       no  198.000000  \n",
       "...      ...       ...      ...      ...         ...  \n",
       "45206     -1         0  unknown      yes   16.283333  \n",
       "45207     -1         0  unknown      yes  456.000000  \n",
       "45208    184         3  success      yes   18.783333  \n",
       "45209     -1         0  unknown       no  508.000000  \n",
       "45210    188        11    other       no  361.000000  \n",
       "\n",
       "[45049 rows x 19 columns]"
      ]
     },
     "execution_count": 319,
     "metadata": {},
     "output_type": "execute_result"
    }
   ],
   "source": [
    "bank"
   ]
  },
  {
   "cell_type": "code",
   "execution_count": 320,
   "metadata": {},
   "outputs": [
    {
     "name": "stdout",
     "output_type": "stream",
     "text": [
      "<class 'pandas.core.frame.DataFrame'>\n",
      "Int64Index: 45049 entries, 0 to 45210\n",
      "Data columns (total 19 columns):\n",
      "customerid    45049 non-null int64\n",
      "age           45049 non-null float64\n",
      "salary        45049 non-null float64\n",
      "balance       45049 non-null int64\n",
      "marital       45049 non-null object\n",
      "jobedu        45049 non-null object\n",
      "targeted      45049 non-null object\n",
      "default       45049 non-null object\n",
      "housing       45049 non-null object\n",
      "loan          45049 non-null object\n",
      "contact       45049 non-null object\n",
      "day           45049 non-null int64\n",
      "month         45049 non-null object\n",
      "campaign      45049 non-null int64\n",
      "pdays         45049 non-null int64\n",
      "previous      45049 non-null int64\n",
      "poutcome      45049 non-null object\n",
      "response      45049 non-null object\n",
      "DURATION      45049 non-null float64\n",
      "dtypes: float64(3), int64(6), object(10)\n",
      "memory usage: 6.9+ MB\n"
     ]
    }
   ],
   "source": [
    "bank.info()"
   ]
  },
  {
   "cell_type": "code",
   "execution_count": 321,
   "metadata": {},
   "outputs": [
    {
     "data": {
      "text/plain": [
       "(45049, 19)"
      ]
     },
     "execution_count": 321,
     "metadata": {},
     "output_type": "execute_result"
    }
   ],
   "source": [
    "bank.shape"
   ]
  },
  {
   "cell_type": "code",
   "execution_count": 322,
   "metadata": {},
   "outputs": [
    {
     "data": {
      "text/html": [
       "<div>\n",
       "<style scoped>\n",
       "    .dataframe tbody tr th:only-of-type {\n",
       "        vertical-align: middle;\n",
       "    }\n",
       "\n",
       "    .dataframe tbody tr th {\n",
       "        vertical-align: top;\n",
       "    }\n",
       "\n",
       "    .dataframe thead th {\n",
       "        text-align: right;\n",
       "    }\n",
       "</style>\n",
       "<table border=\"1\" class=\"dataframe\">\n",
       "  <thead>\n",
       "    <tr style=\"text-align: right;\">\n",
       "      <th></th>\n",
       "      <th>customerid</th>\n",
       "      <th>age</th>\n",
       "      <th>salary</th>\n",
       "      <th>balance</th>\n",
       "      <th>day</th>\n",
       "      <th>campaign</th>\n",
       "      <th>pdays</th>\n",
       "      <th>previous</th>\n",
       "      <th>DURATION</th>\n",
       "    </tr>\n",
       "  </thead>\n",
       "  <tbody>\n",
       "    <tr>\n",
       "      <td>count</td>\n",
       "      <td>45049.000000</td>\n",
       "      <td>45049.000000</td>\n",
       "      <td>45049.000000</td>\n",
       "      <td>45049.000000</td>\n",
       "      <td>45049.000000</td>\n",
       "      <td>45049.000000</td>\n",
       "      <td>45049.000000</td>\n",
       "      <td>45049.000000</td>\n",
       "      <td>45049.000000</td>\n",
       "    </tr>\n",
       "    <tr>\n",
       "      <td>mean</td>\n",
       "      <td>22611.059557</td>\n",
       "      <td>40.927523</td>\n",
       "      <td>57084.241604</td>\n",
       "      <td>1361.284490</td>\n",
       "      <td>15.809230</td>\n",
       "      <td>2.762081</td>\n",
       "      <td>40.224800</td>\n",
       "      <td>0.580923</td>\n",
       "      <td>205.753144</td>\n",
       "    </tr>\n",
       "    <tr>\n",
       "      <td>std</td>\n",
       "      <td>13048.811487</td>\n",
       "      <td>10.615914</td>\n",
       "      <td>32042.589845</td>\n",
       "      <td>3042.656384</td>\n",
       "      <td>8.322385</td>\n",
       "      <td>3.093049</td>\n",
       "      <td>100.103758</td>\n",
       "      <td>2.306040</td>\n",
       "      <td>185.789106</td>\n",
       "    </tr>\n",
       "    <tr>\n",
       "      <td>min</td>\n",
       "      <td>1.000000</td>\n",
       "      <td>18.000000</td>\n",
       "      <td>0.000000</td>\n",
       "      <td>-8019.000000</td>\n",
       "      <td>1.000000</td>\n",
       "      <td>1.000000</td>\n",
       "      <td>-1.000000</td>\n",
       "      <td>0.000000</td>\n",
       "      <td>0.000000</td>\n",
       "    </tr>\n",
       "    <tr>\n",
       "      <td>25%</td>\n",
       "      <td>11321.000000</td>\n",
       "      <td>33.000000</td>\n",
       "      <td>20000.000000</td>\n",
       "      <td>72.000000</td>\n",
       "      <td>8.000000</td>\n",
       "      <td>1.000000</td>\n",
       "      <td>-1.000000</td>\n",
       "      <td>0.000000</td>\n",
       "      <td>87.000000</td>\n",
       "    </tr>\n",
       "    <tr>\n",
       "      <td>50%</td>\n",
       "      <td>22613.000000</td>\n",
       "      <td>39.000000</td>\n",
       "      <td>60000.000000</td>\n",
       "      <td>448.000000</td>\n",
       "      <td>16.000000</td>\n",
       "      <td>2.000000</td>\n",
       "      <td>-1.000000</td>\n",
       "      <td>0.000000</td>\n",
       "      <td>160.000000</td>\n",
       "    </tr>\n",
       "    <tr>\n",
       "      <td>75%</td>\n",
       "      <td>33912.000000</td>\n",
       "      <td>48.000000</td>\n",
       "      <td>70000.000000</td>\n",
       "      <td>1428.000000</td>\n",
       "      <td>21.000000</td>\n",
       "      <td>3.000000</td>\n",
       "      <td>-1.000000</td>\n",
       "      <td>0.000000</td>\n",
       "      <td>274.000000</td>\n",
       "    </tr>\n",
       "    <tr>\n",
       "      <td>max</td>\n",
       "      <td>45211.000000</td>\n",
       "      <td>95.000000</td>\n",
       "      <td>120000.000000</td>\n",
       "      <td>102127.000000</td>\n",
       "      <td>31.000000</td>\n",
       "      <td>63.000000</td>\n",
       "      <td>871.000000</td>\n",
       "      <td>275.000000</td>\n",
       "      <td>3881.000000</td>\n",
       "    </tr>\n",
       "  </tbody>\n",
       "</table>\n",
       "</div>"
      ],
      "text/plain": [
       "         customerid           age         salary        balance           day  \\\n",
       "count  45049.000000  45049.000000   45049.000000   45049.000000  45049.000000   \n",
       "mean   22611.059557     40.927523   57084.241604    1361.284490     15.809230   \n",
       "std    13048.811487     10.615914   32042.589845    3042.656384      8.322385   \n",
       "min        1.000000     18.000000       0.000000   -8019.000000      1.000000   \n",
       "25%    11321.000000     33.000000   20000.000000      72.000000      8.000000   \n",
       "50%    22613.000000     39.000000   60000.000000     448.000000     16.000000   \n",
       "75%    33912.000000     48.000000   70000.000000    1428.000000     21.000000   \n",
       "max    45211.000000     95.000000  120000.000000  102127.000000     31.000000   \n",
       "\n",
       "           campaign         pdays      previous      DURATION  \n",
       "count  45049.000000  45049.000000  45049.000000  45049.000000  \n",
       "mean       2.762081     40.224800      0.580923    205.753144  \n",
       "std        3.093049    100.103758      2.306040    185.789106  \n",
       "min        1.000000     -1.000000      0.000000      0.000000  \n",
       "25%        1.000000     -1.000000      0.000000     87.000000  \n",
       "50%        2.000000     -1.000000      0.000000    160.000000  \n",
       "75%        3.000000     -1.000000      0.000000    274.000000  \n",
       "max       63.000000    871.000000    275.000000   3881.000000  "
      ]
     },
     "execution_count": 322,
     "metadata": {},
     "output_type": "execute_result"
    }
   ],
   "source": [
    "bank.describe()"
   ]
  },
  {
   "cell_type": "markdown",
   "metadata": {},
   "source": [
    "<b> OBSERVATION: </b>\n",
    "\n",
    "\n",
    "Age:\n",
    "    \n",
    "    mean - 40.9\n",
    "    Standard Dev - 10.6\n",
    "    first quantile - 33.0\n",
    "    Median or Second quantile - 39.0\n",
    "    \n",
    "    \n",
    "Balance:\n",
    "   \n",
    "    Mean - 1362.27\n",
    "    Standard Dev - 3044.76\n",
    "    first quantile - 72.00\n",
    "    Median or Second quantile - 448.00\n",
    "    \n",
    "\n",
    "Duration:\n",
    "\n",
    "    Mean - 205.73\n",
    "    Standard Dev - 185.73\n",
    "    first quantile - 87.00\n",
    "    Median or Second quantile - 160.00\n",
    "    \n"
   ]
  },
  {
   "cell_type": "markdown",
   "metadata": {},
   "source": [
    "<b> The value_counts() function is used to get a Series containing counts of unique values. </b>"
   ]
  },
  {
   "cell_type": "code",
   "execution_count": 323,
   "metadata": {},
   "outputs": [
    {
     "data": {
      "text/plain": [
       "2047     1\n",
       "1354     1\n",
       "34138    1\n",
       "40281    1\n",
       "38232    1\n",
       "        ..\n",
       "21151    1\n",
       "23198    1\n",
       "17053    1\n",
       "19100    1\n",
       "2049     1\n",
       "Name: customerid, Length: 45049, dtype: int64"
      ]
     },
     "execution_count": 323,
     "metadata": {},
     "output_type": "execute_result"
    }
   ],
   "source": [
    "bank['customerid'].value_counts()"
   ]
  },
  {
   "cell_type": "code",
   "execution_count": 324,
   "metadata": {},
   "outputs": [
    {
     "data": {
      "text/plain": [
       "32.0    2082\n",
       "31.0    1987\n",
       "33.0    1970\n",
       "34.0    1925\n",
       "35.0    1885\n",
       "        ... \n",
       "93.0       2\n",
       "88.0       2\n",
       "95.0       2\n",
       "92.0       2\n",
       "94.0       1\n",
       "Name: age, Length: 77, dtype: int64"
      ]
     },
     "execution_count": 324,
     "metadata": {},
     "output_type": "execute_result"
    }
   ],
   "source": [
    "bank['age'].value_counts()"
   ]
  },
  {
   "cell_type": "code",
   "execution_count": 325,
   "metadata": {},
   "outputs": [
    {
     "data": {
      "text/plain": [
       "20000.0     9713\n",
       "100000.0    9442\n",
       "60000.0     9153\n",
       "50000.0     5159\n",
       "70000.0     4142\n",
       "55000.0     2258\n",
       "120000.0    1483\n",
       "8000.0      1302\n",
       "16000.0     1234\n",
       "4000.0       937\n",
       "0.0          226\n",
       "Name: salary, dtype: int64"
      ]
     },
     "execution_count": 325,
     "metadata": {},
     "output_type": "execute_result"
    }
   ],
   "source": [
    "bank['salary'].value_counts()"
   ]
  },
  {
   "cell_type": "code",
   "execution_count": 327,
   "metadata": {},
   "outputs": [
    {
     "data": {
      "text/plain": [
       "married     27111\n",
       "single      12747\n",
       "divorced     5191\n",
       "Name: marital, dtype: int64"
      ]
     },
     "execution_count": 327,
     "metadata": {},
     "output_type": "execute_result"
    }
   ],
   "source": [
    "bank['marital'].value_counts()"
   ]
  },
  {
   "cell_type": "code",
   "execution_count": 328,
   "metadata": {},
   "outputs": [
    {
     "data": {
      "text/plain": [
       "management,tertiary        7788\n",
       "blue-collar,secondary      5365\n",
       "technician,secondary       5219\n",
       "admin.,secondary           4210\n",
       "blue-collar,primary        3746\n",
       "services,secondary         3450\n",
       "technician,tertiary        1962\n",
       "management,secondary       1119\n",
       "retired,secondary           982\n",
       "self-employed,tertiary      827\n",
       "retired,primary             793\n",
       "unemployed,secondary        728\n",
       "entrepreneur,tertiary       685\n",
       "housemaid,primary           623\n",
       "self-employed,secondary     576\n",
       "admin.,tertiary             570\n",
       "entrepreneur,secondary      540\n",
       "student,secondary           508\n",
       "blue-collar,unknown         453\n",
       "housemaid,secondary         394\n",
       "retired,tertiary            365\n",
       "services,primary            343\n",
       "management,primary          294\n",
       "unemployed,tertiary         289\n",
       "unemployed,primary          256\n",
       "technician,unknown          242\n",
       "management,unknown          241\n",
       "student,tertiary            222\n",
       "admin.,primary              209\n",
       "services,tertiary           200\n",
       "entrepreneur,primary        183\n",
       "housemaid,tertiary          172\n",
       "admin.,unknown              170\n",
       "student,unknown             163\n",
       "technician,primary          158\n",
       "services,unknown            149\n",
       "blue-collar,tertiary        149\n",
       "self-employed,primary       130\n",
       "retired,unknown             118\n",
       "entrepreneur,unknown         75\n",
       "unknown,secondary            71\n",
       "unknown,unknown              65\n",
       "unknown,primary              51\n",
       "housemaid,unknown            45\n",
       "student,primary              44\n",
       "unknown,tertiary             39\n",
       "self-employed,unknown        39\n",
       "unemployed,unknown           29\n",
       "Name: jobedu, dtype: int64"
      ]
     },
     "execution_count": 328,
     "metadata": {},
     "output_type": "execute_result"
    }
   ],
   "source": [
    "bank['jobedu'].value_counts()"
   ]
  },
  {
   "cell_type": "code",
   "execution_count": 329,
   "metadata": {},
   "outputs": [
    {
     "data": {
      "text/plain": [
       "yes    25066\n",
       "no     19983\n",
       "Name: housing, dtype: int64"
      ]
     },
     "execution_count": 329,
     "metadata": {},
     "output_type": "execute_result"
    }
   ],
   "source": [
    "bank['housing'].value_counts()"
   ]
  },
  {
   "cell_type": "code",
   "execution_count": 330,
   "metadata": {},
   "outputs": [
    {
     "data": {
      "text/plain": [
       "20    2744\n",
       "18    2301\n",
       "21    2021\n",
       "17    1934\n",
       "6     1923\n",
       "5     1900\n",
       "14    1841\n",
       "8     1836\n",
       "28    1820\n",
       "7     1809\n",
       "19    1749\n",
       "29    1740\n",
       "15    1700\n",
       "12    1598\n",
       "13    1577\n",
       "30    1563\n",
       "9     1554\n",
       "11    1471\n",
       "4     1442\n",
       "16    1411\n",
       "2     1290\n",
       "27    1116\n",
       "3     1072\n",
       "26    1032\n",
       "23     936\n",
       "22     901\n",
       "25     836\n",
       "31     642\n",
       "10     522\n",
       "24     447\n",
       "1      321\n",
       "Name: day, dtype: int64"
      ]
     },
     "execution_count": 330,
     "metadata": {},
     "output_type": "execute_result"
    }
   ],
   "source": [
    "bank['day'].value_counts()"
   ]
  },
  {
   "cell_type": "code",
   "execution_count": 331,
   "metadata": {},
   "outputs": [
    {
     "data": {
      "text/plain": [
       "no     39783\n",
       "yes     5266\n",
       "Name: response, dtype: int64"
      ]
     },
     "execution_count": 331,
     "metadata": {},
     "output_type": "execute_result"
    }
   ],
   "source": [
    "bank['response'].value_counts()"
   ]
  },
  {
   "cell_type": "code",
   "execution_count": 332,
   "metadata": {},
   "outputs": [
    {
     "data": {
      "text/plain": [
       "90.000000      184\n",
       "114.000000     174\n",
       "81.000000      166\n",
       "111.000000     165\n",
       "108.000000     165\n",
       "              ... \n",
       "965.000000       1\n",
       "24.766667        1\n",
       "1255.000000      1\n",
       "1720.000000      1\n",
       "33.583333        1\n",
       "Name: DURATION, Length: 2432, dtype: int64"
      ]
     },
     "execution_count": 332,
     "metadata": {},
     "output_type": "execute_result"
    }
   ],
   "source": [
    "bank['DURATION'].value_counts()"
   ]
  },
  {
   "cell_type": "code",
   "execution_count": 333,
   "metadata": {},
   "outputs": [
    {
     "data": {
      "text/plain": [
       "unknown    36820\n",
       "failure     4887\n",
       "other       1839\n",
       "success     1503\n",
       "Name: poutcome, dtype: int64"
      ]
     },
     "execution_count": 333,
     "metadata": {},
     "output_type": "execute_result"
    }
   ],
   "source": [
    "bank['poutcome'].value_counts()"
   ]
  },
  {
   "cell_type": "code",
   "execution_count": 334,
   "metadata": {},
   "outputs": [
    {
     "data": {
      "text/plain": [
       "cellular     29202\n",
       "unknown      12956\n",
       "telephone     2891\n",
       "Name: contact, dtype: int64"
      ]
     },
     "execution_count": 334,
     "metadata": {},
     "output_type": "execute_result"
    }
   ],
   "source": [
    "bank['contact'].value_counts()"
   ]
  },
  {
   "cell_type": "code",
   "execution_count": 335,
   "metadata": {},
   "outputs": [
    {
     "data": {
      "text/plain": [
       "Index(['customerid', 'age', 'salary', 'balance', 'marital', 'jobedu',\n",
       "       'targeted', 'default', 'housing', 'loan', 'contact', 'day', 'month',\n",
       "       'campaign', 'pdays', 'previous', 'poutcome', 'response', 'DURATION'],\n",
       "      dtype='object')"
      ]
     },
     "execution_count": 335,
     "metadata": {},
     "output_type": "execute_result"
    }
   ],
   "source": [
    "bank.columns"
   ]
  },
  {
   "cell_type": "code",
   "execution_count": 336,
   "metadata": {},
   "outputs": [
    {
     "data": {
      "text/html": [
       "<div>\n",
       "<style scoped>\n",
       "    .dataframe tbody tr th:only-of-type {\n",
       "        vertical-align: middle;\n",
       "    }\n",
       "\n",
       "    .dataframe tbody tr th {\n",
       "        vertical-align: top;\n",
       "    }\n",
       "\n",
       "    .dataframe thead th {\n",
       "        text-align: right;\n",
       "    }\n",
       "</style>\n",
       "<table border=\"1\" class=\"dataframe\">\n",
       "  <thead>\n",
       "    <tr style=\"text-align: right;\">\n",
       "      <th></th>\n",
       "      <th>customerid</th>\n",
       "      <th>age</th>\n",
       "      <th>salary</th>\n",
       "      <th>balance</th>\n",
       "      <th>marital</th>\n",
       "      <th>jobedu</th>\n",
       "      <th>targeted</th>\n",
       "      <th>default</th>\n",
       "      <th>housing</th>\n",
       "      <th>loan</th>\n",
       "      <th>contact</th>\n",
       "      <th>day</th>\n",
       "      <th>month</th>\n",
       "      <th>campaign</th>\n",
       "      <th>pdays</th>\n",
       "      <th>previous</th>\n",
       "      <th>poutcome</th>\n",
       "      <th>response</th>\n",
       "      <th>DURATION</th>\n",
       "    </tr>\n",
       "  </thead>\n",
       "  <tbody>\n",
       "    <tr>\n",
       "      <td>0</td>\n",
       "      <td>1</td>\n",
       "      <td>58.0</td>\n",
       "      <td>100000.0</td>\n",
       "      <td>2143</td>\n",
       "      <td>married</td>\n",
       "      <td>management,tertiary</td>\n",
       "      <td>yes</td>\n",
       "      <td>no</td>\n",
       "      <td>yes</td>\n",
       "      <td>no</td>\n",
       "      <td>unknown</td>\n",
       "      <td>5</td>\n",
       "      <td>may, 2017</td>\n",
       "      <td>1</td>\n",
       "      <td>-1</td>\n",
       "      <td>0</td>\n",
       "      <td>unknown</td>\n",
       "      <td>no</td>\n",
       "      <td>261.000000</td>\n",
       "    </tr>\n",
       "    <tr>\n",
       "      <td>1</td>\n",
       "      <td>2</td>\n",
       "      <td>44.0</td>\n",
       "      <td>60000.0</td>\n",
       "      <td>29</td>\n",
       "      <td>single</td>\n",
       "      <td>technician,secondary</td>\n",
       "      <td>yes</td>\n",
       "      <td>no</td>\n",
       "      <td>yes</td>\n",
       "      <td>no</td>\n",
       "      <td>unknown</td>\n",
       "      <td>5</td>\n",
       "      <td>may, 2017</td>\n",
       "      <td>1</td>\n",
       "      <td>-1</td>\n",
       "      <td>0</td>\n",
       "      <td>unknown</td>\n",
       "      <td>no</td>\n",
       "      <td>151.000000</td>\n",
       "    </tr>\n",
       "    <tr>\n",
       "      <td>2</td>\n",
       "      <td>3</td>\n",
       "      <td>33.0</td>\n",
       "      <td>120000.0</td>\n",
       "      <td>2</td>\n",
       "      <td>married</td>\n",
       "      <td>entrepreneur,secondary</td>\n",
       "      <td>yes</td>\n",
       "      <td>no</td>\n",
       "      <td>yes</td>\n",
       "      <td>yes</td>\n",
       "      <td>unknown</td>\n",
       "      <td>5</td>\n",
       "      <td>may, 2017</td>\n",
       "      <td>1</td>\n",
       "      <td>-1</td>\n",
       "      <td>0</td>\n",
       "      <td>unknown</td>\n",
       "      <td>no</td>\n",
       "      <td>76.000000</td>\n",
       "    </tr>\n",
       "    <tr>\n",
       "      <td>3</td>\n",
       "      <td>4</td>\n",
       "      <td>47.0</td>\n",
       "      <td>20000.0</td>\n",
       "      <td>1506</td>\n",
       "      <td>married</td>\n",
       "      <td>blue-collar,unknown</td>\n",
       "      <td>no</td>\n",
       "      <td>no</td>\n",
       "      <td>yes</td>\n",
       "      <td>no</td>\n",
       "      <td>unknown</td>\n",
       "      <td>5</td>\n",
       "      <td>may, 2017</td>\n",
       "      <td>1</td>\n",
       "      <td>-1</td>\n",
       "      <td>0</td>\n",
       "      <td>unknown</td>\n",
       "      <td>no</td>\n",
       "      <td>92.000000</td>\n",
       "    </tr>\n",
       "    <tr>\n",
       "      <td>4</td>\n",
       "      <td>5</td>\n",
       "      <td>33.0</td>\n",
       "      <td>0.0</td>\n",
       "      <td>1</td>\n",
       "      <td>single</td>\n",
       "      <td>unknown,unknown</td>\n",
       "      <td>no</td>\n",
       "      <td>no</td>\n",
       "      <td>no</td>\n",
       "      <td>no</td>\n",
       "      <td>unknown</td>\n",
       "      <td>5</td>\n",
       "      <td>may, 2017</td>\n",
       "      <td>1</td>\n",
       "      <td>-1</td>\n",
       "      <td>0</td>\n",
       "      <td>unknown</td>\n",
       "      <td>no</td>\n",
       "      <td>198.000000</td>\n",
       "    </tr>\n",
       "    <tr>\n",
       "      <td>...</td>\n",
       "      <td>...</td>\n",
       "      <td>...</td>\n",
       "      <td>...</td>\n",
       "      <td>...</td>\n",
       "      <td>...</td>\n",
       "      <td>...</td>\n",
       "      <td>...</td>\n",
       "      <td>...</td>\n",
       "      <td>...</td>\n",
       "      <td>...</td>\n",
       "      <td>...</td>\n",
       "      <td>...</td>\n",
       "      <td>...</td>\n",
       "      <td>...</td>\n",
       "      <td>...</td>\n",
       "      <td>...</td>\n",
       "      <td>...</td>\n",
       "      <td>...</td>\n",
       "      <td>...</td>\n",
       "    </tr>\n",
       "    <tr>\n",
       "      <td>45206</td>\n",
       "      <td>45207</td>\n",
       "      <td>51.0</td>\n",
       "      <td>60000.0</td>\n",
       "      <td>825</td>\n",
       "      <td>married</td>\n",
       "      <td>technician,tertiary</td>\n",
       "      <td>yes</td>\n",
       "      <td>no</td>\n",
       "      <td>no</td>\n",
       "      <td>no</td>\n",
       "      <td>cellular</td>\n",
       "      <td>17</td>\n",
       "      <td>nov, 2017</td>\n",
       "      <td>3</td>\n",
       "      <td>-1</td>\n",
       "      <td>0</td>\n",
       "      <td>unknown</td>\n",
       "      <td>yes</td>\n",
       "      <td>16.283333</td>\n",
       "    </tr>\n",
       "    <tr>\n",
       "      <td>45207</td>\n",
       "      <td>45208</td>\n",
       "      <td>71.0</td>\n",
       "      <td>55000.0</td>\n",
       "      <td>1729</td>\n",
       "      <td>divorced</td>\n",
       "      <td>retired,primary</td>\n",
       "      <td>yes</td>\n",
       "      <td>no</td>\n",
       "      <td>no</td>\n",
       "      <td>no</td>\n",
       "      <td>cellular</td>\n",
       "      <td>17</td>\n",
       "      <td>nov, 2017</td>\n",
       "      <td>2</td>\n",
       "      <td>-1</td>\n",
       "      <td>0</td>\n",
       "      <td>unknown</td>\n",
       "      <td>yes</td>\n",
       "      <td>456.000000</td>\n",
       "    </tr>\n",
       "    <tr>\n",
       "      <td>45208</td>\n",
       "      <td>45209</td>\n",
       "      <td>72.0</td>\n",
       "      <td>55000.0</td>\n",
       "      <td>5715</td>\n",
       "      <td>married</td>\n",
       "      <td>retired,secondary</td>\n",
       "      <td>yes</td>\n",
       "      <td>no</td>\n",
       "      <td>no</td>\n",
       "      <td>no</td>\n",
       "      <td>cellular</td>\n",
       "      <td>17</td>\n",
       "      <td>nov, 2017</td>\n",
       "      <td>5</td>\n",
       "      <td>184</td>\n",
       "      <td>3</td>\n",
       "      <td>success</td>\n",
       "      <td>yes</td>\n",
       "      <td>18.783333</td>\n",
       "    </tr>\n",
       "    <tr>\n",
       "      <td>45209</td>\n",
       "      <td>45210</td>\n",
       "      <td>57.0</td>\n",
       "      <td>20000.0</td>\n",
       "      <td>668</td>\n",
       "      <td>married</td>\n",
       "      <td>blue-collar,secondary</td>\n",
       "      <td>yes</td>\n",
       "      <td>no</td>\n",
       "      <td>no</td>\n",
       "      <td>no</td>\n",
       "      <td>telephone</td>\n",
       "      <td>17</td>\n",
       "      <td>nov, 2017</td>\n",
       "      <td>4</td>\n",
       "      <td>-1</td>\n",
       "      <td>0</td>\n",
       "      <td>unknown</td>\n",
       "      <td>no</td>\n",
       "      <td>508.000000</td>\n",
       "    </tr>\n",
       "    <tr>\n",
       "      <td>45210</td>\n",
       "      <td>45211</td>\n",
       "      <td>37.0</td>\n",
       "      <td>120000.0</td>\n",
       "      <td>2971</td>\n",
       "      <td>married</td>\n",
       "      <td>entrepreneur,secondary</td>\n",
       "      <td>yes</td>\n",
       "      <td>no</td>\n",
       "      <td>no</td>\n",
       "      <td>no</td>\n",
       "      <td>cellular</td>\n",
       "      <td>17</td>\n",
       "      <td>nov, 2017</td>\n",
       "      <td>2</td>\n",
       "      <td>188</td>\n",
       "      <td>11</td>\n",
       "      <td>other</td>\n",
       "      <td>no</td>\n",
       "      <td>361.000000</td>\n",
       "    </tr>\n",
       "  </tbody>\n",
       "</table>\n",
       "<p>45049 rows × 19 columns</p>\n",
       "</div>"
      ],
      "text/plain": [
       "       customerid   age    salary  balance   marital                  jobedu  \\\n",
       "0               1  58.0  100000.0     2143   married     management,tertiary   \n",
       "1               2  44.0   60000.0       29    single    technician,secondary   \n",
       "2               3  33.0  120000.0        2   married  entrepreneur,secondary   \n",
       "3               4  47.0   20000.0     1506   married     blue-collar,unknown   \n",
       "4               5  33.0       0.0        1    single         unknown,unknown   \n",
       "...           ...   ...       ...      ...       ...                     ...   \n",
       "45206       45207  51.0   60000.0      825   married     technician,tertiary   \n",
       "45207       45208  71.0   55000.0     1729  divorced         retired,primary   \n",
       "45208       45209  72.0   55000.0     5715   married       retired,secondary   \n",
       "45209       45210  57.0   20000.0      668   married   blue-collar,secondary   \n",
       "45210       45211  37.0  120000.0     2971   married  entrepreneur,secondary   \n",
       "\n",
       "      targeted default housing loan    contact  day      month  campaign  \\\n",
       "0          yes      no     yes   no    unknown    5  may, 2017         1   \n",
       "1          yes      no     yes   no    unknown    5  may, 2017         1   \n",
       "2          yes      no     yes  yes    unknown    5  may, 2017         1   \n",
       "3           no      no     yes   no    unknown    5  may, 2017         1   \n",
       "4           no      no      no   no    unknown    5  may, 2017         1   \n",
       "...        ...     ...     ...  ...        ...  ...        ...       ...   \n",
       "45206      yes      no      no   no   cellular   17  nov, 2017         3   \n",
       "45207      yes      no      no   no   cellular   17  nov, 2017         2   \n",
       "45208      yes      no      no   no   cellular   17  nov, 2017         5   \n",
       "45209      yes      no      no   no  telephone   17  nov, 2017         4   \n",
       "45210      yes      no      no   no   cellular   17  nov, 2017         2   \n",
       "\n",
       "       pdays  previous poutcome response    DURATION  \n",
       "0         -1         0  unknown       no  261.000000  \n",
       "1         -1         0  unknown       no  151.000000  \n",
       "2         -1         0  unknown       no   76.000000  \n",
       "3         -1         0  unknown       no   92.000000  \n",
       "4         -1         0  unknown       no  198.000000  \n",
       "...      ...       ...      ...      ...         ...  \n",
       "45206     -1         0  unknown      yes   16.283333  \n",
       "45207     -1         0  unknown      yes  456.000000  \n",
       "45208    184         3  success      yes   18.783333  \n",
       "45209     -1         0  unknown       no  508.000000  \n",
       "45210    188        11    other       no  361.000000  \n",
       "\n",
       "[45049 rows x 19 columns]"
      ]
     },
     "execution_count": 336,
     "metadata": {},
     "output_type": "execute_result"
    }
   ],
   "source": [
    "bank"
   ]
  },
  {
   "cell_type": "code",
   "execution_count": 337,
   "metadata": {},
   "outputs": [],
   "source": [
    "bank.age = bank.age.astype(int)\n",
    "\n",
    "bank.salary = bank.salary.astype(int)\n",
    "\n",
    "bank.balance = bank.balance.astype(int)\n",
    "\n",
    "bank.day = bank.day.astype(int)\n",
    "\n",
    "bank.previous = bank.previous.astype(int)\n",
    "\n"
   ]
  },
  {
   "cell_type": "markdown",
   "metadata": {},
   "source": [
    "<b> RENAMING FOR BETTER READABILITY </b>\n"
   ]
  },
  {
   "cell_type": "code",
   "execution_count": 338,
   "metadata": {},
   "outputs": [],
   "source": [
    "bank.columns = ['Customer_ID','Age','Salary','Balance','Marital_Status','Job_Education','Target_Person','Default','Housing_Loan','Normal_Loan','Contact_Type','Day','Last_Contact_Month','Campaign','P-Days','Previous','P_Outcome','Response','Duration']"
   ]
  },
  {
   "cell_type": "code",
   "execution_count": 339,
   "metadata": {},
   "outputs": [
    {
     "data": {
      "text/html": [
       "<div>\n",
       "<style scoped>\n",
       "    .dataframe tbody tr th:only-of-type {\n",
       "        vertical-align: middle;\n",
       "    }\n",
       "\n",
       "    .dataframe tbody tr th {\n",
       "        vertical-align: top;\n",
       "    }\n",
       "\n",
       "    .dataframe thead th {\n",
       "        text-align: right;\n",
       "    }\n",
       "</style>\n",
       "<table border=\"1\" class=\"dataframe\">\n",
       "  <thead>\n",
       "    <tr style=\"text-align: right;\">\n",
       "      <th></th>\n",
       "      <th>Customer_ID</th>\n",
       "      <th>Age</th>\n",
       "      <th>Salary</th>\n",
       "      <th>Balance</th>\n",
       "      <th>Marital_Status</th>\n",
       "      <th>Job_Education</th>\n",
       "      <th>Target_Person</th>\n",
       "      <th>Default</th>\n",
       "      <th>Housing_Loan</th>\n",
       "      <th>Normal_Loan</th>\n",
       "      <th>Contact_Type</th>\n",
       "      <th>Day</th>\n",
       "      <th>Last_Contact_Month</th>\n",
       "      <th>Campaign</th>\n",
       "      <th>P-Days</th>\n",
       "      <th>Previous</th>\n",
       "      <th>P_Outcome</th>\n",
       "      <th>Response</th>\n",
       "      <th>Duration</th>\n",
       "    </tr>\n",
       "  </thead>\n",
       "  <tbody>\n",
       "    <tr>\n",
       "      <td>0</td>\n",
       "      <td>1</td>\n",
       "      <td>58</td>\n",
       "      <td>100000</td>\n",
       "      <td>2143</td>\n",
       "      <td>married</td>\n",
       "      <td>management,tertiary</td>\n",
       "      <td>yes</td>\n",
       "      <td>no</td>\n",
       "      <td>yes</td>\n",
       "      <td>no</td>\n",
       "      <td>unknown</td>\n",
       "      <td>5</td>\n",
       "      <td>may, 2017</td>\n",
       "      <td>1</td>\n",
       "      <td>-1</td>\n",
       "      <td>0</td>\n",
       "      <td>unknown</td>\n",
       "      <td>no</td>\n",
       "      <td>261.000000</td>\n",
       "    </tr>\n",
       "    <tr>\n",
       "      <td>1</td>\n",
       "      <td>2</td>\n",
       "      <td>44</td>\n",
       "      <td>60000</td>\n",
       "      <td>29</td>\n",
       "      <td>single</td>\n",
       "      <td>technician,secondary</td>\n",
       "      <td>yes</td>\n",
       "      <td>no</td>\n",
       "      <td>yes</td>\n",
       "      <td>no</td>\n",
       "      <td>unknown</td>\n",
       "      <td>5</td>\n",
       "      <td>may, 2017</td>\n",
       "      <td>1</td>\n",
       "      <td>-1</td>\n",
       "      <td>0</td>\n",
       "      <td>unknown</td>\n",
       "      <td>no</td>\n",
       "      <td>151.000000</td>\n",
       "    </tr>\n",
       "    <tr>\n",
       "      <td>2</td>\n",
       "      <td>3</td>\n",
       "      <td>33</td>\n",
       "      <td>120000</td>\n",
       "      <td>2</td>\n",
       "      <td>married</td>\n",
       "      <td>entrepreneur,secondary</td>\n",
       "      <td>yes</td>\n",
       "      <td>no</td>\n",
       "      <td>yes</td>\n",
       "      <td>yes</td>\n",
       "      <td>unknown</td>\n",
       "      <td>5</td>\n",
       "      <td>may, 2017</td>\n",
       "      <td>1</td>\n",
       "      <td>-1</td>\n",
       "      <td>0</td>\n",
       "      <td>unknown</td>\n",
       "      <td>no</td>\n",
       "      <td>76.000000</td>\n",
       "    </tr>\n",
       "    <tr>\n",
       "      <td>3</td>\n",
       "      <td>4</td>\n",
       "      <td>47</td>\n",
       "      <td>20000</td>\n",
       "      <td>1506</td>\n",
       "      <td>married</td>\n",
       "      <td>blue-collar,unknown</td>\n",
       "      <td>no</td>\n",
       "      <td>no</td>\n",
       "      <td>yes</td>\n",
       "      <td>no</td>\n",
       "      <td>unknown</td>\n",
       "      <td>5</td>\n",
       "      <td>may, 2017</td>\n",
       "      <td>1</td>\n",
       "      <td>-1</td>\n",
       "      <td>0</td>\n",
       "      <td>unknown</td>\n",
       "      <td>no</td>\n",
       "      <td>92.000000</td>\n",
       "    </tr>\n",
       "    <tr>\n",
       "      <td>4</td>\n",
       "      <td>5</td>\n",
       "      <td>33</td>\n",
       "      <td>0</td>\n",
       "      <td>1</td>\n",
       "      <td>single</td>\n",
       "      <td>unknown,unknown</td>\n",
       "      <td>no</td>\n",
       "      <td>no</td>\n",
       "      <td>no</td>\n",
       "      <td>no</td>\n",
       "      <td>unknown</td>\n",
       "      <td>5</td>\n",
       "      <td>may, 2017</td>\n",
       "      <td>1</td>\n",
       "      <td>-1</td>\n",
       "      <td>0</td>\n",
       "      <td>unknown</td>\n",
       "      <td>no</td>\n",
       "      <td>198.000000</td>\n",
       "    </tr>\n",
       "    <tr>\n",
       "      <td>...</td>\n",
       "      <td>...</td>\n",
       "      <td>...</td>\n",
       "      <td>...</td>\n",
       "      <td>...</td>\n",
       "      <td>...</td>\n",
       "      <td>...</td>\n",
       "      <td>...</td>\n",
       "      <td>...</td>\n",
       "      <td>...</td>\n",
       "      <td>...</td>\n",
       "      <td>...</td>\n",
       "      <td>...</td>\n",
       "      <td>...</td>\n",
       "      <td>...</td>\n",
       "      <td>...</td>\n",
       "      <td>...</td>\n",
       "      <td>...</td>\n",
       "      <td>...</td>\n",
       "      <td>...</td>\n",
       "    </tr>\n",
       "    <tr>\n",
       "      <td>45206</td>\n",
       "      <td>45207</td>\n",
       "      <td>51</td>\n",
       "      <td>60000</td>\n",
       "      <td>825</td>\n",
       "      <td>married</td>\n",
       "      <td>technician,tertiary</td>\n",
       "      <td>yes</td>\n",
       "      <td>no</td>\n",
       "      <td>no</td>\n",
       "      <td>no</td>\n",
       "      <td>cellular</td>\n",
       "      <td>17</td>\n",
       "      <td>nov, 2017</td>\n",
       "      <td>3</td>\n",
       "      <td>-1</td>\n",
       "      <td>0</td>\n",
       "      <td>unknown</td>\n",
       "      <td>yes</td>\n",
       "      <td>16.283333</td>\n",
       "    </tr>\n",
       "    <tr>\n",
       "      <td>45207</td>\n",
       "      <td>45208</td>\n",
       "      <td>71</td>\n",
       "      <td>55000</td>\n",
       "      <td>1729</td>\n",
       "      <td>divorced</td>\n",
       "      <td>retired,primary</td>\n",
       "      <td>yes</td>\n",
       "      <td>no</td>\n",
       "      <td>no</td>\n",
       "      <td>no</td>\n",
       "      <td>cellular</td>\n",
       "      <td>17</td>\n",
       "      <td>nov, 2017</td>\n",
       "      <td>2</td>\n",
       "      <td>-1</td>\n",
       "      <td>0</td>\n",
       "      <td>unknown</td>\n",
       "      <td>yes</td>\n",
       "      <td>456.000000</td>\n",
       "    </tr>\n",
       "    <tr>\n",
       "      <td>45208</td>\n",
       "      <td>45209</td>\n",
       "      <td>72</td>\n",
       "      <td>55000</td>\n",
       "      <td>5715</td>\n",
       "      <td>married</td>\n",
       "      <td>retired,secondary</td>\n",
       "      <td>yes</td>\n",
       "      <td>no</td>\n",
       "      <td>no</td>\n",
       "      <td>no</td>\n",
       "      <td>cellular</td>\n",
       "      <td>17</td>\n",
       "      <td>nov, 2017</td>\n",
       "      <td>5</td>\n",
       "      <td>184</td>\n",
       "      <td>3</td>\n",
       "      <td>success</td>\n",
       "      <td>yes</td>\n",
       "      <td>18.783333</td>\n",
       "    </tr>\n",
       "    <tr>\n",
       "      <td>45209</td>\n",
       "      <td>45210</td>\n",
       "      <td>57</td>\n",
       "      <td>20000</td>\n",
       "      <td>668</td>\n",
       "      <td>married</td>\n",
       "      <td>blue-collar,secondary</td>\n",
       "      <td>yes</td>\n",
       "      <td>no</td>\n",
       "      <td>no</td>\n",
       "      <td>no</td>\n",
       "      <td>telephone</td>\n",
       "      <td>17</td>\n",
       "      <td>nov, 2017</td>\n",
       "      <td>4</td>\n",
       "      <td>-1</td>\n",
       "      <td>0</td>\n",
       "      <td>unknown</td>\n",
       "      <td>no</td>\n",
       "      <td>508.000000</td>\n",
       "    </tr>\n",
       "    <tr>\n",
       "      <td>45210</td>\n",
       "      <td>45211</td>\n",
       "      <td>37</td>\n",
       "      <td>120000</td>\n",
       "      <td>2971</td>\n",
       "      <td>married</td>\n",
       "      <td>entrepreneur,secondary</td>\n",
       "      <td>yes</td>\n",
       "      <td>no</td>\n",
       "      <td>no</td>\n",
       "      <td>no</td>\n",
       "      <td>cellular</td>\n",
       "      <td>17</td>\n",
       "      <td>nov, 2017</td>\n",
       "      <td>2</td>\n",
       "      <td>188</td>\n",
       "      <td>11</td>\n",
       "      <td>other</td>\n",
       "      <td>no</td>\n",
       "      <td>361.000000</td>\n",
       "    </tr>\n",
       "  </tbody>\n",
       "</table>\n",
       "<p>45049 rows × 19 columns</p>\n",
       "</div>"
      ],
      "text/plain": [
       "       Customer_ID  Age  Salary  Balance Marital_Status  \\\n",
       "0                1   58  100000     2143        married   \n",
       "1                2   44   60000       29         single   \n",
       "2                3   33  120000        2        married   \n",
       "3                4   47   20000     1506        married   \n",
       "4                5   33       0        1         single   \n",
       "...            ...  ...     ...      ...            ...   \n",
       "45206        45207   51   60000      825        married   \n",
       "45207        45208   71   55000     1729       divorced   \n",
       "45208        45209   72   55000     5715        married   \n",
       "45209        45210   57   20000      668        married   \n",
       "45210        45211   37  120000     2971        married   \n",
       "\n",
       "                Job_Education Target_Person Default Housing_Loan Normal_Loan  \\\n",
       "0         management,tertiary           yes      no          yes          no   \n",
       "1        technician,secondary           yes      no          yes          no   \n",
       "2      entrepreneur,secondary           yes      no          yes         yes   \n",
       "3         blue-collar,unknown            no      no          yes          no   \n",
       "4             unknown,unknown            no      no           no          no   \n",
       "...                       ...           ...     ...          ...         ...   \n",
       "45206     technician,tertiary           yes      no           no          no   \n",
       "45207         retired,primary           yes      no           no          no   \n",
       "45208       retired,secondary           yes      no           no          no   \n",
       "45209   blue-collar,secondary           yes      no           no          no   \n",
       "45210  entrepreneur,secondary           yes      no           no          no   \n",
       "\n",
       "      Contact_Type  Day Last_Contact_Month  Campaign  P-Days  Previous  \\\n",
       "0          unknown    5          may, 2017         1      -1         0   \n",
       "1          unknown    5          may, 2017         1      -1         0   \n",
       "2          unknown    5          may, 2017         1      -1         0   \n",
       "3          unknown    5          may, 2017         1      -1         0   \n",
       "4          unknown    5          may, 2017         1      -1         0   \n",
       "...            ...  ...                ...       ...     ...       ...   \n",
       "45206     cellular   17          nov, 2017         3      -1         0   \n",
       "45207     cellular   17          nov, 2017         2      -1         0   \n",
       "45208     cellular   17          nov, 2017         5     184         3   \n",
       "45209    telephone   17          nov, 2017         4      -1         0   \n",
       "45210     cellular   17          nov, 2017         2     188        11   \n",
       "\n",
       "      P_Outcome Response    Duration  \n",
       "0       unknown       no  261.000000  \n",
       "1       unknown       no  151.000000  \n",
       "2       unknown       no   76.000000  \n",
       "3       unknown       no   92.000000  \n",
       "4       unknown       no  198.000000  \n",
       "...         ...      ...         ...  \n",
       "45206   unknown      yes   16.283333  \n",
       "45207   unknown      yes  456.000000  \n",
       "45208   success      yes   18.783333  \n",
       "45209   unknown       no  508.000000  \n",
       "45210     other       no  361.000000  \n",
       "\n",
       "[45049 rows x 19 columns]"
      ]
     },
     "execution_count": 339,
     "metadata": {},
     "output_type": "execute_result"
    }
   ],
   "source": [
    "bank"
   ]
  },
  {
   "cell_type": "markdown",
   "metadata": {},
   "source": [
    "<b> OUTLIER DETECTION </b>"
   ]
  },
  {
   "cell_type": "markdown",
   "metadata": {},
   "source": [
    "<b> IDENTIFYING OUTLIERS IN NUMERIC COLUMNS </b>"
   ]
  },
  {
   "cell_type": "code",
   "execution_count": 340,
   "metadata": {},
   "outputs": [
    {
     "data": {
      "text/plain": [
       "<matplotlib.axes._subplots.AxesSubplot at 0x2209be795c8>"
      ]
     },
     "execution_count": 340,
     "metadata": {},
     "output_type": "execute_result"
    },
    {
     "data": {
      "image/png": "[encoded data removed]",
      "text/plain": [
       "<Figure size 432x288 with 1 Axes>"
      ]
     },
     "metadata": {
      "needs_background": "light"
     },
     "output_type": "display_data"
    }
   ],
   "source": [
    "sns.boxplot(bank['Age'])"
   ]
  },
  {
   "cell_type": "code",
   "execution_count": 341,
   "metadata": {},
   "outputs": [
    {
     "data": {
      "text/plain": [
       "<matplotlib.axes._subplots.AxesSubplot at 0x220a0382408>"
      ]
     },
     "execution_count": 341,
     "metadata": {},
     "output_type": "execute_result"
    },
    {
     "data": {
      "image/png": "[encoded data removed]",
      "text/plain": [
       "<Figure size 432x288 with 1 Axes>"
      ]
     },
     "metadata": {
      "needs_background": "light"
     },
     "output_type": "display_data"
    }
   ],
   "source": [
    "sns.boxplot(bank['Salary'])"
   ]
  },
  {
   "cell_type": "code",
   "execution_count": 342,
   "metadata": {},
   "outputs": [
    {
     "data": {
      "text/plain": [
       "<matplotlib.axes._subplots.AxesSubplot at 0x2209fef6408>"
      ]
     },
     "execution_count": 342,
     "metadata": {},
     "output_type": "execute_result"
    },
    {
     "data": {
      "image/png": "[encoded data removed]",
      "text/plain": [
       "<Figure size 432x288 with 1 Axes>"
      ]
     },
     "metadata": {
      "needs_background": "light"
     },
     "output_type": "display_data"
    }
   ],
   "source": [
    "sns.boxplot(bank['Balance'])"
   ]
  },
  {
   "cell_type": "code",
   "execution_count": 343,
   "metadata": {},
   "outputs": [
    {
     "data": {
      "text/plain": [
       "<matplotlib.axes._subplots.AxesSubplot at 0x2209d752488>"
      ]
     },
     "execution_count": 343,
     "metadata": {},
     "output_type": "execute_result"
    },
    {
     "data": {
      "image/png": "[encoded data removed]",
      "text/plain": [
       "<Figure size 432x288 with 1 Axes>"
      ]
     },
     "metadata": {
      "needs_background": "light"
     },
     "output_type": "display_data"
    }
   ],
   "source": [
    "sns.boxplot(bank['Day'])"
   ]
  },
  {
   "cell_type": "code",
   "execution_count": 344,
   "metadata": {},
   "outputs": [
    {
     "data": {
      "text/plain": [
       "<matplotlib.axes._subplots.AxesSubplot at 0x2209ff58448>"
      ]
     },
     "execution_count": 344,
     "metadata": {},
     "output_type": "execute_result"
    },
    {
     "data": {
      "image/png": "[encoded data removed]",
      "text/plain": [
       "<Figure size 432x288 with 1 Axes>"
      ]
     },
     "metadata": {
      "needs_background": "light"
     },
     "output_type": "display_data"
    }
   ],
   "source": [
    "sns.boxplot(bank['Duration'])"
   ]
  },
  {
   "cell_type": "markdown",
   "metadata": {},
   "source": [
    "<b> OBSERVATION:\n",
    "    <n>From the above Box plots, we can observe that outliers are present in AGE,BALANCE and DURATION. </b>"
   ]
  },
  {
   "cell_type": "markdown",
   "metadata": {},
   "source": [
    "<b> TREATING THE OUTLIERS BY USING Z-SCORE AND IQR </b>"
   ]
  },
  {
   "cell_type": "code",
   "execution_count": 345,
   "metadata": {
    "scrolled": true
   },
   "outputs": [
    {
     "name": "stdout",
     "output_type": "stream",
     "text": [
      "OUTLIERS :  [10635, 12223, 24598, 45248, 58544, 18722, 24299, 13308, 26765, 12061, 12482, 29312, 37378, 15801, 23189, 11317, 20718, 10749, 10600, 15740, 56831, 22370, 10576, 12269, 29887, 10561, 12210, 12697, 14752, 17983, 11697, 23867, 11512, 35368, 13156, 12961, 15341, 11149, 29050, 24870, 11423, 11315, 14692, 17946, 18347, 17455, 13849, 19343, 21111, 16957, 13186, 22867, 10865, 16232, 16173, 11417, 22008, 22171, 11269, 32948, 11953, 15578, 13761, 22755, 12956, 16992, 11804, 11528, 12855, 14481, 11743, 25741, 12159, 12531, 16063, 15511, 18904, 19797, 12917, 21096, 12282, 11615, 13683, 16402, 12686, 17964, 27733, 17891, 27359, 11222, 10787, 13052, 17036, 14363, 15442, 13360, 11464, 10855, 21515, 12848, 21861, 22018, 45141, 11146, 19850, 52499, 21574, 12001, 11671, 16430, 22928, 16431, 14000, 11016, 13242, 22856, 13698, 17413, 16917, 11516, 13117, 13893, 16843, 13089, 11084, 10957, 13551, 18188, 10638, 11787, 13292, 21292, 12180, 15352, 12581, 21664, 25824, 12877, 22946, 10721, 11265, 11008, 17361, 17957, 29125, 12130, 20541, 10662, 11972, 13501, 15477, 24055, 10984, 27069, 10724, 12186, 13494, 12276, 11285, 14902, 10786, 13054, 17339, 21522, 12245, 13718, -8019, 58932, 12389, 51439, 13229, 19447, 15437, 13160, 38279, 12939, 12731, 14058, 14611, 21963, 45789, 14004, 14054, 14930, 22557, 11532, 13930, 10685, 15561, 13315, 24312, 14530, 10628, 13265, 11254, 10621, 11310, 15681, 25290, 17410, 20584, 13818, 10655, 14190, 15515, 21244, 11391, 11655, 12438, 16922, 10888, 13118, 14922, 13021, 24780, 14282, 13189, 10757, 41923, 64343, 11754, 14355, 15904, 15298, 10950, 66721, 42045, 12928, 10772, 19348, 21510, 11971, 13338, 11797, 23917, 11835, 13834, 14093, 12409, 19213, 11563, 23919, 11431, 12531, 34646, 14215, 28433, 25947, 13238, 16377, 13410, 20479, 31868, 25856, 66653, 13763, 13044, 41630, 23876, 10639, 14148, 11821, 12177, 17206, 10500, 12584, 15302, 22546, 20794, 10890, 52527, 13156, 11305, 15449, 23495, 13165, 12766, 26394, 11126, 43074, 24450, 29230, 17555, 22815, 20261, 21614, 13099, 12519, 24556, 26254, 12026, 12857, 17432, 12226, 14107, 20187, 14282, 17092, 16264, 22341, 12061, 34247, 11650, 11971, 12839, 13342, 26575, 10888, 16517, 13931, 14412, 10653, 18777, 19850, 15520, 12845, 16786, 16397, 11591, 17655, 12569, 35589, 11887, 26172, 13853, 14232, 12539, 17455, 12437, 12256, 11766, 12409, 12223, 16869, 16358, 13044, 11246, 11524, 11281, 18268, 32948, 11494, 10995, 26306, 12675, 12618, 16430, 12737, 12212, 19358, 12048, 12855, 17008, 16486, 17769, 32464, 10697, 22452, 20600, 20527, 12159, 15062, 98417, 11391, 15169, 20727, 11462, 13620, 12634, 11675, 29484, 20138, 11512, 10834, 11386, 20451, 21522, 13204, 10735, 14387, 16119, 16489, 12705, 12686, 10667, 17672, 13836, 21854, 17056, 18558, 14355, 11350, 14679, 16649, 19796, 11839, 12270, 13711, 18508, 19391, 14462, 20580, 12519, 11998, 12132, 14144, 44128, 36935, 13818, 41242, 27446, 22196, 15474, 17118, 14440, 19343, 16125, 37176, 19313, 19447, 29207, 13489, 11222, 13015, 20179, 11391, 13851, 13354, 20932, 26254, 24498, 13578, 57435, 11287, 16178, 23663, 22520, 13901, 14522, 29397, 17924, 16236, 36221, 12704, 22125, 15120, 15423, 22569, 20798, 16992, 10536, 16957, 19833, 17418, 15161, 13297, 11093, 12939, 44134, 23494, 11371, 13565, 14889, 20772, 10613, 12495, 16649, 19102, 17747, 14344, 10600, 13874, 26721, 14850, 12857, 17946, 11298, 15261, 17609, 19985, 26306, 26831, 12114, 11862, 23878, 15459, 32685, 10768, 11385, 20727, 13408, 11891, 12926, 11767, 17441, 20806, 12159, 12039, 11555, 13849, 11066, 13669, 15485, 12048, 11387, 11174, 21446, 23663, 13654, 13546, 12519, 13156, 16727, 20011, 17332, 17335, 15341, 13683, 13562, 21024, 11968, 15841, 10925, 20723, 11115, 11371, 31630, 11632, 27696, 36686, 36252, 20453, 10907, 11278, 10884, 12857, 11766, 17946, 26575, 12686, 25204, 17946, 10924, 11639, 12839, 34230, 16125, 11757, 11103, 13054, 18254, 11686, 23552, 13186, 15035, 14657, 12130, 10558, 15030, 12392, 22546, 13711, 17924, 20928, 28318, 11177, 24598, 11350, 10910, 11971, 16874, 11854, 13460, 11752, 10773, 16563, 22171, 12198, 12607, 11219, 13094, 11862, 23878, 11303, 23076, 17964, 15485, 21088, 17023, 15459, 13107, 39098, 16873, 10758, 15161, 10768, 12322, 27624, 102127, 15445, 15787, 22086, 15187, 29184, 20585, 14533, 10583, 13164, 22856, 12956, 19690, 23592, 11904, 18016, 26452, 11008, 12767, 19317, 10532, 10861, 11115, 22867, 52587, 10884, 13297, 20422, 11219, 27696, 13014, 10776, 18111, 16432, 12607, 11766, 15265, 12972, 10905, 10596, 11862, 14170, 16517, 17875, 11262, 24277, 59649, 17964, 14220, 12569, 13887, 17739, 10943, 20585, 10583, 39385, 15834, 26233, 71188, 16873, 12039, 37378, 13669, 10889, 12067, 24025, 10925, 14646, 11115, 16935, 11240, 13578, 12401, 10541, 10861, 22867, 11862, 31630, 11891, 13658, 12018, 10788, 81204, 11303, 14533, 11387, 13546, 18967, 23421, 10541, 22867, 37127, 13014, 27696, 52587, 16432, 11219, 15265, 11494, 12980, 29340, 16517, 12409, 10583, 81204, 15834, 13107, 12264, 10596, 11766, 26965, 11115, 15311, 12067, 27696, 12356, 23047, 29941, 10971, 29080, 12569, 31472, 14968, 10861, 11650, 12067, 18931, 27696, 12980, 14352, 13774, 26306, 17458, 12264, 16873, 11862, 10861, 11115, 14204, 16353]\n",
      "738\n"
     ]
    }
   ],
   "source": [
    "outliers=[]\n",
    "def Zscore_outliers(bank):\n",
    "    m=np.mean(bank)\n",
    "    std=np.std(bank)\n",
    "    for i in bank:\n",
    "        Z=(i-m)/std\n",
    "        if np.abs(Z) > 3 :\n",
    "            outliers.append(i)\n",
    "    print(\"OUTLIERS : \",outliers)\n",
    "Zscore_outliers(bank['Balance'])\n",
    "print(len(outliers))"
   ]
  },
  {
   "cell_type": "markdown",
   "metadata": {},
   "source": [
    "<b> OBSERVATION:\n",
    "    \n",
    "    \n",
    "    From the z-score,we can observe that there are 738 outlier values.In  Order to remove that I am using IQR to impute MEDIAN values.\n",
    "    \n",
    " </b>"
   ]
  },
  {
   "cell_type": "code",
   "execution_count": 346,
   "metadata": {},
   "outputs": [
    {
     "data": {
      "image/png": "[encoded data removed]",
      "text/plain": [
       "<Figure size 432x288 with 1 Axes>"
      ]
     },
     "metadata": {
      "needs_background": "light"
     },
     "output_type": "display_data"
    },
    {
     "data": {
      "image/png": "[encoded data removed]",
      "text/plain": [
       "<Figure size 432x288 with 1 Axes>"
      ]
     },
     "metadata": {
      "needs_background": "light"
     },
     "output_type": "display_data"
    }
   ],
   "source": [
    "\n",
    "sns.boxplot(bank['Balance'])\n",
    "plt.title(\"Box Plot before median imputation\")\n",
    "plt.show()\n",
    "q1 = bank['Balance'].quantile(0.25)\n",
    "q3 = bank['Balance'].quantile(0.75)\n",
    "iqr = q3-q1\n",
    "Lower_tail = q1 - 1.5 * iqr\n",
    "Upper_tail = q3 + 1.5 * iqr\n",
    "med = np.median(bank['Balance'])\n",
    "for i in bank['Balance']:\n",
    "    if i > Upper_tail or i < Lower_tail:\n",
    "            bank['Balance'] = bank['Balance'].replace(i, med)\n",
    "sns.boxplot(bank['Balance'])\n",
    "plt.title(\"Box Plot after median imputation\")\n",
    "plt.show()            \n"
   ]
  },
  {
   "cell_type": "code",
   "execution_count": 347,
   "metadata": {},
   "outputs": [
    {
     "name": "stdout",
     "output_type": "stream",
     "text": [
      "OUTLIERS :  [83, 75, 75, 83, 75, 76, 83, 85, 90, 82, 73, 74, 75, 78, 85, 80, 78, 73, 75, 94, 83, 79, 78, 83, 73, 76, 83, 77, 73, 74, 73, 77, 80, 82, 75, 77, 78, 86, 76, 74, 77, 74, 79, 74, 78, 73, 73, 95, 74, 78, 75, 75, 82, 74, 81, 76, 75, 77, 73, 85, 83, 78, 73, 79, 80, 78, 79, 82, 81, 79, 79, 79, 73, 75, 75, 78, 75, 80, 80, 74, 73, 77, 79, 73, 80, 83, 73, 78, 81, 81, 74, 75, 82, 80, 76, 74, 74, 77, 77, 76, 74, 74, 73, 82, 77, 79, 89, 76, 81, 74, 73, 77, 84, 86, 76, 73, 74, 82, 83, 73, 73, 74, 78, 86, 76, 79, 81, 77, 73, 73, 74, 73, 76, 83, 80, 79, 77, 74, 84, 95, 77, 78, 79, 83, 83, 73, 77, 74, 83, 76, 73, 81, 80, 75, 74, 75, 77, 83, 81, 73, 74, 80, 76, 77, 74, 87, 76, 92, 78, 82, 78, 76, 73, 77, 76, 73, 82, 81, 80, 76, 74, 75, 80, 84, 87, 76, 78, 73, 78, 81, 76, 79, 73, 82, 77, 75, 76, 81, 77, 75, 74, 75, 78, 77, 83, 73, 81, 80, 80, 86, 79, 79, 87, 81, 75, 84, 78, 89, 73, 85, 87, 80, 81, 85, 79, 76, 74, 92, 77, 74, 81, 73, 76, 80, 82, 77, 76, 78, 77, 74, 76, 77, 80, 76, 76, 73, 84, 79, 77, 75, 76, 75, 75, 75, 77, 82, 80, 79, 78, 77, 74, 73, 90, 73, 83, 73, 76, 79, 75, 80, 77, 74, 82, 75, 86, 86, 77, 82, 80, 84, 86, 80, 78, 73, 80, 75, 73, 74, 76, 76, 73, 77, 80, 77, 76, 79, 77, 80, 74, 83, 80, 78, 78, 77, 75, 74, 79, 73, 84, 78, 78, 83, 80, 83, 73, 76, 75, 75, 77, 74, 80, 79, 74, 80, 79, 86, 73, 93, 82, 82, 77, 83, 80, 76, 78, 80, 93, 82, 79, 75, 77, 77, 75, 77, 75, 88, 83, 84, 77, 80, 84, 75, 83, 75, 74, 88, 74, 75, 78, 81, 82, 89, 81, 77, 79, 73, 75, 86, 75, 77, 77, 74, 73, 78, 78, 77, 75, 73]\n",
      "378\n"
     ]
    }
   ],
   "source": [
    "outliers=[]\n",
    "def Zscore_outliers(bank):\n",
    "    m=np.mean(bank)\n",
    "    std=np.std(bank)\n",
    "    for i in bank:\n",
    "        Z=(i-m)/std\n",
    "        if np.abs(Z) > 3 :\n",
    "            outliers.append(i)\n",
    "    print(\"OUTLIERS : \",outliers)\n",
    "Zscore_outliers(bank['Age'])\n",
    "print(len(outliers))"
   ]
  },
  {
   "cell_type": "code",
   "execution_count": 348,
   "metadata": {},
   "outputs": [
    {
     "data": {
      "image/png": "[encoded data removed]",
      "text/plain": [
       "<Figure size 432x288 with 1 Axes>"
      ]
     },
     "metadata": {
      "needs_background": "light"
     },
     "output_type": "display_data"
    },
    {
     "data": {
      "image/png": "[encoded data removed]",
      "text/plain": [
       "<Figure size 432x288 with 1 Axes>"
      ]
     },
     "metadata": {
      "needs_background": "light"
     },
     "output_type": "display_data"
    }
   ],
   "source": [
    "\n",
    "\n",
    "sns.boxplot(bank['Age'])\n",
    "plt.title(\"Box Plot before median imputation\")\n",
    "plt.show()\n",
    "q1 = bank['Age'].quantile(0.25)\n",
    "q3 = bank['Age'].quantile(0.75)\n",
    "iqr = q3-q1\n",
    "Lower_tail = q1 - 1.5 * iqr\n",
    "Upper_tail = q3 + 1.5 * iqr\n",
    "med = np.median(bank['Age'])\n",
    "for i in bank['Age']:\n",
    "    if i > Upper_tail or i < Lower_tail:\n",
    "            bank['Age'] = bank['Age'].replace(i, med)\n",
    "sns.boxplot(bank['Age'])\n",
    "plt.title(\"Box Plot after median imputation\")\n",
    "plt.show()            \n"
   ]
  },
  {
   "cell_type": "code",
   "execution_count": 349,
   "metadata": {},
   "outputs": [
    {
     "name": "stdout",
     "output_type": "stream",
     "text": [
      "OUTLIERS :  [1666.0, 1492.0, 787.0, 1778.0, 812.0, 1042.0, 1467.0, 1389.0, 849.0, 2033.0, 1056.0, 1077.0, 1419.0, 962.0, 808.0, 1201.0, 1030.0, 769.0, 765.0, 1623.0, 1677.0, 918.0, 1297.0, 1906.0, 802.0, 1597.0, 1529.0, 852.0, 923.0, 953.0, 1521.0, 800.0, 1138.0, 786.0, 799.0, 866.0, 1581.0, 1101.0, 912.0, 1062.0, 2177.0, 764.0, 1273.0, 1574.0, 984.0, 1689.0, 944.0, 1102.0, 943.0, 813.0, 1040.0, 1084.0, 923.0, 1119.0, 1120.0, 784.0, 1007.0, 982.0, 807.0, 2087.0, 1120.0, 956.0, 985.0, 1187.0, 826.0, 847.0, 772.0, 929.0, 2462.0, 825.0, 1028.0, 1087.0, 1692.0, 2016.0, 1054.0, 1170.0, 1713.0, 1461.0, 1178.0, 878.0, 834.0, 1534.0, 836.0, 1002.0, 1147.0, 820.0, 788.0, 832.0, 1495.0, 891.0, 1083.0, 1266.0, 793.0, 1727.0, 1875.0, 907.0, 1346.0, 1386.0, 3366.0, 1000.0, 2231.0, 1167.0, 806.0, 766.0, 1015.0, 768.0, 1001.0, 845.0, 853.0, 813.0, 916.0, 805.0, 901.0, 788.0, 851.0, 1052.0, 916.0, 771.0, 1106.0, 945.0, 816.0, 1721.0, 1032.0, 942.0, 832.0, 824.0, 1553.0, 1328.0, 1125.0, 858.0, 869.0, 833.0, 930.0, 829.0, 1028.0, 784.0, 850.0, 977.0, 927.0, 1044.0, 902.0, 2241.0, 1118.0, 1423.0, 1204.0, 1013.0, 1162.0, 1088.0, 1036.0, 1000.0, 1257.0, 1165.0, 920.0, 1244.0, 918.0, 815.0, 911.0, 973.0, 995.0, 920.0, 1224.0, 964.0, 1156.0, 1052.0, 1231.0, 1051.0, 1392.0, 1867.0, 1263.0, 770.0, 809.0, 850.0, 855.0, 875.0, 813.0, 803.0, 844.0, 1252.0, 1143.0, 803.0, 787.0, 1230.0, 767.0, 912.0, 894.0, 865.0, 1340.0, 897.0, 1161.0, 764.0, 788.0, 1128.0, 806.0, 1135.0, 1408.0, 827.0, 1297.0, 851.0, 1193.0, 1144.0, 1023.0, 1245.0, 1064.0, 1187.0, 882.0, 792.0, 943.0, 798.0, 1203.0, 1022.0, 1622.0, 967.0, 886.0, 1218.0, 3078.0, 1205.0, 1882.0, 1334.0, 775.0, 793.0, 1777.0, 774.0, 1452.0, 1376.0, 834.0, 1182.0, 1045.0, 999.0, 1063.0, 1410.0, 1287.0, 843.0, 919.0, 777.0, 1392.0, 905.0, 783.0, 1106.0, 872.0, 958.0, 951.0, 795.0, 828.0, 786.0, 1091.0, 1307.0, 836.0, 899.0, 857.0, 1681.0, 1409.0, 811.0, 1162.0, 1697.0, 860.0, 1094.0, 965.0, 987.0, 799.0, 935.0, 1161.0, 923.0, 1349.0, 1171.0, 785.0, 1073.0, 924.0, 911.0, 881.0, 811.0, 1003.0, 926.0, 824.0, 773.0, 1030.0, 922.0, 893.0, 777.0, 1438.0, 1015.0, 937.0, 1392.0, 1222.0, 1034.0, 1066.0, 897.0, 788.0, 1099.0, 974.0, 863.0, 1560.0, 880.0, 1234.0, 916.0, 895.0, 796.0, 912.0, 1272.0, 1446.0, 816.0, 896.0, 764.0, 777.0, 1063.0, 955.0, 1297.0, 1205.0, 1051.0, 776.0, 935.0, 953.0, 3094.0, 1224.0, 1168.0, 938.0, 1560.0, 861.0, 1210.0, 821.0, 1183.0, 806.0, 796.0, 860.0, 864.0, 882.0, 1730.0, 1277.0, 1196.0, 791.0, 1236.0, 1207.0, 936.0, 932.0, 882.0, 1059.0, 789.0, 792.0, 768.0, 764.0, 833.0, 1611.0, 1185.0, 814.0, 859.0, 1363.0, 1109.0, 828.0, 2260.0, 917.0, 867.0, 1133.0, 854.0, 855.0, 1269.0, 868.0, 827.0, 1097.0, 1500.0, 1236.0, 1212.0, 886.0, 1343.0, 812.0, 825.0, 1980.0, 888.0, 984.0, 833.0, 891.0, 1044.0, 1193.0, 1075.0, 1036.0, 815.0, 920.0, 1068.0, 966.0, 777.0, 826.0, 1576.0, 984.0, 1173.0, 963.0, 953.0, 941.0, 771.0, 1025.0, 825.0, 1045.0, 860.0, 768.0, 801.0, 2456.0, 788.0, 959.0, 1259.0, 1363.0, 816.0, 1030.0, 1516.0, 1336.0, 1138.0, 1242.0, 1141.0, 984.0, 1045.0, 1519.0, 767.0, 1449.0, 920.0, 833.0, 1224.0, 1181.0, 908.0, 773.0, 827.0, 812.0, 1167.0, 910.0, 1446.0, 1149.0, 1123.0, 1009.0, 1558.0, 1053.0, 1005.0, 1084.0, 1865.0, 817.0, 1302.0, 955.0, 1018.0, 805.0, 869.0, 884.0, 1121.0, 939.0, 1276.0, 1994.0, 862.0, 968.0, 800.0, 1041.0, 1288.0, 2653.0, 1085.0, 1330.0, 774.0, 1469.0, 1291.0, 1055.0, 772.0, 882.0, 1098.0, 901.0, 940.0, 1151.0, 3881.0, 952.0, 1137.0, 948.0, 878.0, 1159.0, 893.0, 916.0, 867.0, 886.0, 1199.0, 935.0, 950.0, 967.0, 952.0, 904.0, 1290.0, 850.0, 1010.0, 781.0, 885.0, 993.0, 1141.0, 1268.0, 1178.0, 773.0, 1243.0, 768.0, 1323.0, 1093.0, 1395.0, 1238.0, 1089.0, 1021.0, 1248.0, 2769.0, 1009.0, 881.0, 986.0, 1162.0, 1051.0, 1199.0, 1345.0, 775.0, 2621.0, 854.0, 847.0, 956.0, 979.0, 1208.0, 1365.0, 1062.0, 906.0, 835.0, 1029.0, 1528.0, 1487.0, 1540.0, 973.0, 1009.0, 1812.0, 1255.0, 802.0, 1195.0, 771.0, 1060.0, 1574.0, 2485.0, 1082.0, 824.0, 1135.0, 818.0, 810.0, 1007.0, 786.0, 1318.0, 922.0, 2028.0, 952.0, 834.0, 1017.0, 779.0, 835.0, 1012.0, 958.0, 2635.0, 1403.0, 973.0, 1467.0, 792.0, 911.0, 1210.0, 838.0, 1276.0, 1098.0, 1573.0, 1663.0, 1617.0, 1478.0, 825.0, 1422.0, 850.0, 1023.0, 808.0, 804.0, 1094.0, 1036.0, 1409.0, 988.0, 790.0, 3183.0, 856.0, 780.0, 1992.0, 1135.0, 957.0, 935.0, 1106.0, 840.0, 1576.0, 1044.0, 1434.0, 782.0, 1272.0, 1103.0, 889.0, 1200.0, 2201.0, 849.0, 1467.0, 973.0, 835.0, 1165.0, 830.0, 1046.0, 1767.0, 1082.0, 803.0, 764.0, 1027.0, 831.0, 1720.0, 819.0, 1061.0, 861.0, 1111.0, 1011.0, 1272.0, 781.0, 1486.0, 1242.0, 990.0, 1121.0, 1156.0, 869.0, 977.0, 1014.0, 1290.0, 799.0, 1439.0, 919.0, 1426.0, 901.0, 998.0, 1019.0, 783.0, 1102.0, 793.0, 804.0, 961.0, 982.0, 1341.0, 829.0, 2029.0, 1499.0, 834.0, 1399.0, 1187.0, 1097.0, 924.0, 812.0, 772.0, 891.0, 906.0, 1060.0]\n",
      "642\n"
     ]
    }
   ],
   "source": [
    "outliers=[]\n",
    "def Zscore_outliers(bank):\n",
    "    m=np.mean(bank)\n",
    "    std=np.std(bank)\n",
    "    for i in bank:\n",
    "        Z=(i-m)/std\n",
    "        if np.abs(Z) > 3 :\n",
    "            outliers.append(i)\n",
    "    print(\"OUTLIERS : \",outliers)\n",
    "Zscore_outliers(bank['Duration'])\n",
    "print(len(outliers))"
   ]
  },
  {
   "cell_type": "code",
   "execution_count": 350,
   "metadata": {},
   "outputs": [
    {
     "data": {
      "image/png": "[encoded data removed]",
      "text/plain": [
       "<Figure size 432x288 with 1 Axes>"
      ]
     },
     "metadata": {
      "needs_background": "light"
     },
     "output_type": "display_data"
    },
    {
     "data": {
      "image/png": "[encoded data removed]",
      "text/plain": [
       "<Figure size 432x288 with 1 Axes>"
      ]
     },
     "metadata": {
      "needs_background": "light"
     },
     "output_type": "display_data"
    }
   ],
   "source": [
    "\n",
    "\n",
    "sns.boxplot(bank['Duration'])\n",
    "plt.title(\"Box Plot before median imputation\")\n",
    "plt.show()\n",
    "q1 = bank['Duration'].quantile(0.25)\n",
    "q3 = bank['Duration'].quantile(0.75)\n",
    "iqr = q3-q1\n",
    "Lower_tail = q1 - 1.5 * iqr\n",
    "Upper_tail = q3 + 1.5 * iqr\n",
    "med = np.median(bank['Duration'])\n",
    "for i in bank['Duration']:\n",
    "    if i > Upper_tail or i < Lower_tail:\n",
    "            bank['Duration'] = bank['Duration'].replace(i, med)\n",
    "sns.boxplot(bank['Duration'])\n",
    "plt.title(\"Box Plot after median imputation\")\n",
    "plt.show()            \n"
   ]
  },
  {
   "cell_type": "markdown",
   "metadata": {},
   "source": [
    "<b> OVERALL OBSERVATION OF OUTLIERS:\n",
    "    \n",
    "    \n",
    "    from the above plots,We can observe that most of the outliers are removed than before treating them."
   ]
  },
  {
   "cell_type": "markdown",
   "metadata": {},
   "source": [
    "<b> EXPLORATORY DATA ANALYSIS(EDA) </b>"
   ]
  },
  {
   "cell_type": "code",
   "execution_count": 351,
   "metadata": {},
   "outputs": [
    {
     "data": {
      "text/html": [
       "<div>\n",
       "<style scoped>\n",
       "    .dataframe tbody tr th:only-of-type {\n",
       "        vertical-align: middle;\n",
       "    }\n",
       "\n",
       "    .dataframe tbody tr th {\n",
       "        vertical-align: top;\n",
       "    }\n",
       "\n",
       "    .dataframe thead th {\n",
       "        text-align: right;\n",
       "    }\n",
       "</style>\n",
       "<table border=\"1\" class=\"dataframe\">\n",
       "  <thead>\n",
       "    <tr style=\"text-align: right;\">\n",
       "      <th></th>\n",
       "      <th>Age</th>\n",
       "      <th>Salary</th>\n",
       "    </tr>\n",
       "  </thead>\n",
       "  <tbody>\n",
       "    <tr>\n",
       "      <td>0</td>\n",
       "      <td>58</td>\n",
       "      <td>100000</td>\n",
       "    </tr>\n",
       "    <tr>\n",
       "      <td>1</td>\n",
       "      <td>44</td>\n",
       "      <td>60000</td>\n",
       "    </tr>\n",
       "    <tr>\n",
       "      <td>3</td>\n",
       "      <td>47</td>\n",
       "      <td>20000</td>\n",
       "    </tr>\n",
       "    <tr>\n",
       "      <td>7</td>\n",
       "      <td>42</td>\n",
       "      <td>120000</td>\n",
       "    </tr>\n",
       "    <tr>\n",
       "      <td>8</td>\n",
       "      <td>58</td>\n",
       "      <td>55000</td>\n",
       "    </tr>\n",
       "    <tr>\n",
       "      <td>...</td>\n",
       "      <td>...</td>\n",
       "      <td>...</td>\n",
       "    </tr>\n",
       "    <tr>\n",
       "      <td>45194</td>\n",
       "      <td>59</td>\n",
       "      <td>100000</td>\n",
       "    </tr>\n",
       "    <tr>\n",
       "      <td>45195</td>\n",
       "      <td>68</td>\n",
       "      <td>55000</td>\n",
       "    </tr>\n",
       "    <tr>\n",
       "      <td>45201</td>\n",
       "      <td>53</td>\n",
       "      <td>100000</td>\n",
       "    </tr>\n",
       "    <tr>\n",
       "      <td>45206</td>\n",
       "      <td>51</td>\n",
       "      <td>60000</td>\n",
       "    </tr>\n",
       "    <tr>\n",
       "      <td>45209</td>\n",
       "      <td>57</td>\n",
       "      <td>20000</td>\n",
       "    </tr>\n",
       "  </tbody>\n",
       "</table>\n",
       "<p>19919 rows × 2 columns</p>\n",
       "</div>"
      ],
      "text/plain": [
       "       Age  Salary\n",
       "0       58  100000\n",
       "1       44   60000\n",
       "3       47   20000\n",
       "7       42  120000\n",
       "8       58   55000\n",
       "...    ...     ...\n",
       "45194   59  100000\n",
       "45195   68   55000\n",
       "45201   53  100000\n",
       "45206   51   60000\n",
       "45209   57   20000\n",
       "\n",
       "[19919 rows x 2 columns]"
      ]
     },
     "execution_count": 351,
     "metadata": {},
     "output_type": "execute_result"
    }
   ],
   "source": [
    "bank.loc[bank['Age'] > 40,['Age','Salary']]"
   ]
  },
  {
   "cell_type": "code",
   "execution_count": 352,
   "metadata": {},
   "outputs": [
    {
     "data": {
      "text/html": [
       "<div>\n",
       "<style scoped>\n",
       "    .dataframe tbody tr th:only-of-type {\n",
       "        vertical-align: middle;\n",
       "    }\n",
       "\n",
       "    .dataframe tbody tr th {\n",
       "        vertical-align: top;\n",
       "    }\n",
       "\n",
       "    .dataframe thead th {\n",
       "        text-align: right;\n",
       "    }\n",
       "</style>\n",
       "<table border=\"1\" class=\"dataframe\">\n",
       "  <thead>\n",
       "    <tr style=\"text-align: right;\">\n",
       "      <th></th>\n",
       "      <th>Age</th>\n",
       "      <th>Salary</th>\n",
       "    </tr>\n",
       "  </thead>\n",
       "  <tbody>\n",
       "    <tr>\n",
       "      <td>0</td>\n",
       "      <td>58</td>\n",
       "      <td>100000</td>\n",
       "    </tr>\n",
       "    <tr>\n",
       "      <td>5</td>\n",
       "      <td>35</td>\n",
       "      <td>100000</td>\n",
       "    </tr>\n",
       "    <tr>\n",
       "      <td>6</td>\n",
       "      <td>28</td>\n",
       "      <td>100000</td>\n",
       "    </tr>\n",
       "    <tr>\n",
       "      <td>21</td>\n",
       "      <td>56</td>\n",
       "      <td>100000</td>\n",
       "    </tr>\n",
       "    <tr>\n",
       "      <td>26</td>\n",
       "      <td>39</td>\n",
       "      <td>100000</td>\n",
       "    </tr>\n",
       "    <tr>\n",
       "      <td>...</td>\n",
       "      <td>...</td>\n",
       "      <td>...</td>\n",
       "    </tr>\n",
       "    <tr>\n",
       "      <td>45192</td>\n",
       "      <td>29</td>\n",
       "      <td>100000</td>\n",
       "    </tr>\n",
       "    <tr>\n",
       "      <td>45194</td>\n",
       "      <td>59</td>\n",
       "      <td>100000</td>\n",
       "    </tr>\n",
       "    <tr>\n",
       "      <td>45197</td>\n",
       "      <td>36</td>\n",
       "      <td>100000</td>\n",
       "    </tr>\n",
       "    <tr>\n",
       "      <td>45198</td>\n",
       "      <td>37</td>\n",
       "      <td>100000</td>\n",
       "    </tr>\n",
       "    <tr>\n",
       "      <td>45201</td>\n",
       "      <td>53</td>\n",
       "      <td>100000</td>\n",
       "    </tr>\n",
       "  </tbody>\n",
       "</table>\n",
       "<p>9442 rows × 2 columns</p>\n",
       "</div>"
      ],
      "text/plain": [
       "       Age  Salary\n",
       "0       58  100000\n",
       "5       35  100000\n",
       "6       28  100000\n",
       "21      56  100000\n",
       "26      39  100000\n",
       "...    ...     ...\n",
       "45192   29  100000\n",
       "45194   59  100000\n",
       "45197   36  100000\n",
       "45198   37  100000\n",
       "45201   53  100000\n",
       "\n",
       "[9442 rows x 2 columns]"
      ]
     },
     "execution_count": 352,
     "metadata": {},
     "output_type": "execute_result"
    }
   ],
   "source": [
    "bank.loc[bank['Salary'] == 100000 , ['Age','Salary']]"
   ]
  },
  {
   "cell_type": "code",
   "execution_count": 353,
   "metadata": {},
   "outputs": [
    {
     "data": {
      "text/html": [
       "<div>\n",
       "<style scoped>\n",
       "    .dataframe tbody tr th:only-of-type {\n",
       "        vertical-align: middle;\n",
       "    }\n",
       "\n",
       "    .dataframe tbody tr th {\n",
       "        vertical-align: top;\n",
       "    }\n",
       "\n",
       "    .dataframe thead th {\n",
       "        text-align: right;\n",
       "    }\n",
       "</style>\n",
       "<table border=\"1\" class=\"dataframe\">\n",
       "  <thead>\n",
       "    <tr style=\"text-align: right;\">\n",
       "      <th></th>\n",
       "      <th>Job_Education</th>\n",
       "      <th>Salary</th>\n",
       "    </tr>\n",
       "  </thead>\n",
       "  <tbody>\n",
       "    <tr>\n",
       "      <td>0</td>\n",
       "      <td>management,tertiary</td>\n",
       "      <td>100000</td>\n",
       "    </tr>\n",
       "    <tr>\n",
       "      <td>1</td>\n",
       "      <td>technician,secondary</td>\n",
       "      <td>60000</td>\n",
       "    </tr>\n",
       "    <tr>\n",
       "      <td>2</td>\n",
       "      <td>entrepreneur,secondary</td>\n",
       "      <td>120000</td>\n",
       "    </tr>\n",
       "    <tr>\n",
       "      <td>3</td>\n",
       "      <td>blue-collar,unknown</td>\n",
       "      <td>20000</td>\n",
       "    </tr>\n",
       "    <tr>\n",
       "      <td>4</td>\n",
       "      <td>unknown,unknown</td>\n",
       "      <td>0</td>\n",
       "    </tr>\n",
       "    <tr>\n",
       "      <td>...</td>\n",
       "      <td>...</td>\n",
       "      <td>...</td>\n",
       "    </tr>\n",
       "    <tr>\n",
       "      <td>45206</td>\n",
       "      <td>technician,tertiary</td>\n",
       "      <td>60000</td>\n",
       "    </tr>\n",
       "    <tr>\n",
       "      <td>45207</td>\n",
       "      <td>retired,primary</td>\n",
       "      <td>55000</td>\n",
       "    </tr>\n",
       "    <tr>\n",
       "      <td>45208</td>\n",
       "      <td>retired,secondary</td>\n",
       "      <td>55000</td>\n",
       "    </tr>\n",
       "    <tr>\n",
       "      <td>45209</td>\n",
       "      <td>blue-collar,secondary</td>\n",
       "      <td>20000</td>\n",
       "    </tr>\n",
       "    <tr>\n",
       "      <td>45210</td>\n",
       "      <td>entrepreneur,secondary</td>\n",
       "      <td>120000</td>\n",
       "    </tr>\n",
       "  </tbody>\n",
       "</table>\n",
       "<p>45049 rows × 2 columns</p>\n",
       "</div>"
      ],
      "text/plain": [
       "                Job_Education  Salary\n",
       "0         management,tertiary  100000\n",
       "1        technician,secondary   60000\n",
       "2      entrepreneur,secondary  120000\n",
       "3         blue-collar,unknown   20000\n",
       "4             unknown,unknown       0\n",
       "...                       ...     ...\n",
       "45206     technician,tertiary   60000\n",
       "45207         retired,primary   55000\n",
       "45208       retired,secondary   55000\n",
       "45209   blue-collar,secondary   20000\n",
       "45210  entrepreneur,secondary  120000\n",
       "\n",
       "[45049 rows x 2 columns]"
      ]
     },
     "execution_count": 353,
     "metadata": {},
     "output_type": "execute_result"
    }
   ],
   "source": [
    "bank.loc[:,['Job_Education','Salary']]"
   ]
  },
  {
   "cell_type": "code",
   "execution_count": 354,
   "metadata": {},
   "outputs": [
    {
     "data": {
      "text/html": [
       "<div>\n",
       "<style scoped>\n",
       "    .dataframe tbody tr th:only-of-type {\n",
       "        vertical-align: middle;\n",
       "    }\n",
       "\n",
       "    .dataframe tbody tr th {\n",
       "        vertical-align: top;\n",
       "    }\n",
       "\n",
       "    .dataframe thead th {\n",
       "        text-align: right;\n",
       "    }\n",
       "</style>\n",
       "<table border=\"1\" class=\"dataframe\">\n",
       "  <thead>\n",
       "    <tr style=\"text-align: right;\">\n",
       "      <th></th>\n",
       "      <th>Salary</th>\n",
       "      <th>Balance</th>\n",
       "    </tr>\n",
       "  </thead>\n",
       "  <tbody>\n",
       "    <tr>\n",
       "      <td>0</td>\n",
       "      <td>100000</td>\n",
       "      <td>2143</td>\n",
       "    </tr>\n",
       "    <tr>\n",
       "      <td>1</td>\n",
       "      <td>60000</td>\n",
       "      <td>29</td>\n",
       "    </tr>\n",
       "    <tr>\n",
       "      <td>2</td>\n",
       "      <td>120000</td>\n",
       "      <td>2</td>\n",
       "    </tr>\n",
       "    <tr>\n",
       "      <td>3</td>\n",
       "      <td>20000</td>\n",
       "      <td>1506</td>\n",
       "    </tr>\n",
       "    <tr>\n",
       "      <td>4</td>\n",
       "      <td>0</td>\n",
       "      <td>1</td>\n",
       "    </tr>\n",
       "    <tr>\n",
       "      <td>...</td>\n",
       "      <td>...</td>\n",
       "      <td>...</td>\n",
       "    </tr>\n",
       "    <tr>\n",
       "      <td>45206</td>\n",
       "      <td>60000</td>\n",
       "      <td>825</td>\n",
       "    </tr>\n",
       "    <tr>\n",
       "      <td>45207</td>\n",
       "      <td>55000</td>\n",
       "      <td>1729</td>\n",
       "    </tr>\n",
       "    <tr>\n",
       "      <td>45208</td>\n",
       "      <td>55000</td>\n",
       "      <td>448</td>\n",
       "    </tr>\n",
       "    <tr>\n",
       "      <td>45209</td>\n",
       "      <td>20000</td>\n",
       "      <td>668</td>\n",
       "    </tr>\n",
       "    <tr>\n",
       "      <td>45210</td>\n",
       "      <td>120000</td>\n",
       "      <td>2971</td>\n",
       "    </tr>\n",
       "  </tbody>\n",
       "</table>\n",
       "<p>45049 rows × 2 columns</p>\n",
       "</div>"
      ],
      "text/plain": [
       "       Salary  Balance\n",
       "0      100000     2143\n",
       "1       60000       29\n",
       "2      120000        2\n",
       "3       20000     1506\n",
       "4           0        1\n",
       "...       ...      ...\n",
       "45206   60000      825\n",
       "45207   55000     1729\n",
       "45208   55000      448\n",
       "45209   20000      668\n",
       "45210  120000     2971\n",
       "\n",
       "[45049 rows x 2 columns]"
      ]
     },
     "execution_count": 354,
     "metadata": {},
     "output_type": "execute_result"
    }
   ],
   "source": [
    "bank.loc[:,['Salary','Balance']]"
   ]
  },
  {
   "cell_type": "code",
   "execution_count": 355,
   "metadata": {},
   "outputs": [
    {
     "data": {
      "text/html": [
       "<div>\n",
       "<style scoped>\n",
       "    .dataframe tbody tr th:only-of-type {\n",
       "        vertical-align: middle;\n",
       "    }\n",
       "\n",
       "    .dataframe tbody tr th {\n",
       "        vertical-align: top;\n",
       "    }\n",
       "\n",
       "    .dataframe thead th {\n",
       "        text-align: right;\n",
       "    }\n",
       "</style>\n",
       "<table border=\"1\" class=\"dataframe\">\n",
       "  <thead>\n",
       "    <tr style=\"text-align: right;\">\n",
       "      <th></th>\n",
       "      <th>Balance</th>\n",
       "      <th>Marital_Status</th>\n",
       "    </tr>\n",
       "  </thead>\n",
       "  <tbody>\n",
       "    <tr>\n",
       "      <td>0</td>\n",
       "      <td>2143</td>\n",
       "      <td>married</td>\n",
       "    </tr>\n",
       "    <tr>\n",
       "      <td>1</td>\n",
       "      <td>29</td>\n",
       "      <td>single</td>\n",
       "    </tr>\n",
       "    <tr>\n",
       "      <td>2</td>\n",
       "      <td>2</td>\n",
       "      <td>married</td>\n",
       "    </tr>\n",
       "    <tr>\n",
       "      <td>3</td>\n",
       "      <td>1506</td>\n",
       "      <td>married</td>\n",
       "    </tr>\n",
       "    <tr>\n",
       "      <td>4</td>\n",
       "      <td>1</td>\n",
       "      <td>single</td>\n",
       "    </tr>\n",
       "    <tr>\n",
       "      <td>...</td>\n",
       "      <td>...</td>\n",
       "      <td>...</td>\n",
       "    </tr>\n",
       "    <tr>\n",
       "      <td>45206</td>\n",
       "      <td>825</td>\n",
       "      <td>married</td>\n",
       "    </tr>\n",
       "    <tr>\n",
       "      <td>45207</td>\n",
       "      <td>1729</td>\n",
       "      <td>divorced</td>\n",
       "    </tr>\n",
       "    <tr>\n",
       "      <td>45208</td>\n",
       "      <td>448</td>\n",
       "      <td>married</td>\n",
       "    </tr>\n",
       "    <tr>\n",
       "      <td>45209</td>\n",
       "      <td>668</td>\n",
       "      <td>married</td>\n",
       "    </tr>\n",
       "    <tr>\n",
       "      <td>45210</td>\n",
       "      <td>2971</td>\n",
       "      <td>married</td>\n",
       "    </tr>\n",
       "  </tbody>\n",
       "</table>\n",
       "<p>45049 rows × 2 columns</p>\n",
       "</div>"
      ],
      "text/plain": [
       "       Balance Marital_Status\n",
       "0         2143        married\n",
       "1           29         single\n",
       "2            2        married\n",
       "3         1506        married\n",
       "4            1         single\n",
       "...        ...            ...\n",
       "45206      825        married\n",
       "45207     1729       divorced\n",
       "45208      448        married\n",
       "45209      668        married\n",
       "45210     2971        married\n",
       "\n",
       "[45049 rows x 2 columns]"
      ]
     },
     "execution_count": 355,
     "metadata": {},
     "output_type": "execute_result"
    }
   ],
   "source": [
    "bank.loc[:,['Balance','Marital_Status']]"
   ]
  },
  {
   "cell_type": "code",
   "execution_count": 356,
   "metadata": {},
   "outputs": [
    {
     "data": {
      "text/html": [
       "<div>\n",
       "<style scoped>\n",
       "    .dataframe tbody tr th:only-of-type {\n",
       "        vertical-align: middle;\n",
       "    }\n",
       "\n",
       "    .dataframe tbody tr th {\n",
       "        vertical-align: top;\n",
       "    }\n",
       "\n",
       "    .dataframe thead th {\n",
       "        text-align: right;\n",
       "    }\n",
       "</style>\n",
       "<table border=\"1\" class=\"dataframe\">\n",
       "  <thead>\n",
       "    <tr style=\"text-align: right;\">\n",
       "      <th></th>\n",
       "      <th>Marital_Status</th>\n",
       "      <th>Balance</th>\n",
       "    </tr>\n",
       "  </thead>\n",
       "  <tbody>\n",
       "    <tr>\n",
       "      <td>1</td>\n",
       "      <td>single</td>\n",
       "      <td>29</td>\n",
       "    </tr>\n",
       "    <tr>\n",
       "      <td>4</td>\n",
       "      <td>single</td>\n",
       "      <td>1</td>\n",
       "    </tr>\n",
       "    <tr>\n",
       "      <td>6</td>\n",
       "      <td>single</td>\n",
       "      <td>447</td>\n",
       "    </tr>\n",
       "    <tr>\n",
       "      <td>9</td>\n",
       "      <td>single</td>\n",
       "      <td>593</td>\n",
       "    </tr>\n",
       "    <tr>\n",
       "      <td>11</td>\n",
       "      <td>single</td>\n",
       "      <td>390</td>\n",
       "    </tr>\n",
       "    <tr>\n",
       "      <td>...</td>\n",
       "      <td>...</td>\n",
       "      <td>...</td>\n",
       "    </tr>\n",
       "    <tr>\n",
       "      <td>45197</td>\n",
       "      <td>single</td>\n",
       "      <td>1511</td>\n",
       "    </tr>\n",
       "    <tr>\n",
       "      <td>45199</td>\n",
       "      <td>single</td>\n",
       "      <td>1475</td>\n",
       "    </tr>\n",
       "    <tr>\n",
       "      <td>45202</td>\n",
       "      <td>single</td>\n",
       "      <td>557</td>\n",
       "    </tr>\n",
       "    <tr>\n",
       "      <td>45203</td>\n",
       "      <td>single</td>\n",
       "      <td>113</td>\n",
       "    </tr>\n",
       "    <tr>\n",
       "      <td>45205</td>\n",
       "      <td>single</td>\n",
       "      <td>505</td>\n",
       "    </tr>\n",
       "  </tbody>\n",
       "</table>\n",
       "<p>12747 rows × 2 columns</p>\n",
       "</div>"
      ],
      "text/plain": [
       "      Marital_Status  Balance\n",
       "1             single       29\n",
       "4             single        1\n",
       "6             single      447\n",
       "9             single      593\n",
       "11            single      390\n",
       "...              ...      ...\n",
       "45197         single     1511\n",
       "45199         single     1475\n",
       "45202         single      557\n",
       "45203         single      113\n",
       "45205         single      505\n",
       "\n",
       "[12747 rows x 2 columns]"
      ]
     },
     "execution_count": 356,
     "metadata": {},
     "output_type": "execute_result"
    }
   ],
   "source": [
    "bank.loc[bank['Marital_Status'] == 'single' ,['Marital_Status','Balance']]"
   ]
  },
  {
   "cell_type": "code",
   "execution_count": 357,
   "metadata": {},
   "outputs": [
    {
     "data": {
      "text/html": [
       "<div>\n",
       "<style scoped>\n",
       "    .dataframe tbody tr th:only-of-type {\n",
       "        vertical-align: middle;\n",
       "    }\n",
       "\n",
       "    .dataframe tbody tr th {\n",
       "        vertical-align: top;\n",
       "    }\n",
       "\n",
       "    .dataframe thead th {\n",
       "        text-align: right;\n",
       "    }\n",
       "</style>\n",
       "<table border=\"1\" class=\"dataframe\">\n",
       "  <thead>\n",
       "    <tr style=\"text-align: right;\">\n",
       "      <th></th>\n",
       "      <th>Marital_Status</th>\n",
       "      <th>Balance</th>\n",
       "    </tr>\n",
       "  </thead>\n",
       "  <tbody>\n",
       "    <tr>\n",
       "      <td>0</td>\n",
       "      <td>married</td>\n",
       "      <td>2143</td>\n",
       "    </tr>\n",
       "    <tr>\n",
       "      <td>2</td>\n",
       "      <td>married</td>\n",
       "      <td>2</td>\n",
       "    </tr>\n",
       "    <tr>\n",
       "      <td>3</td>\n",
       "      <td>married</td>\n",
       "      <td>1506</td>\n",
       "    </tr>\n",
       "    <tr>\n",
       "      <td>5</td>\n",
       "      <td>married</td>\n",
       "      <td>231</td>\n",
       "    </tr>\n",
       "    <tr>\n",
       "      <td>8</td>\n",
       "      <td>married</td>\n",
       "      <td>121</td>\n",
       "    </tr>\n",
       "    <tr>\n",
       "      <td>...</td>\n",
       "      <td>...</td>\n",
       "      <td>...</td>\n",
       "    </tr>\n",
       "    <tr>\n",
       "      <td>45204</td>\n",
       "      <td>married</td>\n",
       "      <td>2850</td>\n",
       "    </tr>\n",
       "    <tr>\n",
       "      <td>45206</td>\n",
       "      <td>married</td>\n",
       "      <td>825</td>\n",
       "    </tr>\n",
       "    <tr>\n",
       "      <td>45208</td>\n",
       "      <td>married</td>\n",
       "      <td>448</td>\n",
       "    </tr>\n",
       "    <tr>\n",
       "      <td>45209</td>\n",
       "      <td>married</td>\n",
       "      <td>668</td>\n",
       "    </tr>\n",
       "    <tr>\n",
       "      <td>45210</td>\n",
       "      <td>married</td>\n",
       "      <td>2971</td>\n",
       "    </tr>\n",
       "  </tbody>\n",
       "</table>\n",
       "<p>27111 rows × 2 columns</p>\n",
       "</div>"
      ],
      "text/plain": [
       "      Marital_Status  Balance\n",
       "0            married     2143\n",
       "2            married        2\n",
       "3            married     1506\n",
       "5            married      231\n",
       "8            married      121\n",
       "...              ...      ...\n",
       "45204        married     2850\n",
       "45206        married      825\n",
       "45208        married      448\n",
       "45209        married      668\n",
       "45210        married     2971\n",
       "\n",
       "[27111 rows x 2 columns]"
      ]
     },
     "execution_count": 357,
     "metadata": {},
     "output_type": "execute_result"
    }
   ],
   "source": [
    "bank.loc[bank['Marital_Status'] == 'married' ,['Marital_Status','Balance']]"
   ]
  },
  {
   "cell_type": "code",
   "execution_count": 358,
   "metadata": {},
   "outputs": [
    {
     "data": {
      "text/html": [
       "<div>\n",
       "<style scoped>\n",
       "    .dataframe tbody tr th:only-of-type {\n",
       "        vertical-align: middle;\n",
       "    }\n",
       "\n",
       "    .dataframe tbody tr th {\n",
       "        vertical-align: top;\n",
       "    }\n",
       "\n",
       "    .dataframe thead th {\n",
       "        text-align: right;\n",
       "    }\n",
       "</style>\n",
       "<table border=\"1\" class=\"dataframe\">\n",
       "  <thead>\n",
       "    <tr style=\"text-align: right;\">\n",
       "      <th></th>\n",
       "      <th>Marital_Status</th>\n",
       "      <th>Balance</th>\n",
       "    </tr>\n",
       "  </thead>\n",
       "  <tbody>\n",
       "    <tr>\n",
       "      <td>7</td>\n",
       "      <td>divorced</td>\n",
       "      <td>2</td>\n",
       "    </tr>\n",
       "    <tr>\n",
       "      <td>10</td>\n",
       "      <td>divorced</td>\n",
       "      <td>270</td>\n",
       "    </tr>\n",
       "    <tr>\n",
       "      <td>35</td>\n",
       "      <td>divorced</td>\n",
       "      <td>63</td>\n",
       "    </tr>\n",
       "    <tr>\n",
       "      <td>38</td>\n",
       "      <td>divorced</td>\n",
       "      <td>506</td>\n",
       "    </tr>\n",
       "    <tr>\n",
       "      <td>40</td>\n",
       "      <td>divorced</td>\n",
       "      <td>2586</td>\n",
       "    </tr>\n",
       "    <tr>\n",
       "      <td>...</td>\n",
       "      <td>...</td>\n",
       "      <td>...</td>\n",
       "    </tr>\n",
       "    <tr>\n",
       "      <td>45146</td>\n",
       "      <td>divorced</td>\n",
       "      <td>780</td>\n",
       "    </tr>\n",
       "    <tr>\n",
       "      <td>45147</td>\n",
       "      <td>divorced</td>\n",
       "      <td>490</td>\n",
       "    </tr>\n",
       "    <tr>\n",
       "      <td>45177</td>\n",
       "      <td>divorced</td>\n",
       "      <td>1224</td>\n",
       "    </tr>\n",
       "    <tr>\n",
       "      <td>45191</td>\n",
       "      <td>divorced</td>\n",
       "      <td>448</td>\n",
       "    </tr>\n",
       "    <tr>\n",
       "      <td>45207</td>\n",
       "      <td>divorced</td>\n",
       "      <td>1729</td>\n",
       "    </tr>\n",
       "  </tbody>\n",
       "</table>\n",
       "<p>5191 rows × 2 columns</p>\n",
       "</div>"
      ],
      "text/plain": [
       "      Marital_Status  Balance\n",
       "7           divorced        2\n",
       "10          divorced      270\n",
       "35          divorced       63\n",
       "38          divorced      506\n",
       "40          divorced     2586\n",
       "...              ...      ...\n",
       "45146       divorced      780\n",
       "45147       divorced      490\n",
       "45177       divorced     1224\n",
       "45191       divorced      448\n",
       "45207       divorced     1729\n",
       "\n",
       "[5191 rows x 2 columns]"
      ]
     },
     "execution_count": 358,
     "metadata": {},
     "output_type": "execute_result"
    }
   ],
   "source": [
    "bank.loc[bank['Marital_Status'] == 'divorced' ,['Marital_Status','Balance']]"
   ]
  },
  {
   "cell_type": "code",
   "execution_count": 359,
   "metadata": {},
   "outputs": [
    {
     "data": {
      "text/html": [
       "<div>\n",
       "<style scoped>\n",
       "    .dataframe tbody tr th:only-of-type {\n",
       "        vertical-align: middle;\n",
       "    }\n",
       "\n",
       "    .dataframe tbody tr th {\n",
       "        vertical-align: top;\n",
       "    }\n",
       "\n",
       "    .dataframe thead th {\n",
       "        text-align: right;\n",
       "    }\n",
       "</style>\n",
       "<table border=\"1\" class=\"dataframe\">\n",
       "  <thead>\n",
       "    <tr style=\"text-align: right;\">\n",
       "      <th></th>\n",
       "      <th>Contact_Type</th>\n",
       "      <th>Duration</th>\n",
       "    </tr>\n",
       "  </thead>\n",
       "  <tbody>\n",
       "    <tr>\n",
       "      <td>12660</td>\n",
       "      <td>telephone</td>\n",
       "      <td>65.0</td>\n",
       "    </tr>\n",
       "    <tr>\n",
       "      <td>12663</td>\n",
       "      <td>telephone</td>\n",
       "      <td>141.0</td>\n",
       "    </tr>\n",
       "    <tr>\n",
       "      <td>12665</td>\n",
       "      <td>telephone</td>\n",
       "      <td>112.0</td>\n",
       "    </tr>\n",
       "    <tr>\n",
       "      <td>12674</td>\n",
       "      <td>telephone</td>\n",
       "      <td>304.0</td>\n",
       "    </tr>\n",
       "    <tr>\n",
       "      <td>12705</td>\n",
       "      <td>telephone</td>\n",
       "      <td>176.0</td>\n",
       "    </tr>\n",
       "    <tr>\n",
       "      <td>...</td>\n",
       "      <td>...</td>\n",
       "      <td>...</td>\n",
       "    </tr>\n",
       "    <tr>\n",
       "      <td>45141</td>\n",
       "      <td>telephone</td>\n",
       "      <td>207.0</td>\n",
       "    </tr>\n",
       "    <tr>\n",
       "      <td>45154</td>\n",
       "      <td>telephone</td>\n",
       "      <td>301.0</td>\n",
       "    </tr>\n",
       "    <tr>\n",
       "      <td>45166</td>\n",
       "      <td>telephone</td>\n",
       "      <td>394.0</td>\n",
       "    </tr>\n",
       "    <tr>\n",
       "      <td>45170</td>\n",
       "      <td>telephone</td>\n",
       "      <td>98.0</td>\n",
       "    </tr>\n",
       "    <tr>\n",
       "      <td>45209</td>\n",
       "      <td>telephone</td>\n",
       "      <td>508.0</td>\n",
       "    </tr>\n",
       "  </tbody>\n",
       "</table>\n",
       "<p>2891 rows × 2 columns</p>\n",
       "</div>"
      ],
      "text/plain": [
       "      Contact_Type  Duration\n",
       "12660    telephone      65.0\n",
       "12663    telephone     141.0\n",
       "12665    telephone     112.0\n",
       "12674    telephone     304.0\n",
       "12705    telephone     176.0\n",
       "...            ...       ...\n",
       "45141    telephone     207.0\n",
       "45154    telephone     301.0\n",
       "45166    telephone     394.0\n",
       "45170    telephone      98.0\n",
       "45209    telephone     508.0\n",
       "\n",
       "[2891 rows x 2 columns]"
      ]
     },
     "execution_count": 359,
     "metadata": {},
     "output_type": "execute_result"
    }
   ],
   "source": [
    "bank.loc[bank['Contact_Type']=='telephone',['Contact_Type',\"Duration\"]]"
   ]
  },
  {
   "cell_type": "markdown",
   "metadata": {},
   "source": [
    "<b> UNIVARIATE ANALYSIS"
   ]
  },
  {
   "cell_type": "code",
   "execution_count": 360,
   "metadata": {},
   "outputs": [
    {
     "data": {
      "text/plain": [
       "<matplotlib.axes._subplots.AxesSubplot at 0x220a1624c08>"
      ]
     },
     "execution_count": 360,
     "metadata": {},
     "output_type": "execute_result"
    },
    {
     "data": {
      "image/png": "[encoded data removed]",
      "text/plain": [
       "<Figure size 432x288 with 1 Axes>"
      ]
     },
     "metadata": {},
     "output_type": "display_data"
    }
   ],
   "source": [
    "bank.P_Outcome.value_counts().plot(kind='pie',autopct=\"%2f\")"
   ]
  },
  {
   "cell_type": "markdown",
   "metadata": {},
   "source": [
    "<b> OBSERVATION:\n",
    "     From the pie chart,most of the outcomes are unknown and less outcomes are the Success rates."
   ]
  },
  {
   "cell_type": "code",
   "execution_count": 361,
   "metadata": {},
   "outputs": [
    {
     "data": {
      "text/plain": [
       "<matplotlib.axes._subplots.AxesSubplot at 0x220a167b548>"
      ]
     },
     "execution_count": 361,
     "metadata": {},
     "output_type": "execute_result"
    },
    {
     "data": {
      "image/png": "[encoded data removed]",
      "text/plain": [
       "<Figure size 432x288 with 1 Axes>"
      ]
     },
     "metadata": {},
     "output_type": "display_data"
    }
   ],
   "source": [
    "bank.Marital_Status.value_counts().plot(kind='pie',autopct=\"%2f\")"
   ]
  },
  {
   "cell_type": "markdown",
   "metadata": {},
   "source": [
    "<b> Observation:\n",
    "    \n",
    "    From the pie chart,we can observe that most of the customers are Married and less are Divorced."
   ]
  },
  {
   "cell_type": "code",
   "execution_count": 362,
   "metadata": {},
   "outputs": [
    {
     "data": {
      "text/plain": [
       "<matplotlib.axes._subplots.AxesSubplot at 0x220a16c5a48>"
      ]
     },
     "execution_count": 362,
     "metadata": {},
     "output_type": "execute_result"
    },
    {
     "data": {
      "image/png": "[encoded data removed]",
      "text/plain": [
       "<Figure size 720x504 with 1 Axes>"
      ]
     },
     "metadata": {
      "needs_background": "light"
     },
     "output_type": "display_data"
    }
   ],
   "source": [
    "\n",
    "bank['Contact_Type'].value_counts().plot(kind='bar',figsize=(10,7))"
   ]
  },
  {
   "cell_type": "markdown",
   "metadata": {},
   "source": [
    "<b> OBSERVATION:\n",
    "    \n",
    "    From the above bar plot,we can observe that most of the calls are from CELLULAR type. "
   ]
  },
  {
   "cell_type": "code",
   "execution_count": 363,
   "metadata": {},
   "outputs": [
    {
     "data": {
      "text/plain": [
       "<matplotlib.axes._subplots.AxesSubplot at 0x220a1722f88>"
      ]
     },
     "execution_count": 363,
     "metadata": {},
     "output_type": "execute_result"
    },
    {
     "data": {
      "image/png": "[encoded data removed]",
      "text/plain": [
       "<Figure size 432x288 with 1 Axes>"
      ]
     },
     "metadata": {
      "needs_background": "light"
     },
     "output_type": "display_data"
    }
   ],
   "source": [
    "sns.barplot(data=bank,x= bank['Contact_Type'],y=bank['Duration'])"
   ]
  },
  {
   "cell_type": "markdown",
   "metadata": {},
   "source": [
    "<b> OBSERVATION:\n",
    "    \n",
    "    From the above plot,we can observe that the calls from UNKNOWN type are having maximum DURATION."
   ]
  },
  {
   "cell_type": "code",
   "execution_count": 364,
   "metadata": {},
   "outputs": [
    {
     "data": {
      "text/plain": [
       "<matplotlib.axes._subplots.AxesSubplot at 0x220a1bca6c8>"
      ]
     },
     "execution_count": 364,
     "metadata": {},
     "output_type": "execute_result"
    },
    {
     "data": {
      "image/png": "[encoded data removed]",
      "text/plain": [
       "<Figure size 432x288 with 1 Axes>"
      ]
     },
     "metadata": {
      "needs_background": "light"
     },
     "output_type": "display_data"
    }
   ],
   "source": [
    "sns.barplot(data=bank,x= bank['Marital_Status'],y=bank['Balance'])"
   ]
  },
  {
   "cell_type": "markdown",
   "metadata": {},
   "source": [
    "<b> OBSERVATION:\n",
    "    \n",
    "    From the above plot,we can observe that most of the balance are present in MARRIED people."
   ]
  },
  {
   "cell_type": "code",
   "execution_count": 365,
   "metadata": {},
   "outputs": [
    {
     "data": {
      "text/plain": [
       "<matplotlib.axes._subplots.AxesSubplot at 0x22098a28988>"
      ]
     },
     "execution_count": 365,
     "metadata": {},
     "output_type": "execute_result"
    },
    {
     "data": {
      "image/png": "[encoded data removed]",
      "text/plain": [
       "<Figure size 432x288 with 1 Axes>"
      ]
     },
     "metadata": {
      "needs_background": "light"
     },
     "output_type": "display_data"
    }
   ],
   "source": [
    "sns.distplot(bank['Salary'])"
   ]
  },
  {
   "cell_type": "markdown",
   "metadata": {},
   "source": [
    "<b> OBSERVATION:\n",
    "    \n",
    "    From the above plot,we can observe that most of the salaries are around 60K."
   ]
  },
  {
   "cell_type": "code",
   "execution_count": 366,
   "metadata": {},
   "outputs": [
    {
     "data": {
      "text/plain": [
       "<matplotlib.axes._subplots.AxesSubplot at 0x220a1be84c8>"
      ]
     },
     "execution_count": 366,
     "metadata": {},
     "output_type": "execute_result"
    },
    {
     "data": {
      "image/png": "[encoded data removed]",
      "text/plain": [
       "<Figure size 432x288 with 1 Axes>"
      ]
     },
     "metadata": {
      "needs_background": "light"
     },
     "output_type": "display_data"
    }
   ],
   "source": [
    "sns.violinplot(data=bank,x=\"Marital_Status\",y=\"Balance\")"
   ]
  },
  {
   "cell_type": "markdown",
   "metadata": {},
   "source": [
    "<b> OBSERVATION:\n",
    "    \n",
    "    \n",
    "    From the above plot,we can observe that single and married people are having high bank balance compare dto divorced people."
   ]
  },
  {
   "cell_type": "code",
   "execution_count": 367,
   "metadata": {},
   "outputs": [
    {
     "data": {
      "text/plain": [
       "(array([ 2465., 10947.,     0.,     0.,  7417., 13295.,     0.,     0.,\n",
       "         9442.,  1483.]),\n",
       " array([     0.,  12000.,  24000.,  36000.,  48000.,  60000.,  72000.,\n",
       "         84000.,  96000., 108000., 120000.]),\n",
       " <a list of 10 Patch objects>)"
      ]
     },
     "execution_count": 367,
     "metadata": {},
     "output_type": "execute_result"
    },
    {
     "data": {
      "image/png": "[encoded data removed]",
      "text/plain": [
       "<Figure size 432x288 with 1 Axes>"
      ]
     },
     "metadata": {
      "needs_background": "light"
     },
     "output_type": "display_data"
    }
   ],
   "source": [
    "plt.hist(bank['Salary'])"
   ]
  },
  {
   "cell_type": "markdown",
   "metadata": {},
   "source": [
    "<b> OBSERVATION:\n",
    "    \n",
    "    From the above plot,we can observe that most of the customers salaried are around 60K."
   ]
  },
  {
   "cell_type": "code",
   "execution_count": 368,
   "metadata": {},
   "outputs": [
    {
     "data": {
      "text/plain": [
       "<matplotlib.axes._subplots.AxesSubplot at 0x220a2c62088>"
      ]
     },
     "execution_count": 368,
     "metadata": {},
     "output_type": "execute_result"
    },
    {
     "data": {
      "image/png": "[encoded data removed]",
      "text/plain": [
       "<Figure size 720x504 with 1 Axes>"
      ]
     },
     "metadata": {
      "needs_background": "light"
     },
     "output_type": "display_data"
    }
   ],
   "source": [
    "bank['Job_Education'].value_counts().plot(kind='bar',figsize=(10,7))"
   ]
  },
  {
   "cell_type": "markdown",
   "metadata": {},
   "source": [
    "<b> OBSERVATION:\n",
    "    \n",
    "    From the above plot,we can observe that most people are from MANAGEMENT TERTIARY and the least are UNEMPLOYED"
   ]
  },
  {
   "cell_type": "code",
   "execution_count": 369,
   "metadata": {},
   "outputs": [
    {
     "data": {
      "text/plain": [
       "<matplotlib.axes._subplots.AxesSubplot at 0x220a1573e88>"
      ]
     },
     "execution_count": 369,
     "metadata": {},
     "output_type": "execute_result"
    },
    {
     "data": {
      "image/png": "[encoded data removed]",
      "text/plain": [
       "<Figure size 720x504 with 1 Axes>"
      ]
     },
     "metadata": {
      "needs_background": "light"
     },
     "output_type": "display_data"
    }
   ],
   "source": [
    "bank['Marital_Status'].value_counts().plot(kind='bar',figsize=(10,7))"
   ]
  },
  {
   "cell_type": "markdown",
   "metadata": {},
   "source": [
    "<b> OBSERVATION:\n",
    "    \n",
    "    \n",
    "    \n",
    "    \n",
    "    From the above plot,we can observe that most of the customers are Married people."
   ]
  },
  {
   "cell_type": "code",
   "execution_count": 370,
   "metadata": {},
   "outputs": [
    {
     "data": {
      "text/plain": [
       "<matplotlib.axes._subplots.AxesSubplot at 0x220a15457c8>"
      ]
     },
     "execution_count": 370,
     "metadata": {},
     "output_type": "execute_result"
    },
    {
     "data": {
      "image/png": "[encoded data removed]",
      "text/plain": [
       "<Figure size 432x288 with 1 Axes>"
      ]
     },
     "metadata": {
      "needs_background": "light"
     },
     "output_type": "display_data"
    }
   ],
   "source": [
    "bank['Balance'].plot(kind='kde')"
   ]
  },
  {
   "cell_type": "markdown",
   "metadata": {},
   "source": [
    "<b> OBSERVATION:\n",
    "\n",
    "\n",
    "From the above plot,we can observe that most of the bank balances are in the range from 0 to 20000"
   ]
  },
  {
   "cell_type": "code",
   "execution_count": 371,
   "metadata": {},
   "outputs": [
    {
     "data": {
      "text/plain": [
       "<matplotlib.axes._subplots.AxesSubplot at 0x220a147da48>"
      ]
     },
     "execution_count": 371,
     "metadata": {},
     "output_type": "execute_result"
    },
    {
     "data": {
      "image/png": "[encoded data removed]",
      "text/plain": [
       "<Figure size 432x288 with 1 Axes>"
      ]
     },
     "metadata": {
      "needs_background": "light"
     },
     "output_type": "display_data"
    }
   ],
   "source": [
    "bank.Housing_Loan.value_counts().plot(kind='bar')"
   ]
  },
  {
   "cell_type": "markdown",
   "metadata": {},
   "source": [
    "<b> OBSERVATION:\n",
    "    \n",
    "    \n",
    "    From the above plot,we can observe that most of the loans are taken by the customers are Housing loans."
   ]
  },
  {
   "cell_type": "code",
   "execution_count": 372,
   "metadata": {},
   "outputs": [
    {
     "data": {
      "text/plain": [
       "<matplotlib.axes._subplots.AxesSubplot at 0x220a0333808>"
      ]
     },
     "execution_count": 372,
     "metadata": {},
     "output_type": "execute_result"
    },
    {
     "data": {
      "image/png": "[encoded data removed]",
      "text/plain": [
       "<Figure size 432x288 with 1 Axes>"
      ]
     },
     "metadata": {
      "needs_background": "light"
     },
     "output_type": "display_data"
    }
   ],
   "source": [
    "bank.Normal_Loan.value_counts().plot(kind='bar')"
   ]
  },
  {
   "cell_type": "markdown",
   "metadata": {},
   "source": [
    "<b> OBSERVATION:\n",
    "    \n",
    "    \n",
    "    \n",
    "   From the above plot,we can observe that there are less number of customers taken by the normal loans."
   ]
  },
  {
   "cell_type": "code",
   "execution_count": 373,
   "metadata": {},
   "outputs": [
    {
     "data": {
      "text/plain": [
       "<matplotlib.axes._subplots.AxesSubplot at 0x220a0888948>"
      ]
     },
     "execution_count": 373,
     "metadata": {},
     "output_type": "execute_result"
    },
    {
     "data": {
      "image/png": "[encoded data removed]",
      "text/plain": [
       "<Figure size 432x288 with 1 Axes>"
      ]
     },
     "metadata": {
      "needs_background": "light"
     },
     "output_type": "display_data"
    }
   ],
   "source": [
    "sns.pointplot(data=bank,x='Response',y='Duration')"
   ]
  },
  {
   "cell_type": "markdown",
   "metadata": {},
   "source": [
    "<b> OBSERVATION:\n",
    "    \n",
    "    From the above plot,we can observe that if Response is high,Duration time is also high."
   ]
  },
  {
   "cell_type": "code",
   "execution_count": 374,
   "metadata": {},
   "outputs": [
    {
     "data": {
      "text/plain": [
       "<matplotlib.axes._subplots.AxesSubplot at 0x220a1517188>"
      ]
     },
     "execution_count": 374,
     "metadata": {},
     "output_type": "execute_result"
    },
    {
     "data": {
      "image/png": "[encoded data removed]",
      "text/plain": [
       "<Figure size 432x288 with 1 Axes>"
      ]
     },
     "metadata": {
      "needs_background": "light"
     },
     "output_type": "display_data"
    }
   ],
   "source": [
    "bank.Last_Contact_Month.value_counts().plot(kind='bar')"
   ]
  },
  {
   "cell_type": "markdown",
   "metadata": {},
   "source": [
    "<b> OBSERVATION:\n",
    "    \n",
    "    \n",
    "    From the above plot,we can identify that most of the customers are lastly contacted in the month may,2017."
   ]
  },
  {
   "cell_type": "markdown",
   "metadata": {},
   "source": [
    "<b> BIVARIATE ANALYSIS"
   ]
  },
  {
   "cell_type": "code",
   "execution_count": 375,
   "metadata": {},
   "outputs": [
    {
     "data": {
      "text/plain": [
       "<matplotlib.axes._subplots.AxesSubplot at 0x220a43c5548>"
      ]
     },
     "execution_count": 375,
     "metadata": {},
     "output_type": "execute_result"
    },
    {
     "data": {
      "image/png": "[encoded data removed]",
      "text/plain": [
       "<Figure size 432x288 with 1 Axes>"
      ]
     },
     "metadata": {
      "needs_background": "light"
     },
     "output_type": "display_data"
    }
   ],
   "source": [
    "sns.scatterplot(data=bank,y=bank['Marital_Status'],x=bank['Balance'])"
   ]
  },
  {
   "cell_type": "code",
   "execution_count": 376,
   "metadata": {},
   "outputs": [
    {
     "data": {
      "text/plain": [
       "<matplotlib.axes._subplots.AxesSubplot at 0x220a4419688>"
      ]
     },
     "execution_count": 376,
     "metadata": {},
     "output_type": "execute_result"
    },
    {
     "data": {
      "image/png": "[encoded data removed]",
      "text/plain": [
       "<Figure size 432x288 with 1 Axes>"
      ]
     },
     "metadata": {
      "needs_background": "light"
     },
     "output_type": "display_data"
    }
   ],
   "source": [
    "sns.boxplot(data=bank,y=bank['Balance'],x=bank['Salary'])"
   ]
  },
  {
   "cell_type": "markdown",
   "metadata": {},
   "source": [
    "<b> Observation:\n",
    "     From the above plot,most of the balances are from 0 to 20k and maximum salaries are around 55k."
   ]
  },
  {
   "cell_type": "code",
   "execution_count": 377,
   "metadata": {},
   "outputs": [],
   "source": [
    "\n",
    " correlation = bank.corr()"
   ]
  },
  {
   "cell_type": "code",
   "execution_count": 378,
   "metadata": {},
   "outputs": [
    {
     "data": {
      "text/plain": [
       "<matplotlib.axes._subplots.AxesSubplot at 0x220a500c3c8>"
      ]
     },
     "execution_count": 378,
     "metadata": {},
     "output_type": "execute_result"
    },
    {
     "data": {
      "image/png": "[encoded data removed]",
      "text/plain": [
       "<Figure size 432x288 with 2 Axes>"
      ]
     },
     "metadata": {
      "needs_background": "light"
     },
     "output_type": "display_data"
    }
   ],
   "source": [
    "sns.heatmap(data=correlation,annot= True)"
   ]
  },
  {
   "cell_type": "markdown",
   "metadata": {},
   "source": [
    "<b> OBSERVATION\n",
    "    \n",
    "    \n",
    "    From the heat map,we can observe that there are not highly correlated."
   ]
  },
  {
   "cell_type": "code",
   "execution_count": 379,
   "metadata": {},
   "outputs": [],
   "source": [
    "import pandas as pd\n",
    "import numpy as np\n",
    "import matplotlib.pyplot as plt\n",
    "\n",
    "from scipy.stats import chi2\n",
    "from scipy.stats import chi2_contingency"
   ]
  },
  {
   "cell_type": "code",
   "execution_count": 380,
   "metadata": {},
   "outputs": [
    {
     "data": {
      "text/html": [
       "<div>\n",
       "<style scoped>\n",
       "    .dataframe tbody tr th:only-of-type {\n",
       "        vertical-align: middle;\n",
       "    }\n",
       "\n",
       "    .dataframe tbody tr th {\n",
       "        vertical-align: top;\n",
       "    }\n",
       "\n",
       "    .dataframe thead th {\n",
       "        text-align: right;\n",
       "    }\n",
       "</style>\n",
       "<table border=\"1\" class=\"dataframe\">\n",
       "  <thead>\n",
       "    <tr style=\"text-align: right;\">\n",
       "      <th>Response</th>\n",
       "      <th>no</th>\n",
       "      <th>yes</th>\n",
       "      <th>All</th>\n",
       "    </tr>\n",
       "    <tr>\n",
       "      <th>P_Outcome</th>\n",
       "      <th></th>\n",
       "      <th></th>\n",
       "      <th></th>\n",
       "    </tr>\n",
       "  </thead>\n",
       "  <tbody>\n",
       "    <tr>\n",
       "      <td>failure</td>\n",
       "      <td>4272</td>\n",
       "      <td>615</td>\n",
       "      <td>4887</td>\n",
       "    </tr>\n",
       "    <tr>\n",
       "      <td>other</td>\n",
       "      <td>1532</td>\n",
       "      <td>307</td>\n",
       "      <td>1839</td>\n",
       "    </tr>\n",
       "    <tr>\n",
       "      <td>success</td>\n",
       "      <td>531</td>\n",
       "      <td>972</td>\n",
       "      <td>1503</td>\n",
       "    </tr>\n",
       "    <tr>\n",
       "      <td>unknown</td>\n",
       "      <td>33448</td>\n",
       "      <td>3372</td>\n",
       "      <td>36820</td>\n",
       "    </tr>\n",
       "    <tr>\n",
       "      <td>All</td>\n",
       "      <td>39783</td>\n",
       "      <td>5266</td>\n",
       "      <td>45049</td>\n",
       "    </tr>\n",
       "  </tbody>\n",
       "</table>\n",
       "</div>"
      ],
      "text/plain": [
       "Response      no   yes    All\n",
       "P_Outcome                    \n",
       "failure     4272   615   4887\n",
       "other       1532   307   1839\n",
       "success      531   972   1503\n",
       "unknown    33448  3372  36820\n",
       "All        39783  5266  45049"
      ]
     },
     "execution_count": 380,
     "metadata": {},
     "output_type": "execute_result"
    }
   ],
   "source": [
    "pd.crosstab(bank.P_Outcome, bank.Response ,margins=True)"
   ]
  },
  {
   "cell_type": "code",
   "execution_count": 381,
   "metadata": {},
   "outputs": [
    {
     "data": {
      "text/html": [
       "<div>\n",
       "<style scoped>\n",
       "    .dataframe tbody tr th:only-of-type {\n",
       "        vertical-align: middle;\n",
       "    }\n",
       "\n",
       "    .dataframe tbody tr th {\n",
       "        vertical-align: top;\n",
       "    }\n",
       "\n",
       "    .dataframe thead th {\n",
       "        text-align: right;\n",
       "    }\n",
       "</style>\n",
       "<table border=\"1\" class=\"dataframe\">\n",
       "  <thead>\n",
       "    <tr style=\"text-align: right;\">\n",
       "      <th>Response</th>\n",
       "      <th>no</th>\n",
       "      <th>yes</th>\n",
       "    </tr>\n",
       "    <tr>\n",
       "      <th>P_Outcome</th>\n",
       "      <th></th>\n",
       "      <th></th>\n",
       "    </tr>\n",
       "  </thead>\n",
       "  <tbody>\n",
       "    <tr>\n",
       "      <td>failure</td>\n",
       "      <td>4272</td>\n",
       "      <td>615</td>\n",
       "    </tr>\n",
       "    <tr>\n",
       "      <td>other</td>\n",
       "      <td>1532</td>\n",
       "      <td>307</td>\n",
       "    </tr>\n",
       "    <tr>\n",
       "      <td>success</td>\n",
       "      <td>531</td>\n",
       "      <td>972</td>\n",
       "    </tr>\n",
       "    <tr>\n",
       "      <td>unknown</td>\n",
       "      <td>33448</td>\n",
       "      <td>3372</td>\n",
       "    </tr>\n",
       "  </tbody>\n",
       "</table>\n",
       "</div>"
      ],
      "text/plain": [
       "Response      no   yes\n",
       "P_Outcome             \n",
       "failure     4272   615\n",
       "other       1532   307\n",
       "success      531   972\n",
       "unknown    33448  3372"
      ]
     },
     "execution_count": 381,
     "metadata": {},
     "output_type": "execute_result"
    }
   ],
   "source": [
    "observed = pd.crosstab(bank.P_Outcome, bank.Response)\n",
    "\n",
    "observed"
   ]
  },
  {
   "cell_type": "code",
   "execution_count": 382,
   "metadata": {},
   "outputs": [
    {
     "data": {
      "text/plain": [
       "(4363.86782977287, 0.0, 3, array([[ 4315.73444472,   571.26555528],\n",
       "        [ 1624.03021155,   214.96978845],\n",
       "        [ 1327.30691025,   175.69308975],\n",
       "        [32515.92843348,  4304.07156652]]))"
      ]
     },
     "execution_count": 382,
     "metadata": {},
     "output_type": "execute_result"
    }
   ],
   "source": [
    "# chi2_contigency returns chi2 test statistic, p-value, degree of freedoms, expected frequencies\n",
    "\n",
    "chi2_contingency(observed)"
   ]
  },
  {
   "cell_type": "code",
   "execution_count": 383,
   "metadata": {},
   "outputs": [],
   "source": [
    "# Computing chi2 test statistic, p-value, degree of freedoms\n",
    "\n",
    "chi2_test_stat = chi2_contingency(observed)[0]\n",
    "pval = chi2_contingency(observed)[1]\n",
    "Degrees_Of_Freedom = chi2_contingency(observed)[2]"
   ]
  },
  {
   "cell_type": "code",
   "execution_count": 384,
   "metadata": {},
   "outputs": [
    {
     "data": {
      "text/plain": [
       "6.251388631170325"
      ]
     },
     "execution_count": 384,
     "metadata": {},
     "output_type": "execute_result"
    }
   ],
   "source": [
    "alpha = 1 - 0.90\n",
    "\n",
    "chi2_critical = chi2.ppf(1 - alpha, Degrees_Of_Freedom)\n",
    "\n",
    "chi2_critical\n"
   ]
  },
  {
   "cell_type": "code",
   "execution_count": 385,
   "metadata": {},
   "outputs": [
    {
     "data": {
      "text/plain": [
       "<matplotlib.collections.PolyCollection at 0x220a5474c88>"
      ]
     },
     "execution_count": 385,
     "metadata": {},
     "output_type": "execute_result"
    },
    {
     "data": {
      "image/png": "[encoded data removed]",
      "text/plain": [
       "<Figure size 432x288 with 1 Axes>"
      ]
     },
     "metadata": {
      "needs_background": "light"
     },
     "output_type": "display_data"
    }
   ],
   "source": [
    "# Ploting the chi2 distribution to visualise\n",
    "\n",
    "# Defining the x minimum and x maximum\n",
    "x_min = 0\n",
    "x_max = 100\n",
    "\n",
    "# Ploting the graph and setting the x limits\n",
    "x = np.linspace(x_min, x_max, 100)\n",
    "y = chi2.pdf(x, Degrees_Of_Freedom)\n",
    "plt.xlim(x_min, x_max)\n",
    "plt.plot(x, y)\n",
    "\n",
    "\n",
    "# Setting Chi2 Critical value \n",
    "chi2_critical_right = chi2_critical\n",
    "\n",
    "# Shading the right rejection region\n",
    "x1 = np.linspace(chi2_critical_right, x_max, 100)\n",
    "y1 = chi2.pdf(x1, Degrees_Of_Freedom)\n",
    "plt.fill_between(x1, y1, color='black')\n"
   ]
  },
  {
   "cell_type": "code",
   "execution_count": 386,
   "metadata": {},
   "outputs": [
    {
     "name": "stdout",
     "output_type": "stream",
     "text": [
      "Reject Null Hypothesis\n"
     ]
    }
   ],
   "source": [
    "if(chi2_test_stat > chi2_critical):\n",
    "    print(\"Reject Null Hypothesis\")\n",
    "else:\n",
    "    print(\"Fail to Reject Null Hypothesis\")"
   ]
  },
  {
   "cell_type": "code",
   "execution_count": 387,
   "metadata": {},
   "outputs": [
    {
     "name": "stdout",
     "output_type": "stream",
     "text": [
      "Reject Null Hypothesis\n"
     ]
    }
   ],
   "source": [
    "if(pval < alpha):\n",
    "    print(\"Reject Null Hypothesis\")\n",
    "else:\n",
    "    print(\"Fail to Reject Null Hypothesis\")\n"
   ]
  },
  {
   "cell_type": "markdown",
   "metadata": {},
   "source": [
    "<b> TOTAL OBSERVATION:\n",
    "    \n",
    "   1. The variables are dependent on each other i.e Marketing Campaign and Response.\n",
    "   2. Most of the calls are from CELLULAR phones and calls durations are high in UNKNOWN type.\n",
    "   3. Most of the loans taken by the customers are Housing loans."
   ]
  },
  {
   "cell_type": "code",
   "execution_count": null,
   "metadata": {},
   "outputs": [],
   "source": []
  },
  {
   "cell_type": "code",
   "execution_count": null,
   "metadata": {},
   "outputs": [],
   "source": []
  },
  {
   "cell_type": "code",
   "execution_count": null,
   "metadata": {},
   "outputs": [],
   "source": []
  }
 ],
 "metadata": {
  "kernelspec": {
   "display_name": "Python 3",
   "language": "python",
   "name": "python3"
  },
  "language_info": {
   "codemirror_mode": {
    "name": "ipython",
    "version": 3
   },
   "file_extension": ".py",
   "mimetype": "text/x-python",
   "name": "python",
   "nbconvert_exporter": "python",
   "pygments_lexer": "ipython3",
   "version": "3.7.4"
  }
 },
 "nbformat": 4,
 "nbformat_minor": 2
}
